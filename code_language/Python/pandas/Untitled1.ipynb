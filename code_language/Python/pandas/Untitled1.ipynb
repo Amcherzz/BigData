{
 "cells": [
  {
   "cell_type": "code",
   "execution_count": 15,
   "id": "d43cab9c",
   "metadata": {},
   "outputs": [
    {
     "data": {
      "text/plain": [
       "pandas.core.series.Series"
      ]
     },
     "execution_count": 15,
     "metadata": {},
     "output_type": "execute_result"
    }
   ],
   "source": [
    "import pandas as pd\n",
    "# 创建一维数组 Series 带标签的数组 索引\n",
    "t= pd.Series([1,2,3,4,5,6,7,8,9])\n",
    "\n",
    "type(t)"
   ]
  },
  {
   "cell_type": "code",
   "execution_count": 3,
   "id": "f33eb207",
   "metadata": {},
   "outputs": [
    {
     "data": {
      "text/plain": [
       "0    1\n",
       "1    2\n",
       "2    3\n",
       "3    4\n",
       "4    5\n",
       "5    6\n",
       "6    7\n",
       "7    8\n",
       "8    9\n",
       "dtype: int64"
      ]
     },
     "execution_count": 3,
     "metadata": {},
     "output_type": "execute_result"
    }
   ],
   "source": [
    "t"
   ]
  },
  {
   "cell_type": "code",
   "execution_count": 4,
   "id": "9d0b6f69",
   "metadata": {},
   "outputs": [
    {
     "data": {
      "text/plain": [
       "a    1\n",
       "b    2\n",
       "c    3\n",
       "d    4\n",
       "e    5\n",
       "dtype: int64"
      ]
     },
     "execution_count": 4,
     "metadata": {},
     "output_type": "execute_result"
    }
   ],
   "source": [
    "# 指定索引\n",
    "t2 = pd.Series([1,2,3,4,5],index=list(\"abcde\"))\n",
    "t2"
   ]
  },
  {
   "cell_type": "code",
   "execution_count": 5,
   "id": "020a1b3e",
   "metadata": {},
   "outputs": [
    {
     "data": {
      "text/plain": [
       "name     hahaha\n",
       "age          26\n",
       "city    beijing\n",
       "dtype: object"
      ]
     },
     "execution_count": 5,
     "metadata": {},
     "output_type": "execute_result"
    }
   ],
   "source": [
    "# 传入字典 则对应键为索引\n",
    "temp_dict = {\"name\":\"hahaha\", \"age\":26, \"city\":\"beijing\"}\n",
    "t3 = pd.Series(temp_dict)\n",
    "t3"
   ]
  },
  {
   "cell_type": "code",
   "execution_count": 13,
   "id": "f301528d",
   "metadata": {},
   "outputs": [
    {
     "name": "stdout",
     "output_type": "stream",
     "text": [
      "26\n",
      "26\n",
      "name    hahaha\n",
      "age         26\n",
      "dtype: object\n",
      "age          26\n",
      "city    beijing\n",
      "dtype: object\n"
     ]
    }
   ],
   "source": [
    "# 使用方法和字典类似 可以通过索引取数，也可以通过位置取数\n",
    "# 注意取不到值会报错 报错 报错\n",
    "print(t3[\"age\"])\n",
    "print(t3[1])\n",
    "print(t3[:2])\n",
    "print(t3[[\"age\",\"city\"]])\n"
   ]
  },
  {
   "cell_type": "code",
   "execution_count": 18,
   "id": "3bf7ba80",
   "metadata": {},
   "outputs": [
    {
     "data": {
      "text/html": [
       "<div>\n",
       "<style scoped>\n",
       "    .dataframe tbody tr th:only-of-type {\n",
       "        vertical-align: middle;\n",
       "    }\n",
       "\n",
       "    .dataframe tbody tr th {\n",
       "        vertical-align: top;\n",
       "    }\n",
       "\n",
       "    .dataframe thead th {\n",
       "        text-align: right;\n",
       "    }\n",
       "</style>\n",
       "<table border=\"1\" class=\"dataframe\">\n",
       "  <thead>\n",
       "    <tr style=\"text-align: right;\">\n",
       "      <th></th>\n",
       "      <th>0</th>\n",
       "      <th>1</th>\n",
       "      <th>2</th>\n",
       "      <th>3</th>\n",
       "    </tr>\n",
       "  </thead>\n",
       "  <tbody>\n",
       "    <tr>\n",
       "      <th>0</th>\n",
       "      <td>0</td>\n",
       "      <td>1</td>\n",
       "      <td>2</td>\n",
       "      <td>3</td>\n",
       "    </tr>\n",
       "    <tr>\n",
       "      <th>1</th>\n",
       "      <td>4</td>\n",
       "      <td>5</td>\n",
       "      <td>6</td>\n",
       "      <td>7</td>\n",
       "    </tr>\n",
       "    <tr>\n",
       "      <th>2</th>\n",
       "      <td>8</td>\n",
       "      <td>9</td>\n",
       "      <td>10</td>\n",
       "      <td>11</td>\n",
       "    </tr>\n",
       "  </tbody>\n",
       "</table>\n",
       "</div>"
      ],
      "text/plain": [
       "   0  1   2   3\n",
       "0  0  1   2   3\n",
       "1  4  5   6   7\n",
       "2  8  9  10  11"
      ]
     },
     "execution_count": 18,
     "metadata": {},
     "output_type": "execute_result"
    }
   ],
   "source": [
    "pd.DataFrame(np.arange(12).reshape(3, 4))"
   ]
  },
  {
   "cell_type": "code",
   "execution_count": 27,
   "id": "4aa315bf",
   "metadata": {},
   "outputs": [],
   "source": [
    "df = pd.DataFrame(np.arange(12).reshape(3, 4),index=list(\"abc\"),columns=list(\"WXYZ\"))"
   ]
  },
  {
   "cell_type": "code",
   "execution_count": 28,
   "id": "b6026cc7",
   "metadata": {},
   "outputs": [
    {
     "data": {
      "text/plain": [
       "3"
      ]
     },
     "execution_count": 28,
     "metadata": {},
     "output_type": "execute_result"
    }
   ],
   "source": [
    "df.shape[0]"
   ]
  },
  {
   "cell_type": "code",
   "execution_count": 30,
   "id": "82f1711c",
   "metadata": {},
   "outputs": [
    {
     "data": {
      "text/html": [
       "<div>\n",
       "<style scoped>\n",
       "    .dataframe tbody tr th:only-of-type {\n",
       "        vertical-align: middle;\n",
       "    }\n",
       "\n",
       "    .dataframe tbody tr th {\n",
       "        vertical-align: top;\n",
       "    }\n",
       "\n",
       "    .dataframe thead th {\n",
       "        text-align: right;\n",
       "    }\n",
       "</style>\n",
       "<table border=\"1\" class=\"dataframe\">\n",
       "  <thead>\n",
       "    <tr style=\"text-align: right;\">\n",
       "      <th></th>\n",
       "      <th>W</th>\n",
       "      <th>X</th>\n",
       "      <th>Y</th>\n",
       "      <th>Z</th>\n",
       "    </tr>\n",
       "  </thead>\n",
       "  <tbody>\n",
       "    <tr>\n",
       "      <th>a</th>\n",
       "      <td>0</td>\n",
       "      <td>1</td>\n",
       "      <td>2</td>\n",
       "      <td>3</td>\n",
       "    </tr>\n",
       "    <tr>\n",
       "      <th>b</th>\n",
       "      <td>4</td>\n",
       "      <td>5</td>\n",
       "      <td>6</td>\n",
       "      <td>7</td>\n",
       "    </tr>\n",
       "  </tbody>\n",
       "</table>\n",
       "</div>"
      ],
      "text/plain": [
       "   W  X  Y  Z\n",
       "a  0  1  2  3\n",
       "b  4  5  6  7"
      ]
     },
     "execution_count": 30,
     "metadata": {},
     "output_type": "execute_result"
    }
   ],
   "source": [
    "df.head(2) # 显示前几行"
   ]
  },
  {
   "cell_type": "code",
   "execution_count": 31,
   "id": "e535f863",
   "metadata": {},
   "outputs": [
    {
     "data": {
      "text/html": [
       "<div>\n",
       "<style scoped>\n",
       "    .dataframe tbody tr th:only-of-type {\n",
       "        vertical-align: middle;\n",
       "    }\n",
       "\n",
       "    .dataframe tbody tr th {\n",
       "        vertical-align: top;\n",
       "    }\n",
       "\n",
       "    .dataframe thead th {\n",
       "        text-align: right;\n",
       "    }\n",
       "</style>\n",
       "<table border=\"1\" class=\"dataframe\">\n",
       "  <thead>\n",
       "    <tr style=\"text-align: right;\">\n",
       "      <th></th>\n",
       "      <th>W</th>\n",
       "      <th>X</th>\n",
       "      <th>Y</th>\n",
       "      <th>Z</th>\n",
       "    </tr>\n",
       "  </thead>\n",
       "  <tbody>\n",
       "    <tr>\n",
       "      <th>b</th>\n",
       "      <td>4</td>\n",
       "      <td>5</td>\n",
       "      <td>6</td>\n",
       "      <td>7</td>\n",
       "    </tr>\n",
       "    <tr>\n",
       "      <th>c</th>\n",
       "      <td>8</td>\n",
       "      <td>9</td>\n",
       "      <td>10</td>\n",
       "      <td>11</td>\n",
       "    </tr>\n",
       "  </tbody>\n",
       "</table>\n",
       "</div>"
      ],
      "text/plain": [
       "   W  X   Y   Z\n",
       "b  4  5   6   7\n",
       "c  8  9  10  11"
      ]
     },
     "execution_count": 31,
     "metadata": {},
     "output_type": "execute_result"
    }
   ],
   "source": [
    "df.tail(2)  # 显示后几行"
   ]
  },
  {
   "cell_type": "code",
   "execution_count": 32,
   "id": "b0d52b9d",
   "metadata": {},
   "outputs": [
    {
     "name": "stdout",
     "output_type": "stream",
     "text": [
      "<class 'pandas.core.frame.DataFrame'>\n",
      "Index: 3 entries, a to c\n",
      "Data columns (total 4 columns):\n",
      " #   Column  Non-Null Count  Dtype\n",
      "---  ------  --------------  -----\n",
      " 0   W       3 non-null      int32\n",
      " 1   X       3 non-null      int32\n",
      " 2   Y       3 non-null      int32\n",
      " 3   Z       3 non-null      int32\n",
      "dtypes: int32(4)\n",
      "memory usage: 72.0+ bytes\n"
     ]
    }
   ],
   "source": [
    "df.info() # 显示概览"
   ]
  },
  {
   "cell_type": "code",
   "execution_count": 33,
   "id": "2c97387b",
   "metadata": {},
   "outputs": [
    {
     "data": {
      "text/html": [
       "<div>\n",
       "<style scoped>\n",
       "    .dataframe tbody tr th:only-of-type {\n",
       "        vertical-align: middle;\n",
       "    }\n",
       "\n",
       "    .dataframe tbody tr th {\n",
       "        vertical-align: top;\n",
       "    }\n",
       "\n",
       "    .dataframe thead th {\n",
       "        text-align: right;\n",
       "    }\n",
       "</style>\n",
       "<table border=\"1\" class=\"dataframe\">\n",
       "  <thead>\n",
       "    <tr style=\"text-align: right;\">\n",
       "      <th></th>\n",
       "      <th>W</th>\n",
       "      <th>X</th>\n",
       "      <th>Y</th>\n",
       "      <th>Z</th>\n",
       "    </tr>\n",
       "  </thead>\n",
       "  <tbody>\n",
       "    <tr>\n",
       "      <th>count</th>\n",
       "      <td>3.0</td>\n",
       "      <td>3.0</td>\n",
       "      <td>3.0</td>\n",
       "      <td>3.0</td>\n",
       "    </tr>\n",
       "    <tr>\n",
       "      <th>mean</th>\n",
       "      <td>4.0</td>\n",
       "      <td>5.0</td>\n",
       "      <td>6.0</td>\n",
       "      <td>7.0</td>\n",
       "    </tr>\n",
       "    <tr>\n",
       "      <th>std</th>\n",
       "      <td>4.0</td>\n",
       "      <td>4.0</td>\n",
       "      <td>4.0</td>\n",
       "      <td>4.0</td>\n",
       "    </tr>\n",
       "    <tr>\n",
       "      <th>min</th>\n",
       "      <td>0.0</td>\n",
       "      <td>1.0</td>\n",
       "      <td>2.0</td>\n",
       "      <td>3.0</td>\n",
       "    </tr>\n",
       "    <tr>\n",
       "      <th>25%</th>\n",
       "      <td>2.0</td>\n",
       "      <td>3.0</td>\n",
       "      <td>4.0</td>\n",
       "      <td>5.0</td>\n",
       "    </tr>\n",
       "    <tr>\n",
       "      <th>50%</th>\n",
       "      <td>4.0</td>\n",
       "      <td>5.0</td>\n",
       "      <td>6.0</td>\n",
       "      <td>7.0</td>\n",
       "    </tr>\n",
       "    <tr>\n",
       "      <th>75%</th>\n",
       "      <td>6.0</td>\n",
       "      <td>7.0</td>\n",
       "      <td>8.0</td>\n",
       "      <td>9.0</td>\n",
       "    </tr>\n",
       "    <tr>\n",
       "      <th>max</th>\n",
       "      <td>8.0</td>\n",
       "      <td>9.0</td>\n",
       "      <td>10.0</td>\n",
       "      <td>11.0</td>\n",
       "    </tr>\n",
       "  </tbody>\n",
       "</table>\n",
       "</div>"
      ],
      "text/plain": [
       "         W    X     Y     Z\n",
       "count  3.0  3.0   3.0   3.0\n",
       "mean   4.0  5.0   6.0   7.0\n",
       "std    4.0  4.0   4.0   4.0\n",
       "min    0.0  1.0   2.0   3.0\n",
       "25%    2.0  3.0   4.0   5.0\n",
       "50%    4.0  5.0   6.0   7.0\n",
       "75%    6.0  7.0   8.0   9.0\n",
       "max    8.0  9.0  10.0  11.0"
      ]
     },
     "execution_count": 33,
     "metadata": {},
     "output_type": "execute_result"
    }
   ],
   "source": [
    "df.describe() # 数据快速统计概览"
   ]
  },
  {
   "cell_type": "code",
   "execution_count": 37,
   "id": "0324c7de",
   "metadata": {},
   "outputs": [
    {
     "data": {
      "text/plain": [
       "Index(['a', 'b', 'c'], dtype='object')"
      ]
     },
     "execution_count": 37,
     "metadata": {},
     "output_type": "execute_result"
    }
   ],
   "source": [
    "df.index  # 行索引"
   ]
  },
  {
   "cell_type": "code",
   "execution_count": 38,
   "id": "5949074f",
   "metadata": {},
   "outputs": [
    {
     "data": {
      "text/plain": [
       "Index(['W', 'X', 'Y', 'Z'], dtype='object')"
      ]
     },
     "execution_count": 38,
     "metadata": {},
     "output_type": "execute_result"
    }
   ],
   "source": [
    "df.columns  # 列索引"
   ]
  },
  {
   "cell_type": "code",
   "execution_count": 39,
   "id": "e18c733c",
   "metadata": {},
   "outputs": [
    {
     "data": {
      "text/plain": [
       "array([[ 0,  1,  2,  3],\n",
       "       [ 4,  5,  6,  7],\n",
       "       [ 8,  9, 10, 11]])"
      ]
     },
     "execution_count": 39,
     "metadata": {},
     "output_type": "execute_result"
    }
   ],
   "source": [
    "df.values  # 对象值"
   ]
  },
  {
   "cell_type": "code",
   "execution_count": 40,
   "id": "1f6bf06b",
   "metadata": {},
   "outputs": [
    {
     "data": {
      "text/plain": [
       "2"
      ]
     },
     "execution_count": 40,
     "metadata": {},
     "output_type": "execute_result"
    }
   ],
   "source": [
    "df.ndim # 数据维度"
   ]
  },
  {
   "cell_type": "code",
   "execution_count": 41,
   "id": "b880fa17",
   "metadata": {},
   "outputs": [
    {
     "data": {
      "text/html": [
       "<div>\n",
       "<style scoped>\n",
       "    .dataframe tbody tr th:only-of-type {\n",
       "        vertical-align: middle;\n",
       "    }\n",
       "\n",
       "    .dataframe tbody tr th {\n",
       "        vertical-align: top;\n",
       "    }\n",
       "\n",
       "    .dataframe thead th {\n",
       "        text-align: right;\n",
       "    }\n",
       "</style>\n",
       "<table border=\"1\" class=\"dataframe\">\n",
       "  <thead>\n",
       "    <tr style=\"text-align: right;\">\n",
       "      <th></th>\n",
       "      <th>Rank</th>\n",
       "      <th>Company</th>\n",
       "      <th>Revenue ($B)</th>\n",
       "      <th>F.Y.</th>\n",
       "      <th>Employees</th>\n",
       "      <th>Market cap. ($B)</th>\n",
       "      <th>Headquarters</th>\n",
       "      <th>Founded</th>\n",
       "      <th>Industry</th>\n",
       "    </tr>\n",
       "  </thead>\n",
       "  <tbody>\n",
       "    <tr>\n",
       "      <th>0</th>\n",
       "      <td>1</td>\n",
       "      <td>Amazon</td>\n",
       "      <td>386.06</td>\n",
       "      <td>2020</td>\n",
       "      <td>1298000.0</td>\n",
       "      <td>1668.00</td>\n",
       "      <td>Seattle</td>\n",
       "      <td>1994</td>\n",
       "      <td>Ecommerce</td>\n",
       "    </tr>\n",
       "    <tr>\n",
       "      <th>1</th>\n",
       "      <td>2</td>\n",
       "      <td>Alphabet</td>\n",
       "      <td>182.53</td>\n",
       "      <td>2020</td>\n",
       "      <td>135301.0</td>\n",
       "      <td>1524.00</td>\n",
       "      <td>Mountain View</td>\n",
       "      <td>1998</td>\n",
       "      <td>Internet</td>\n",
       "    </tr>\n",
       "    <tr>\n",
       "      <th>2</th>\n",
       "      <td>3</td>\n",
       "      <td>JD.com</td>\n",
       "      <td>114.97</td>\n",
       "      <td>2020</td>\n",
       "      <td>310000.0</td>\n",
       "      <td>115.96</td>\n",
       "      <td>Beijing</td>\n",
       "      <td>1998</td>\n",
       "      <td>Ecommerce</td>\n",
       "    </tr>\n",
       "    <tr>\n",
       "      <th>3</th>\n",
       "      <td>4</td>\n",
       "      <td>Meta</td>\n",
       "      <td>85.96</td>\n",
       "      <td>2020</td>\n",
       "      <td>58604.0</td>\n",
       "      <td>842.49</td>\n",
       "      <td>Menlo Park</td>\n",
       "      <td>2004</td>\n",
       "      <td>Social Media</td>\n",
       "    </tr>\n",
       "    <tr>\n",
       "      <th>4</th>\n",
       "      <td>5</td>\n",
       "      <td>Tencent</td>\n",
       "      <td>74.31</td>\n",
       "      <td>2020</td>\n",
       "      <td>85858.0</td>\n",
       "      <td>763.11</td>\n",
       "      <td>Shenzhen</td>\n",
       "      <td>1998</td>\n",
       "      <td>Internet</td>\n",
       "    </tr>\n",
       "  </tbody>\n",
       "</table>\n",
       "</div>"
      ],
      "text/plain": [
       "   Rank   Company  Revenue ($B)  F.Y.  Employees  Market cap. ($B)  \\\n",
       "0     1    Amazon        386.06  2020  1298000.0           1668.00   \n",
       "1     2  Alphabet        182.53  2020   135301.0           1524.00   \n",
       "2     3    JD.com        114.97  2020   310000.0            115.96   \n",
       "3     4      Meta         85.96  2020    58604.0            842.49   \n",
       "4     5   Tencent         74.31  2020    85858.0            763.11   \n",
       "\n",
       "    Headquarters  Founded      Industry  \n",
       "0        Seattle     1994     Ecommerce  \n",
       "1  Mountain View     1998      Internet  \n",
       "2        Beijing     1998     Ecommerce  \n",
       "3     Menlo Park     2004  Social Media  \n",
       "4       Shenzhen     1998      Internet  "
      ]
     },
     "execution_count": 41,
     "metadata": {},
     "output_type": "execute_result"
    }
   ],
   "source": [
    "df2 = pd.read_csv(\"D:\\dataset\\largest_internet_company.csv\")\n",
    "df2.head()"
   ]
  },
  {
   "cell_type": "code",
   "execution_count": 43,
   "id": "f3063c9b",
   "metadata": {},
   "outputs": [
    {
     "name": "stdout",
     "output_type": "stream",
     "text": [
      "<class 'pandas.core.frame.DataFrame'>\n",
      "RangeIndex: 101 entries, 0 to 100\n",
      "Data columns (total 9 columns):\n",
      " #   Column            Non-Null Count  Dtype  \n",
      "---  ------            --------------  -----  \n",
      " 0   Rank              101 non-null    int64  \n",
      " 1   Company           101 non-null    object \n",
      " 2   Revenue ($B)      101 non-null    float64\n",
      " 3   F.Y.              101 non-null    int64  \n",
      " 4   Employees         94 non-null     float64\n",
      " 5   Market cap. ($B)  78 non-null     float64\n",
      " 6   Headquarters      101 non-null    object \n",
      " 7   Founded           101 non-null    int64  \n",
      " 8   Industry          101 non-null    object \n",
      "dtypes: float64(3), int64(3), object(3)\n",
      "memory usage: 7.2+ KB\n"
     ]
    }
   ],
   "source": [
    "df2.info()"
   ]
  },
  {
   "cell_type": "code",
   "execution_count": 44,
   "id": "4727ef41",
   "metadata": {},
   "outputs": [
    {
     "data": {
      "text/html": [
       "<div>\n",
       "<style scoped>\n",
       "    .dataframe tbody tr th:only-of-type {\n",
       "        vertical-align: middle;\n",
       "    }\n",
       "\n",
       "    .dataframe tbody tr th {\n",
       "        vertical-align: top;\n",
       "    }\n",
       "\n",
       "    .dataframe thead th {\n",
       "        text-align: right;\n",
       "    }\n",
       "</style>\n",
       "<table border=\"1\" class=\"dataframe\">\n",
       "  <thead>\n",
       "    <tr style=\"text-align: right;\">\n",
       "      <th></th>\n",
       "      <th>Agency</th>\n",
       "      <th>Platform</th>\n",
       "      <th>Url</th>\n",
       "      <th>Date_Sampled</th>\n",
       "      <th>Likes_Followers_Visits_Downloads</th>\n",
       "    </tr>\n",
       "  </thead>\n",
       "  <tbody>\n",
       "    <tr>\n",
       "      <th>0</th>\n",
       "      <td>OEM</td>\n",
       "      <td>SMS</td>\n",
       "      <td>NaN</td>\n",
       "      <td>2012-02-17</td>\n",
       "      <td>61652.0</td>\n",
       "    </tr>\n",
       "    <tr>\n",
       "      <th>1</th>\n",
       "      <td>OEM</td>\n",
       "      <td>SMS</td>\n",
       "      <td>NaN</td>\n",
       "      <td>2012-11-09</td>\n",
       "      <td>44547.0</td>\n",
       "    </tr>\n",
       "    <tr>\n",
       "      <th>2</th>\n",
       "      <td>EDC</td>\n",
       "      <td>Flickr</td>\n",
       "      <td>http://www.flickr.com/nycedc</td>\n",
       "      <td>2012-05-09</td>\n",
       "      <td>NaN</td>\n",
       "    </tr>\n",
       "    <tr>\n",
       "      <th>3</th>\n",
       "      <td>NYCHA</td>\n",
       "      <td>Newsletter</td>\n",
       "      <td>NaN</td>\n",
       "      <td>2012-05-09</td>\n",
       "      <td>NaN</td>\n",
       "    </tr>\n",
       "    <tr>\n",
       "      <th>4</th>\n",
       "      <td>DHS</td>\n",
       "      <td>Twitter</td>\n",
       "      <td>www.twitter.com/nycdhs</td>\n",
       "      <td>2012-06-13</td>\n",
       "      <td>389.0</td>\n",
       "    </tr>\n",
       "  </tbody>\n",
       "</table>\n",
       "</div>"
      ],
      "text/plain": [
       "  Agency    Platform                           Url Date_Sampled  \\\n",
       "0    OEM         SMS                           NaN   2012-02-17   \n",
       "1    OEM         SMS                           NaN   2012-11-09   \n",
       "2    EDC      Flickr  http://www.flickr.com/nycedc   2012-05-09   \n",
       "3  NYCHA  Newsletter                           NaN   2012-05-09   \n",
       "4    DHS     Twitter        www.twitter.com/nycdhs   2012-06-13   \n",
       "\n",
       "   Likes_Followers_Visits_Downloads  \n",
       "0                           61652.0  \n",
       "1                           44547.0  \n",
       "2                               NaN  \n",
       "3                               NaN  \n",
       "4                             389.0  "
      ]
     },
     "execution_count": 44,
     "metadata": {},
     "output_type": "execute_result"
    }
   ],
   "source": [
    "df3 = pd.read_csv(\"D:\\dataset\\data.csv\")\n",
    "df3.head()"
   ]
  },
  {
   "cell_type": "code",
   "execution_count": 45,
   "id": "d2f4ffd8",
   "metadata": {},
   "outputs": [
    {
     "name": "stdout",
     "output_type": "stream",
     "text": [
      "<class 'pandas.core.frame.DataFrame'>\n",
      "RangeIndex: 5898 entries, 0 to 5897\n",
      "Data columns (total 5 columns):\n",
      " #   Column                            Non-Null Count  Dtype  \n",
      "---  ------                            --------------  -----  \n",
      " 0   Agency                            5878 non-null   object \n",
      " 1   Platform                          5898 non-null   object \n",
      " 2   Url                               5738 non-null   object \n",
      " 3   Date_Sampled                      5898 non-null   object \n",
      " 4   Likes_Followers_Visits_Downloads  3978 non-null   float64\n",
      "dtypes: float64(1), object(4)\n",
      "memory usage: 230.5+ KB\n"
     ]
    }
   ],
   "source": [
    "df3.info()"
   ]
  },
  {
   "cell_type": "code",
   "execution_count": 53,
   "id": "0456b899",
   "metadata": {},
   "outputs": [
    {
     "data": {
      "text/html": [
       "<div>\n",
       "<style scoped>\n",
       "    .dataframe tbody tr th:only-of-type {\n",
       "        vertical-align: middle;\n",
       "    }\n",
       "\n",
       "    .dataframe tbody tr th {\n",
       "        vertical-align: top;\n",
       "    }\n",
       "\n",
       "    .dataframe thead th {\n",
       "        text-align: right;\n",
       "    }\n",
       "</style>\n",
       "<table border=\"1\" class=\"dataframe\">\n",
       "  <thead>\n",
       "    <tr style=\"text-align: right;\">\n",
       "      <th></th>\n",
       "      <th>Agency</th>\n",
       "      <th>Platform</th>\n",
       "      <th>Url</th>\n",
       "      <th>Date_Sampled</th>\n",
       "      <th>Likes_Followers_Visits_Downloads</th>\n",
       "    </tr>\n",
       "  </thead>\n",
       "  <tbody>\n",
       "    <tr>\n",
       "      <th>5606</th>\n",
       "      <td>TOTAL</td>\n",
       "      <td>TOTAL</td>\n",
       "      <td>TOTAL</td>\n",
       "      <td>2012-11-02</td>\n",
       "      <td>2746218.0</td>\n",
       "    </tr>\n",
       "    <tr>\n",
       "      <th>5314</th>\n",
       "      <td>TOTAL</td>\n",
       "      <td>TOTAL</td>\n",
       "      <td>TOTAL</td>\n",
       "      <td>2012-10-24</td>\n",
       "      <td>2605149.0</td>\n",
       "    </tr>\n",
       "    <tr>\n",
       "      <th>5021</th>\n",
       "      <td>TOTAL</td>\n",
       "      <td>TOTAL</td>\n",
       "      <td>TOTAL</td>\n",
       "      <td>2012-09-21</td>\n",
       "      <td>2526367.0</td>\n",
       "    </tr>\n",
       "    <tr>\n",
       "      <th>4725</th>\n",
       "      <td>TOTAL</td>\n",
       "      <td>TOTAL</td>\n",
       "      <td>TOTAL</td>\n",
       "      <td>2012-08-02</td>\n",
       "      <td>2383470.0</td>\n",
       "    </tr>\n",
       "    <tr>\n",
       "      <th>4430</th>\n",
       "      <td>TOTAL</td>\n",
       "      <td>TOTAL</td>\n",
       "      <td>TOTAL</td>\n",
       "      <td>2012-07-05</td>\n",
       "      <td>2324933.0</td>\n",
       "    </tr>\n",
       "    <tr>\n",
       "      <th>4140</th>\n",
       "      <td>TOTAL</td>\n",
       "      <td>TOTAL</td>\n",
       "      <td>TOTAL</td>\n",
       "      <td>2012-06-13</td>\n",
       "      <td>2262887.0</td>\n",
       "    </tr>\n",
       "    <tr>\n",
       "      <th>3550</th>\n",
       "      <td>TOTAL</td>\n",
       "      <td>TOTAL</td>\n",
       "      <td>TOTAL</td>\n",
       "      <td>2012-04-30</td>\n",
       "      <td>1853118.0</td>\n",
       "    </tr>\n",
       "    <tr>\n",
       "      <th>3846</th>\n",
       "      <td>TOTAL</td>\n",
       "      <td>TOTAL</td>\n",
       "      <td>TOTAL</td>\n",
       "      <td>2012-05-09</td>\n",
       "      <td>1835426.0</td>\n",
       "    </tr>\n",
       "    <tr>\n",
       "      <th>3255</th>\n",
       "      <td>TOTAL</td>\n",
       "      <td>TOTAL</td>\n",
       "      <td>TOTAL</td>\n",
       "      <td>2012-04-09</td>\n",
       "      <td>1752711.0</td>\n",
       "    </tr>\n",
       "    <tr>\n",
       "      <th>2956</th>\n",
       "      <td>TOTAL</td>\n",
       "      <td>TOTAL</td>\n",
       "      <td>TOTAL</td>\n",
       "      <td>2012-03-14</td>\n",
       "      <td>1688764.0</td>\n",
       "    </tr>\n",
       "  </tbody>\n",
       "</table>\n",
       "</div>"
      ],
      "text/plain": [
       "     Agency Platform    Url Date_Sampled  Likes_Followers_Visits_Downloads\n",
       "5606  TOTAL    TOTAL  TOTAL   2012-11-02                         2746218.0\n",
       "5314  TOTAL    TOTAL  TOTAL   2012-10-24                         2605149.0\n",
       "5021  TOTAL    TOTAL  TOTAL   2012-09-21                         2526367.0\n",
       "4725  TOTAL    TOTAL  TOTAL   2012-08-02                         2383470.0\n",
       "4430  TOTAL    TOTAL  TOTAL   2012-07-05                         2324933.0\n",
       "4140  TOTAL    TOTAL  TOTAL   2012-06-13                         2262887.0\n",
       "3550  TOTAL    TOTAL  TOTAL   2012-04-30                         1853118.0\n",
       "3846  TOTAL    TOTAL  TOTAL   2012-05-09                         1835426.0\n",
       "3255  TOTAL    TOTAL  TOTAL   2012-04-09                         1752711.0\n",
       "2956  TOTAL    TOTAL  TOTAL   2012-03-14                         1688764.0"
      ]
     },
     "execution_count": 53,
     "metadata": {},
     "output_type": "execute_result"
    }
   ],
   "source": [
    "df3.sort_values(\"Likes_Followers_Visits_Downloads\", ascending=False)[:10]  # 降序排序\n",
    "# 注意用数字表示取对应行，用标签表示取对应列"
   ]
  },
  {
   "cell_type": "code",
   "execution_count": 59,
   "id": "27489911",
   "metadata": {},
   "outputs": [
    {
     "data": {
      "text/plain": [
       "0    61652.0\n",
       "1    44547.0\n",
       "2        NaN\n",
       "3        NaN\n",
       "4      389.0\n",
       "5      431.0\n",
       "6     5026.0\n",
       "7        NaN\n",
       "8      313.0\n",
       "9        NaN\n",
       "Name: Likes_Followers_Visits_Downloads, dtype: float64"
      ]
     },
     "execution_count": 59,
     "metadata": {},
     "output_type": "execute_result"
    }
   ],
   "source": [
    "df3[:10][\"Likes_Followers_Visits_Downloads\"]"
   ]
  },
  {
   "cell_type": "code",
   "execution_count": 73,
   "id": "400f66e1",
   "metadata": {},
   "outputs": [
    {
     "data": {
      "text/html": [
       "<div>\n",
       "<style scoped>\n",
       "    .dataframe tbody tr th:only-of-type {\n",
       "        vertical-align: middle;\n",
       "    }\n",
       "\n",
       "    .dataframe tbody tr th {\n",
       "        vertical-align: top;\n",
       "    }\n",
       "\n",
       "    .dataframe thead th {\n",
       "        text-align: right;\n",
       "    }\n",
       "</style>\n",
       "<table border=\"1\" class=\"dataframe\">\n",
       "  <thead>\n",
       "    <tr style=\"text-align: right;\">\n",
       "      <th></th>\n",
       "      <th>Likes_Followers_Visits_Downloads</th>\n",
       "      <th>Platform</th>\n",
       "    </tr>\n",
       "  </thead>\n",
       "  <tbody>\n",
       "    <tr>\n",
       "      <th>30</th>\n",
       "      <td>238.0</td>\n",
       "      <td>Facebook</td>\n",
       "    </tr>\n",
       "    <tr>\n",
       "      <th>31</th>\n",
       "      <td>287.0</td>\n",
       "      <td>Facebook</td>\n",
       "    </tr>\n",
       "    <tr>\n",
       "      <th>32</th>\n",
       "      <td>257.0</td>\n",
       "      <td>Facebook</td>\n",
       "    </tr>\n",
       "    <tr>\n",
       "      <th>33</th>\n",
       "      <td>282.0</td>\n",
       "      <td>Facebook</td>\n",
       "    </tr>\n",
       "    <tr>\n",
       "      <th>34</th>\n",
       "      <td>272.0</td>\n",
       "      <td>Facebook</td>\n",
       "    </tr>\n",
       "    <tr>\n",
       "      <th>35</th>\n",
       "      <td>277.0</td>\n",
       "      <td>Facebook</td>\n",
       "    </tr>\n",
       "  </tbody>\n",
       "</table>\n",
       "</div>"
      ],
      "text/plain": [
       "    Likes_Followers_Visits_Downloads  Platform\n",
       "30                             238.0  Facebook\n",
       "31                             287.0  Facebook\n",
       "32                             257.0  Facebook\n",
       "33                             282.0  Facebook\n",
       "34                             272.0  Facebook\n",
       "35                             277.0  Facebook"
      ]
     },
     "execution_count": 73,
     "metadata": {},
     "output_type": "execute_result"
    }
   ],
   "source": [
    "# loc通过标签索引获取数据 df.loc(行标签,列标签)\n",
    "\n",
    "df3.loc[30:35,[\"Likes_Followers_Visits_Downloads\",\"Platform\"]]"
   ]
  },
  {
   "cell_type": "code",
   "execution_count": 75,
   "id": "10a7e020",
   "metadata": {},
   "outputs": [
    {
     "data": {
      "text/html": [
       "<div>\n",
       "<style scoped>\n",
       "    .dataframe tbody tr th:only-of-type {\n",
       "        vertical-align: middle;\n",
       "    }\n",
       "\n",
       "    .dataframe tbody tr th {\n",
       "        vertical-align: top;\n",
       "    }\n",
       "\n",
       "    .dataframe thead th {\n",
       "        text-align: right;\n",
       "    }\n",
       "</style>\n",
       "<table border=\"1\" class=\"dataframe\">\n",
       "  <thead>\n",
       "    <tr style=\"text-align: right;\">\n",
       "      <th></th>\n",
       "      <th>Agency</th>\n",
       "      <th>Platform</th>\n",
       "      <th>Url</th>\n",
       "      <th>Date_Sampled</th>\n",
       "      <th>Likes_Followers_Visits_Downloads</th>\n",
       "    </tr>\n",
       "  </thead>\n",
       "  <tbody>\n",
       "    <tr>\n",
       "      <th>25</th>\n",
       "      <td>DFTA</td>\n",
       "      <td>Facebook</td>\n",
       "      <td>http://www.facebook.com/timebanksnyc</td>\n",
       "      <td>2011-08-08</td>\n",
       "      <td>227.0</td>\n",
       "    </tr>\n",
       "    <tr>\n",
       "      <th>26</th>\n",
       "      <td>DOB: Cool Roofs</td>\n",
       "      <td>Facebook</td>\n",
       "      <td>http://www.facebook.com/coolroofs?sk=wall</td>\n",
       "      <td>2011-08-08</td>\n",
       "      <td>194.0</td>\n",
       "    </tr>\n",
       "    <tr>\n",
       "      <th>27</th>\n",
       "      <td>NYC &amp; Co</td>\n",
       "      <td>Facebook</td>\n",
       "      <td>http://www.facebook.com/nycgo.nl</td>\n",
       "      <td>2011-08-08</td>\n",
       "      <td>243.0</td>\n",
       "    </tr>\n",
       "    <tr>\n",
       "      <th>28</th>\n",
       "      <td>MOIA</td>\n",
       "      <td>Facebook</td>\n",
       "      <td>http://www.facebook.com/pages/NYC-Mayors-Offic...</td>\n",
       "      <td>2011-08-08</td>\n",
       "      <td>237.0</td>\n",
       "    </tr>\n",
       "    <tr>\n",
       "      <th>29</th>\n",
       "      <td>CAU</td>\n",
       "      <td>Facebook</td>\n",
       "      <td>http://www.facebook.com/NYCMayorsCAU</td>\n",
       "      <td>2011-08-08</td>\n",
       "      <td>234.0</td>\n",
       "    </tr>\n",
       "  </tbody>\n",
       "</table>\n",
       "</div>"
      ],
      "text/plain": [
       "             Agency  Platform  \\\n",
       "25             DFTA  Facebook   \n",
       "26  DOB: Cool Roofs  Facebook   \n",
       "27         NYC & Co  Facebook   \n",
       "28             MOIA  Facebook   \n",
       "29              CAU  Facebook   \n",
       "\n",
       "                                                  Url Date_Sampled  \\\n",
       "25               http://www.facebook.com/timebanksnyc   2011-08-08   \n",
       "26          http://www.facebook.com/coolroofs?sk=wall   2011-08-08   \n",
       "27                   http://www.facebook.com/nycgo.nl   2011-08-08   \n",
       "28  http://www.facebook.com/pages/NYC-Mayors-Offic...   2011-08-08   \n",
       "29               http://www.facebook.com/NYCMayorsCAU   2011-08-08   \n",
       "\n",
       "    Likes_Followers_Visits_Downloads  \n",
       "25                             227.0  \n",
       "26                             194.0  \n",
       "27                             243.0  \n",
       "28                             237.0  \n",
       "29                             234.0  "
      ]
     },
     "execution_count": 75,
     "metadata": {},
     "output_type": "execute_result"
    }
   ],
   "source": [
    "# iloc 通过位置定位\n",
    "df3.iloc[25:30,:]"
   ]
  },
  {
   "cell_type": "code",
   "execution_count": 82,
   "id": "15c6ebb6",
   "metadata": {},
   "outputs": [
    {
     "name": "stdout",
     "output_type": "stream",
     "text": [
      "        Agency  Platform                                                Url  \\\n",
      "4          DHS   Twitter                             www.twitter.com/nycdhs   \n",
      "8         MOME   Android                                     MiNY Venor app   \n",
      "25        DFTA  Facebook               http://www.facebook.com/timebanksnyc   \n",
      "27    NYC & Co  Facebook                   http://www.facebook.com/nycgo.nl   \n",
      "28        MOIA  Facebook  http://www.facebook.com/pages/NYC-Mayors-Offic...   \n",
      "...        ...       ...                                                ...   \n",
      "5846      Prob   Twitter                       www.twitter.com/nycprobation   \n",
      "5877      MOME   YouTube                  http://www.youtube.com/nycmedia25   \n",
      "5878       DPR   YouTube     http://www.youtube.com/user/NYCParksDepartment   \n",
      "5879       DOT   YouTube                      http://www.youtube.com/NYCDOT   \n",
      "5887       DOH   Youtube          http://www.youtube.com/user/drinkingsugar   \n",
      "\n",
      "     Date_Sampled  Likes_Followers_Visits_Downloads  \n",
      "4      2012-06-13                             389.0  \n",
      "8      2011-08-08                             313.0  \n",
      "25     2011-08-08                             227.0  \n",
      "27     2011-08-08                             243.0  \n",
      "28     2011-08-08                             237.0  \n",
      "...           ...                               ...  \n",
      "5846   2012-11-09                             340.0  \n",
      "5877   2012-11-09                             256.0  \n",
      "5878   2012-11-09                             311.0  \n",
      "5879   2012-11-09                             381.0  \n",
      "5887   2012-11-09                             245.0  \n",
      "\n",
      "[657 rows x 5 columns]\n"
     ]
    }
   ],
   "source": [
    "print(df3[(df3[\"Likes_Followers_Visits_Downloads\"] > 200) & (df3[\"Likes_Followers_Visits_Downloads\"] < 400)])"
   ]
  },
  {
   "cell_type": "code",
   "execution_count": 83,
   "id": "ece98aa3",
   "metadata": {},
   "outputs": [
    {
     "name": "stdout",
     "output_type": "stream",
     "text": [
      "<class 'pandas.core.frame.DataFrame'>\n",
      "RangeIndex: 5898 entries, 0 to 5897\n",
      "Data columns (total 5 columns):\n",
      " #   Column                            Non-Null Count  Dtype  \n",
      "---  ------                            --------------  -----  \n",
      " 0   Agency                            5878 non-null   object \n",
      " 1   Platform                          5898 non-null   object \n",
      " 2   Url                               5738 non-null   object \n",
      " 3   Date_Sampled                      5898 non-null   object \n",
      " 4   Likes_Followers_Visits_Downloads  3978 non-null   float64\n",
      "dtypes: float64(1), object(4)\n",
      "memory usage: 230.5+ KB\n"
     ]
    }
   ],
   "source": []
  },
  {
   "cell_type": "code",
   "execution_count": 91,
   "id": "5dd09eea",
   "metadata": {},
   "outputs": [
    {
     "data": {
      "text/html": [
       "<div>\n",
       "<style scoped>\n",
       "    .dataframe tbody tr th:only-of-type {\n",
       "        vertical-align: middle;\n",
       "    }\n",
       "\n",
       "    .dataframe tbody tr th {\n",
       "        vertical-align: top;\n",
       "    }\n",
       "\n",
       "    .dataframe thead th {\n",
       "        text-align: right;\n",
       "    }\n",
       "</style>\n",
       "<table border=\"1\" class=\"dataframe\">\n",
       "  <thead>\n",
       "    <tr style=\"text-align: right;\">\n",
       "      <th></th>\n",
       "      <th>Agency</th>\n",
       "      <th>Platform</th>\n",
       "      <th>Url</th>\n",
       "      <th>Date_Sampled</th>\n",
       "      <th>Likes_Followers_Visits_Downloads</th>\n",
       "    </tr>\n",
       "  </thead>\n",
       "  <tbody>\n",
       "    <tr>\n",
       "      <th>0</th>\n",
       "      <td>OEM</td>\n",
       "      <td>SMS</td>\n",
       "      <td>NaN</td>\n",
       "      <td>2012-02-17</td>\n",
       "      <td>61652.0</td>\n",
       "    </tr>\n",
       "    <tr>\n",
       "      <th>1</th>\n",
       "      <td>OEM</td>\n",
       "      <td>SMS</td>\n",
       "      <td>NaN</td>\n",
       "      <td>2012-11-09</td>\n",
       "      <td>44547.0</td>\n",
       "    </tr>\n",
       "    <tr>\n",
       "      <th>4</th>\n",
       "      <td>DHS</td>\n",
       "      <td>Twitter</td>\n",
       "      <td>www.twitter.com/nycdhs</td>\n",
       "      <td>2012-06-13</td>\n",
       "      <td>389.0</td>\n",
       "    </tr>\n",
       "    <tr>\n",
       "      <th>5</th>\n",
       "      <td>DHS</td>\n",
       "      <td>Twitter</td>\n",
       "      <td>www.twitter.com/nycdhs</td>\n",
       "      <td>2012-08-02</td>\n",
       "      <td>431.0</td>\n",
       "    </tr>\n",
       "    <tr>\n",
       "      <th>6</th>\n",
       "      <td>DOH</td>\n",
       "      <td>Android</td>\n",
       "      <td>Condom Finder</td>\n",
       "      <td>2011-08-08</td>\n",
       "      <td>5026.0</td>\n",
       "    </tr>\n",
       "  </tbody>\n",
       "</table>\n",
       "</div>"
      ],
      "text/plain": [
       "  Agency Platform                     Url Date_Sampled  \\\n",
       "0    OEM      SMS                     NaN   2012-02-17   \n",
       "1    OEM      SMS                     NaN   2012-11-09   \n",
       "4    DHS  Twitter  www.twitter.com/nycdhs   2012-06-13   \n",
       "5    DHS  Twitter  www.twitter.com/nycdhs   2012-08-02   \n",
       "6    DOH  Android           Condom Finder   2011-08-08   \n",
       "\n",
       "   Likes_Followers_Visits_Downloads  \n",
       "0                           61652.0  \n",
       "1                           44547.0  \n",
       "4                             389.0  \n",
       "5                             431.0  \n",
       "6                            5026.0  "
      ]
     },
     "execution_count": 91,
     "metadata": {},
     "output_type": "execute_result"
    }
   ],
   "source": [
    "df3[pd.notnull(df3[\"Likes_Followers_Visits_Downloads\"])][:5]  # 去掉Likes_Followers_Visits_Downloads中空行"
   ]
  },
  {
   "cell_type": "code",
   "execution_count": 98,
   "id": "7b99a54f",
   "metadata": {},
   "outputs": [
    {
     "data": {
      "text/html": [
       "<div>\n",
       "<style scoped>\n",
       "    .dataframe tbody tr th:only-of-type {\n",
       "        vertical-align: middle;\n",
       "    }\n",
       "\n",
       "    .dataframe tbody tr th {\n",
       "        vertical-align: top;\n",
       "    }\n",
       "\n",
       "    .dataframe thead th {\n",
       "        text-align: right;\n",
       "    }\n",
       "</style>\n",
       "<table border=\"1\" class=\"dataframe\">\n",
       "  <thead>\n",
       "    <tr style=\"text-align: right;\">\n",
       "      <th></th>\n",
       "      <th>Agency</th>\n",
       "      <th>Platform</th>\n",
       "      <th>Url</th>\n",
       "      <th>Date_Sampled</th>\n",
       "      <th>Likes_Followers_Visits_Downloads</th>\n",
       "    </tr>\n",
       "  </thead>\n",
       "  <tbody>\n",
       "    <tr>\n",
       "      <th>0</th>\n",
       "      <td>OEM</td>\n",
       "      <td>SMS</td>\n",
       "      <td>NaN</td>\n",
       "      <td>2012-02-17</td>\n",
       "      <td>61652.000000</td>\n",
       "    </tr>\n",
       "    <tr>\n",
       "      <th>1</th>\n",
       "      <td>OEM</td>\n",
       "      <td>SMS</td>\n",
       "      <td>NaN</td>\n",
       "      <td>2012-11-09</td>\n",
       "      <td>44547.000000</td>\n",
       "    </tr>\n",
       "    <tr>\n",
       "      <th>2</th>\n",
       "      <td>EDC</td>\n",
       "      <td>Flickr</td>\n",
       "      <td>http://www.flickr.com/nycedc</td>\n",
       "      <td>2012-05-09</td>\n",
       "      <td>17790.059326</td>\n",
       "    </tr>\n",
       "    <tr>\n",
       "      <th>3</th>\n",
       "      <td>NYCHA</td>\n",
       "      <td>Newsletter</td>\n",
       "      <td>NaN</td>\n",
       "      <td>2012-05-09</td>\n",
       "      <td>17790.059326</td>\n",
       "    </tr>\n",
       "    <tr>\n",
       "      <th>4</th>\n",
       "      <td>DHS</td>\n",
       "      <td>Twitter</td>\n",
       "      <td>www.twitter.com/nycdhs</td>\n",
       "      <td>2012-06-13</td>\n",
       "      <td>389.000000</td>\n",
       "    </tr>\n",
       "  </tbody>\n",
       "</table>\n",
       "</div>"
      ],
      "text/plain": [
       "  Agency    Platform                           Url Date_Sampled  \\\n",
       "0    OEM         SMS                           NaN   2012-02-17   \n",
       "1    OEM         SMS                           NaN   2012-11-09   \n",
       "2    EDC      Flickr  http://www.flickr.com/nycedc   2012-05-09   \n",
       "3  NYCHA  Newsletter                           NaN   2012-05-09   \n",
       "4    DHS     Twitter        www.twitter.com/nycdhs   2012-06-13   \n",
       "\n",
       "   Likes_Followers_Visits_Downloads  \n",
       "0                      61652.000000  \n",
       "1                      44547.000000  \n",
       "2                      17790.059326  \n",
       "3                      17790.059326  \n",
       "4                        389.000000  "
      ]
     },
     "execution_count": 98,
     "metadata": {},
     "output_type": "execute_result"
    }
   ],
   "source": [
    "df3.fillna(df3.mean())[:5]  # 将空值填充为均值\n",
    "df3[\"Likes_Followers_Visits_Downloads\"] = df3[\"Likes_Followers_Visits_Downloads\"].fillna(df3[\"Likes_Followers_Visits_Downloads\"].mean())[:5]\n",
    "df3[:5]\n",
    "\n",
    "# 注意0的情况 0会参加均值计算 如果不想让0运算，可以把0转换为NaN，即t[t==0] = np.nan"
   ]
  },
  {
   "cell_type": "code",
   "execution_count": 100,
   "id": "f77b0e29",
   "metadata": {},
   "outputs": [
    {
     "name": "stdout",
     "output_type": "stream",
     "text": [
      "<class 'pandas.core.frame.DataFrame'>\n",
      "RangeIndex: 1000 entries, 0 to 999\n",
      "Data columns (total 12 columns):\n",
      " #   Column              Non-Null Count  Dtype  \n",
      "---  ------              --------------  -----  \n",
      " 0   Rank                1000 non-null   int64  \n",
      " 1   Title               1000 non-null   object \n",
      " 2   Genre               1000 non-null   object \n",
      " 3   Description         1000 non-null   object \n",
      " 4   Director            1000 non-null   object \n",
      " 5   Actors              1000 non-null   object \n",
      " 6   Year                1000 non-null   int64  \n",
      " 7   Runtime (Minutes)   1000 non-null   int64  \n",
      " 8   Rating              1000 non-null   float64\n",
      " 9   Votes               1000 non-null   int64  \n",
      " 10  Revenue (Millions)  872 non-null    float64\n",
      " 11  Metascore           936 non-null    float64\n",
      "dtypes: float64(3), int64(4), object(5)\n",
      "memory usage: 93.9+ KB\n"
     ]
    }
   ],
   "source": [
    "df4 = pd.read_csv(\"D:\\dataset\\datasets_IMDB-Movie-Data.csv\")\n",
    "df4.info()"
   ]
  },
  {
   "cell_type": "code",
   "execution_count": null,
   "id": "49764d70",
   "metadata": {},
   "outputs": [],
   "source": []
  }
 ],
 "metadata": {
  "kernelspec": {
   "display_name": "Python 3",
   "language": "python",
   "name": "python3"
  },
  "language_info": {
   "codemirror_mode": {
    "name": "ipython",
    "version": 3
   },
   "file_extension": ".py",
   "mimetype": "text/x-python",
   "name": "python",
   "nbconvert_exporter": "python",
   "pygments_lexer": "ipython3",
   "version": "3.8.8"
  }
 },
 "nbformat": 4,
 "nbformat_minor": 5
}

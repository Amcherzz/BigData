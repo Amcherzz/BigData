{
 "cells": [
  {
   "cell_type": "markdown",
   "id": "093fd166",
   "metadata": {},
   "source": [
    "## Pandas 取数"
   ]
  },
  {
   "cell_type": "code",
   "execution_count": 1,
   "id": "8338f095",
   "metadata": {},
   "outputs": [
    {
     "data": {
      "text/html": [
       "<div>\n",
       "<style scoped>\n",
       "    .dataframe tbody tr th:only-of-type {\n",
       "        vertical-align: middle;\n",
       "    }\n",
       "\n",
       "    .dataframe tbody tr th {\n",
       "        vertical-align: top;\n",
       "    }\n",
       "\n",
       "    .dataframe thead th {\n",
       "        text-align: right;\n",
       "    }\n",
       "</style>\n",
       "<table border=\"1\" class=\"dataframe\">\n",
       "  <thead>\n",
       "    <tr style=\"text-align: right;\">\n",
       "      <th></th>\n",
       "      <th>name</th>\n",
       "      <th>sex</th>\n",
       "      <th>age</th>\n",
       "      <th>math</th>\n",
       "      <th>chinese</th>\n",
       "      <th>score</th>\n",
       "      <th>address</th>\n",
       "    </tr>\n",
       "  </thead>\n",
       "  <tbody>\n",
       "    <tr>\n",
       "      <th>0</th>\n",
       "      <td>小明</td>\n",
       "      <td>男</td>\n",
       "      <td>20</td>\n",
       "      <td>120</td>\n",
       "      <td>100</td>\n",
       "      <td>590</td>\n",
       "      <td>广东省深圳市南山区</td>\n",
       "    </tr>\n",
       "    <tr>\n",
       "      <th>1</th>\n",
       "      <td>小王</td>\n",
       "      <td>女</td>\n",
       "      <td>23</td>\n",
       "      <td>130</td>\n",
       "      <td>130</td>\n",
       "      <td>600</td>\n",
       "      <td>北京市海淀区</td>\n",
       "    </tr>\n",
       "    <tr>\n",
       "      <th>2</th>\n",
       "      <td>张菲</td>\n",
       "      <td>女</td>\n",
       "      <td>18</td>\n",
       "      <td>118</td>\n",
       "      <td>140</td>\n",
       "      <td>550</td>\n",
       "      <td>湖南省长沙市雨花区</td>\n",
       "    </tr>\n",
       "    <tr>\n",
       "      <th>3</th>\n",
       "      <td>关宇</td>\n",
       "      <td>男</td>\n",
       "      <td>21</td>\n",
       "      <td>120</td>\n",
       "      <td>120</td>\n",
       "      <td>620</td>\n",
       "      <td>北京市东城区</td>\n",
       "    </tr>\n",
       "    <tr>\n",
       "      <th>4</th>\n",
       "      <td>孙小小</td>\n",
       "      <td>女</td>\n",
       "      <td>25</td>\n",
       "      <td>102</td>\n",
       "      <td>149</td>\n",
       "      <td>610</td>\n",
       "      <td>广东省广州市白云区</td>\n",
       "    </tr>\n",
       "    <tr>\n",
       "      <th>5</th>\n",
       "      <td>王建国</td>\n",
       "      <td>男</td>\n",
       "      <td>21</td>\n",
       "      <td>140</td>\n",
       "      <td>111</td>\n",
       "      <td>580</td>\n",
       "      <td>湖北省武汉市江夏区</td>\n",
       "    </tr>\n",
       "    <tr>\n",
       "      <th>6</th>\n",
       "      <td>刘蓓</td>\n",
       "      <td>女</td>\n",
       "      <td>24</td>\n",
       "      <td>134</td>\n",
       "      <td>118</td>\n",
       "      <td>634</td>\n",
       "      <td>广东省深圳市龙华区</td>\n",
       "    </tr>\n",
       "  </tbody>\n",
       "</table>\n",
       "</div>"
      ],
      "text/plain": [
       "  name sex  age  math  chinese  score    address\n",
       "0   小明   男   20   120      100    590  广东省深圳市南山区\n",
       "1   小王   女   23   130      130    600     北京市海淀区\n",
       "2   张菲   女   18   118      140    550  湖南省长沙市雨花区\n",
       "3   关宇   男   21   120      120    620     北京市东城区\n",
       "4  孙小小   女   25   102      149    610  广东省广州市白云区\n",
       "5  王建国   男   21   140      111    580  湖北省武汉市江夏区\n",
       "6   刘蓓   女   24   134      118    634  广东省深圳市龙华区"
      ]
     },
     "execution_count": 1,
     "metadata": {},
     "output_type": "execute_result"
    }
   ],
   "source": [
    "import pandas as pd\n",
    "import numpy as np\n",
    "\n",
    "df = pd.DataFrame({\n",
    "    \"name\":['小明','小王','张菲','关宇','孙小小','王建国','刘蓓'],\n",
    "    \"sex\":['男','女','女','男','女','男','女'],\n",
    "    \"age\":[20,23,18,21,25,21,24],\n",
    "    \"math\":[120,130,118,120,102,140,134],\n",
    "    \"chinese\":[100,130,140,120,149,111,118],\n",
    "    \"score\":[590,600,550,620,610,580,634], \n",
    "    \"address\":[\"广东省深圳市南山区\",\n",
    "               \"北京市海淀区\",\n",
    "               \"湖南省长沙市雨花区\",\n",
    "               \"北京市东城区\",\n",
    "               \"广东省广州市白云区\",\n",
    "               \"湖北省武汉市江夏区\",\n",
    "               \"广东省深圳市龙华区\"\n",
    "              ]\n",
    "})\n",
    "\n",
    "df"
   ]
  },
  {
   "cell_type": "markdown",
   "id": "807828a2",
   "metadata": {},
   "source": [
    "1. 表达式取数"
   ]
  },
  {
   "cell_type": "code",
   "execution_count": 2,
   "id": "b3cba6c5",
   "metadata": {},
   "outputs": [
    {
     "data": {
      "text/html": [
       "<div>\n",
       "<style scoped>\n",
       "    .dataframe tbody tr th:only-of-type {\n",
       "        vertical-align: middle;\n",
       "    }\n",
       "\n",
       "    .dataframe tbody tr th {\n",
       "        vertical-align: top;\n",
       "    }\n",
       "\n",
       "    .dataframe thead th {\n",
       "        text-align: right;\n",
       "    }\n",
       "</style>\n",
       "<table border=\"1\" class=\"dataframe\">\n",
       "  <thead>\n",
       "    <tr style=\"text-align: right;\">\n",
       "      <th></th>\n",
       "      <th>name</th>\n",
       "      <th>sex</th>\n",
       "      <th>age</th>\n",
       "      <th>math</th>\n",
       "      <th>chinese</th>\n",
       "      <th>score</th>\n",
       "      <th>address</th>\n",
       "    </tr>\n",
       "  </thead>\n",
       "  <tbody>\n",
       "    <tr>\n",
       "      <th>1</th>\n",
       "      <td>小王</td>\n",
       "      <td>女</td>\n",
       "      <td>23</td>\n",
       "      <td>130</td>\n",
       "      <td>130</td>\n",
       "      <td>600</td>\n",
       "      <td>北京市海淀区</td>\n",
       "    </tr>\n",
       "    <tr>\n",
       "      <th>5</th>\n",
       "      <td>王建国</td>\n",
       "      <td>男</td>\n",
       "      <td>21</td>\n",
       "      <td>140</td>\n",
       "      <td>111</td>\n",
       "      <td>580</td>\n",
       "      <td>湖北省武汉市江夏区</td>\n",
       "    </tr>\n",
       "    <tr>\n",
       "      <th>6</th>\n",
       "      <td>刘蓓</td>\n",
       "      <td>女</td>\n",
       "      <td>24</td>\n",
       "      <td>134</td>\n",
       "      <td>118</td>\n",
       "      <td>634</td>\n",
       "      <td>广东省深圳市龙华区</td>\n",
       "    </tr>\n",
       "  </tbody>\n",
       "</table>\n",
       "</div>"
      ],
      "text/plain": [
       "  name sex  age  math  chinese  score    address\n",
       "1   小王   女   23   130      130    600     北京市海淀区\n",
       "5  王建国   男   21   140      111    580  湖北省武汉市江夏区\n",
       "6   刘蓓   女   24   134      118    634  广东省深圳市龙华区"
      ]
     },
     "execution_count": 2,
     "metadata": {},
     "output_type": "execute_result"
    }
   ],
   "source": [
    "# 1、数学表达式\n",
    "df[df['math'] > 125]"
   ]
  },
  {
   "cell_type": "code",
   "execution_count": 3,
   "id": "5647ca3e",
   "metadata": {},
   "outputs": [
    {
     "data": {
      "text/html": [
       "<div>\n",
       "<style scoped>\n",
       "    .dataframe tbody tr th:only-of-type {\n",
       "        vertical-align: middle;\n",
       "    }\n",
       "\n",
       "    .dataframe tbody tr th {\n",
       "        vertical-align: top;\n",
       "    }\n",
       "\n",
       "    .dataframe thead th {\n",
       "        text-align: right;\n",
       "    }\n",
       "</style>\n",
       "<table border=\"1\" class=\"dataframe\">\n",
       "  <thead>\n",
       "    <tr style=\"text-align: right;\">\n",
       "      <th></th>\n",
       "      <th>name</th>\n",
       "      <th>sex</th>\n",
       "      <th>age</th>\n",
       "      <th>math</th>\n",
       "      <th>chinese</th>\n",
       "      <th>score</th>\n",
       "      <th>address</th>\n",
       "    </tr>\n",
       "  </thead>\n",
       "  <tbody>\n",
       "    <tr>\n",
       "      <th>1</th>\n",
       "      <td>小王</td>\n",
       "      <td>女</td>\n",
       "      <td>23</td>\n",
       "      <td>130</td>\n",
       "      <td>130</td>\n",
       "      <td>600</td>\n",
       "      <td>北京市海淀区</td>\n",
       "    </tr>\n",
       "    <tr>\n",
       "      <th>2</th>\n",
       "      <td>张菲</td>\n",
       "      <td>女</td>\n",
       "      <td>18</td>\n",
       "      <td>118</td>\n",
       "      <td>140</td>\n",
       "      <td>550</td>\n",
       "      <td>湖南省长沙市雨花区</td>\n",
       "    </tr>\n",
       "    <tr>\n",
       "      <th>4</th>\n",
       "      <td>孙小小</td>\n",
       "      <td>女</td>\n",
       "      <td>25</td>\n",
       "      <td>102</td>\n",
       "      <td>149</td>\n",
       "      <td>610</td>\n",
       "      <td>广东省广州市白云区</td>\n",
       "    </tr>\n",
       "    <tr>\n",
       "      <th>6</th>\n",
       "      <td>刘蓓</td>\n",
       "      <td>女</td>\n",
       "      <td>24</td>\n",
       "      <td>134</td>\n",
       "      <td>118</td>\n",
       "      <td>634</td>\n",
       "      <td>广东省深圳市龙华区</td>\n",
       "    </tr>\n",
       "  </tbody>\n",
       "</table>\n",
       "</div>"
      ],
      "text/plain": [
       "  name sex  age  math  chinese  score    address\n",
       "1   小王   女   23   130      130    600     北京市海淀区\n",
       "2   张菲   女   18   118      140    550  湖南省长沙市雨花区\n",
       "4  孙小小   女   25   102      149    610  广东省广州市白云区\n",
       "6   刘蓓   女   24   134      118    634  广东省深圳市龙华区"
      ]
     },
     "execution_count": 3,
     "metadata": {},
     "output_type": "execute_result"
    }
   ],
   "source": [
    "# 2、取反操作\n",
    "df[~(df['sex'] == '男')]  # 取出不是男生的数据"
   ]
  },
  {
   "cell_type": "code",
   "execution_count": 4,
   "id": "e152eccc",
   "metadata": {},
   "outputs": [
    {
     "data": {
      "text/html": [
       "<div>\n",
       "<style scoped>\n",
       "    .dataframe tbody tr th:only-of-type {\n",
       "        vertical-align: middle;\n",
       "    }\n",
       "\n",
       "    .dataframe tbody tr th {\n",
       "        vertical-align: top;\n",
       "    }\n",
       "\n",
       "    .dataframe thead th {\n",
       "        text-align: right;\n",
       "    }\n",
       "</style>\n",
       "<table border=\"1\" class=\"dataframe\">\n",
       "  <thead>\n",
       "    <tr style=\"text-align: right;\">\n",
       "      <th></th>\n",
       "      <th>name</th>\n",
       "      <th>sex</th>\n",
       "      <th>age</th>\n",
       "      <th>math</th>\n",
       "      <th>chinese</th>\n",
       "      <th>score</th>\n",
       "      <th>address</th>\n",
       "    </tr>\n",
       "  </thead>\n",
       "  <tbody>\n",
       "    <tr>\n",
       "      <th>0</th>\n",
       "      <td>小明</td>\n",
       "      <td>男</td>\n",
       "      <td>20</td>\n",
       "      <td>120</td>\n",
       "      <td>100</td>\n",
       "      <td>590</td>\n",
       "      <td>广东省深圳市南山区</td>\n",
       "    </tr>\n",
       "    <tr>\n",
       "      <th>3</th>\n",
       "      <td>关宇</td>\n",
       "      <td>男</td>\n",
       "      <td>21</td>\n",
       "      <td>120</td>\n",
       "      <td>120</td>\n",
       "      <td>620</td>\n",
       "      <td>北京市东城区</td>\n",
       "    </tr>\n",
       "    <tr>\n",
       "      <th>5</th>\n",
       "      <td>王建国</td>\n",
       "      <td>男</td>\n",
       "      <td>21</td>\n",
       "      <td>140</td>\n",
       "      <td>111</td>\n",
       "      <td>580</td>\n",
       "      <td>湖北省武汉市江夏区</td>\n",
       "    </tr>\n",
       "  </tbody>\n",
       "</table>\n",
       "</div>"
      ],
      "text/plain": [
       "  name sex  age  math  chinese  score    address\n",
       "0   小明   男   20   120      100    590  广东省深圳市南山区\n",
       "3   关宇   男   21   120      120    620     北京市东城区\n",
       "5  王建国   男   21   140      111    580  湖北省武汉市江夏区"
      ]
     },
     "execution_count": 4,
     "metadata": {},
     "output_type": "execute_result"
    }
   ],
   "source": [
    "# 3、指定具体数据\n",
    "df[df.sex == '男']  # 等同于 df[df['sex'] == '男']"
   ]
  },
  {
   "cell_type": "code",
   "execution_count": 5,
   "id": "da903a8e",
   "metadata": {},
   "outputs": [
    {
     "data": {
      "text/html": [
       "<div>\n",
       "<style scoped>\n",
       "    .dataframe tbody tr th:only-of-type {\n",
       "        vertical-align: middle;\n",
       "    }\n",
       "\n",
       "    .dataframe tbody tr th {\n",
       "        vertical-align: top;\n",
       "    }\n",
       "\n",
       "    .dataframe thead th {\n",
       "        text-align: right;\n",
       "    }\n",
       "</style>\n",
       "<table border=\"1\" class=\"dataframe\">\n",
       "  <thead>\n",
       "    <tr style=\"text-align: right;\">\n",
       "      <th></th>\n",
       "      <th>name</th>\n",
       "      <th>sex</th>\n",
       "      <th>age</th>\n",
       "      <th>math</th>\n",
       "      <th>chinese</th>\n",
       "      <th>score</th>\n",
       "      <th>address</th>\n",
       "    </tr>\n",
       "  </thead>\n",
       "  <tbody>\n",
       "    <tr>\n",
       "      <th>0</th>\n",
       "      <td>小明</td>\n",
       "      <td>男</td>\n",
       "      <td>20</td>\n",
       "      <td>120</td>\n",
       "      <td>100</td>\n",
       "      <td>590</td>\n",
       "      <td>广东省深圳市南山区</td>\n",
       "    </tr>\n",
       "    <tr>\n",
       "      <th>5</th>\n",
       "      <td>王建国</td>\n",
       "      <td>男</td>\n",
       "      <td>21</td>\n",
       "      <td>140</td>\n",
       "      <td>111</td>\n",
       "      <td>580</td>\n",
       "      <td>湖北省武汉市江夏区</td>\n",
       "    </tr>\n",
       "    <tr>\n",
       "      <th>6</th>\n",
       "      <td>刘蓓</td>\n",
       "      <td>女</td>\n",
       "      <td>24</td>\n",
       "      <td>134</td>\n",
       "      <td>118</td>\n",
       "      <td>634</td>\n",
       "      <td>广东省深圳市龙华区</td>\n",
       "    </tr>\n",
       "  </tbody>\n",
       "</table>\n",
       "</div>"
      ],
      "text/plain": [
       "  name sex  age  math  chinese  score    address\n",
       "0   小明   男   20   120      100    590  广东省深圳市南山区\n",
       "5  王建国   男   21   140      111    580  湖北省武汉市江夏区\n",
       "6   刘蓓   女   24   134      118    634  广东省深圳市龙华区"
      ]
     },
     "execution_count": 5,
     "metadata": {},
     "output_type": "execute_result"
    }
   ],
   "source": [
    "# 4、比较表达式\n",
    "df[df['math'] > df['chinese']]"
   ]
  },
  {
   "cell_type": "code",
   "execution_count": 6,
   "id": "df5bbe92",
   "metadata": {},
   "outputs": [
    {
     "data": {
      "text/html": [
       "<div>\n",
       "<style scoped>\n",
       "    .dataframe tbody tr th:only-of-type {\n",
       "        vertical-align: middle;\n",
       "    }\n",
       "\n",
       "    .dataframe tbody tr th {\n",
       "        vertical-align: top;\n",
       "    }\n",
       "\n",
       "    .dataframe thead th {\n",
       "        text-align: right;\n",
       "    }\n",
       "</style>\n",
       "<table border=\"1\" class=\"dataframe\">\n",
       "  <thead>\n",
       "    <tr style=\"text-align: right;\">\n",
       "      <th></th>\n",
       "      <th>name</th>\n",
       "      <th>sex</th>\n",
       "      <th>age</th>\n",
       "      <th>math</th>\n",
       "      <th>chinese</th>\n",
       "      <th>score</th>\n",
       "      <th>address</th>\n",
       "    </tr>\n",
       "  </thead>\n",
       "  <tbody>\n",
       "    <tr>\n",
       "      <th>1</th>\n",
       "      <td>小王</td>\n",
       "      <td>女</td>\n",
       "      <td>23</td>\n",
       "      <td>130</td>\n",
       "      <td>130</td>\n",
       "      <td>600</td>\n",
       "      <td>北京市海淀区</td>\n",
       "    </tr>\n",
       "    <tr>\n",
       "      <th>5</th>\n",
       "      <td>王建国</td>\n",
       "      <td>男</td>\n",
       "      <td>21</td>\n",
       "      <td>140</td>\n",
       "      <td>111</td>\n",
       "      <td>580</td>\n",
       "      <td>湖北省武汉市江夏区</td>\n",
       "    </tr>\n",
       "    <tr>\n",
       "      <th>6</th>\n",
       "      <td>刘蓓</td>\n",
       "      <td>女</td>\n",
       "      <td>24</td>\n",
       "      <td>134</td>\n",
       "      <td>118</td>\n",
       "      <td>634</td>\n",
       "      <td>广东省深圳市龙华区</td>\n",
       "    </tr>\n",
       "  </tbody>\n",
       "</table>\n",
       "</div>"
      ],
      "text/plain": [
       "  name sex  age  math  chinese  score    address\n",
       "1   小王   女   23   130      130    600     北京市海淀区\n",
       "5  王建国   男   21   140      111    580  湖北省武汉市江夏区\n",
       "6   刘蓓   女   24   134      118    634  广东省深圳市龙华区"
      ]
     },
     "execution_count": 6,
     "metadata": {},
     "output_type": "execute_result"
    }
   ],
   "source": [
    "# 5、逻辑运算符\n",
    "df[(df['math'] > 120) & (df['chinese'] < 140)]"
   ]
  },
  {
   "cell_type": "code",
   "execution_count": 7,
   "id": "cc931745",
   "metadata": {},
   "outputs": [
    {
     "data": {
      "text/html": [
       "<div>\n",
       "<style scoped>\n",
       "    .dataframe tbody tr th:only-of-type {\n",
       "        vertical-align: middle;\n",
       "    }\n",
       "\n",
       "    .dataframe tbody tr th {\n",
       "        vertical-align: top;\n",
       "    }\n",
       "\n",
       "    .dataframe thead th {\n",
       "        text-align: right;\n",
       "    }\n",
       "</style>\n",
       "<table border=\"1\" class=\"dataframe\">\n",
       "  <thead>\n",
       "    <tr style=\"text-align: right;\">\n",
       "      <th></th>\n",
       "      <th>name</th>\n",
       "      <th>sex</th>\n",
       "      <th>age</th>\n",
       "      <th>math</th>\n",
       "      <th>chinese</th>\n",
       "      <th>score</th>\n",
       "      <th>address</th>\n",
       "    </tr>\n",
       "  </thead>\n",
       "  <tbody>\n",
       "    <tr>\n",
       "      <th>5</th>\n",
       "      <td>王建国</td>\n",
       "      <td>男</td>\n",
       "      <td>21</td>\n",
       "      <td>140</td>\n",
       "      <td>111</td>\n",
       "      <td>580</td>\n",
       "      <td>湖北省武汉市江夏区</td>\n",
       "    </tr>\n",
       "    <tr>\n",
       "      <th>6</th>\n",
       "      <td>刘蓓</td>\n",
       "      <td>女</td>\n",
       "      <td>24</td>\n",
       "      <td>134</td>\n",
       "      <td>118</td>\n",
       "      <td>634</td>\n",
       "      <td>广东省深圳市龙华区</td>\n",
       "    </tr>\n",
       "  </tbody>\n",
       "</table>\n",
       "</div>"
      ],
      "text/plain": [
       "  name sex  age  math  chinese  score    address\n",
       "5  王建国   男   21   140      111    580  湖北省武汉市江夏区\n",
       "6   刘蓓   女   24   134      118    634  广东省深圳市龙华区"
      ]
     },
     "execution_count": 7,
     "metadata": {},
     "output_type": "execute_result"
    }
   ],
   "source": [
    "# 1、使用数值型表达式\n",
    "df.query('math > chinese > 110')"
   ]
  },
  {
   "cell_type": "code",
   "execution_count": 8,
   "id": "f8ffbc35",
   "metadata": {},
   "outputs": [
    {
     "data": {
      "text/html": [
       "<div>\n",
       "<style scoped>\n",
       "    .dataframe tbody tr th:only-of-type {\n",
       "        vertical-align: middle;\n",
       "    }\n",
       "\n",
       "    .dataframe tbody tr th {\n",
       "        vertical-align: top;\n",
       "    }\n",
       "\n",
       "    .dataframe thead th {\n",
       "        text-align: right;\n",
       "    }\n",
       "</style>\n",
       "<table border=\"1\" class=\"dataframe\">\n",
       "  <thead>\n",
       "    <tr style=\"text-align: right;\">\n",
       "      <th></th>\n",
       "      <th>name</th>\n",
       "      <th>sex</th>\n",
       "      <th>age</th>\n",
       "      <th>math</th>\n",
       "      <th>chinese</th>\n",
       "      <th>score</th>\n",
       "      <th>address</th>\n",
       "    </tr>\n",
       "  </thead>\n",
       "  <tbody>\n",
       "    <tr>\n",
       "      <th>1</th>\n",
       "      <td>小王</td>\n",
       "      <td>女</td>\n",
       "      <td>23</td>\n",
       "      <td>130</td>\n",
       "      <td>130</td>\n",
       "      <td>600</td>\n",
       "      <td>北京市海淀区</td>\n",
       "    </tr>\n",
       "    <tr>\n",
       "      <th>2</th>\n",
       "      <td>张菲</td>\n",
       "      <td>女</td>\n",
       "      <td>18</td>\n",
       "      <td>118</td>\n",
       "      <td>140</td>\n",
       "      <td>550</td>\n",
       "      <td>湖南省长沙市雨花区</td>\n",
       "    </tr>\n",
       "  </tbody>\n",
       "</table>\n",
       "</div>"
      ],
      "text/plain": [
       "  name sex  age  math  chinese  score    address\n",
       "1   小王   女   23   130      130    600     北京市海淀区\n",
       "2   张菲   女   18   118      140    550  湖南省长沙市雨花区"
      ]
     },
     "execution_count": 8,
     "metadata": {},
     "output_type": "execute_result"
    }
   ],
   "source": [
    "df.query('math + chinese > 255')"
   ]
  },
  {
   "cell_type": "code",
   "execution_count": 9,
   "id": "eed1bafb",
   "metadata": {},
   "outputs": [
    {
     "data": {
      "text/html": [
       "<div>\n",
       "<style scoped>\n",
       "    .dataframe tbody tr th:only-of-type {\n",
       "        vertical-align: middle;\n",
       "    }\n",
       "\n",
       "    .dataframe tbody tr th {\n",
       "        vertical-align: top;\n",
       "    }\n",
       "\n",
       "    .dataframe thead th {\n",
       "        text-align: right;\n",
       "    }\n",
       "</style>\n",
       "<table border=\"1\" class=\"dataframe\">\n",
       "  <thead>\n",
       "    <tr style=\"text-align: right;\">\n",
       "      <th></th>\n",
       "      <th>name</th>\n",
       "      <th>sex</th>\n",
       "      <th>age</th>\n",
       "      <th>math</th>\n",
       "      <th>chinese</th>\n",
       "      <th>score</th>\n",
       "      <th>address</th>\n",
       "    </tr>\n",
       "  </thead>\n",
       "  <tbody>\n",
       "    <tr>\n",
       "      <th>1</th>\n",
       "      <td>小王</td>\n",
       "      <td>女</td>\n",
       "      <td>23</td>\n",
       "      <td>130</td>\n",
       "      <td>130</td>\n",
       "      <td>600</td>\n",
       "      <td>北京市海淀区</td>\n",
       "    </tr>\n",
       "    <tr>\n",
       "      <th>3</th>\n",
       "      <td>关宇</td>\n",
       "      <td>男</td>\n",
       "      <td>21</td>\n",
       "      <td>120</td>\n",
       "      <td>120</td>\n",
       "      <td>620</td>\n",
       "      <td>北京市东城区</td>\n",
       "    </tr>\n",
       "  </tbody>\n",
       "</table>\n",
       "</div>"
      ],
      "text/plain": [
       "  name sex  age  math  chinese  score address\n",
       "1   小王   女   23   130      130    600  北京市海淀区\n",
       "3   关宇   男   21   120      120    620  北京市东城区"
      ]
     },
     "execution_count": 9,
     "metadata": {},
     "output_type": "execute_result"
    }
   ],
   "source": [
    "df.query('math == chinese')"
   ]
  },
  {
   "cell_type": "code",
   "execution_count": 10,
   "id": "4e190c59",
   "metadata": {},
   "outputs": [
    {
     "data": {
      "text/html": [
       "<div>\n",
       "<style scoped>\n",
       "    .dataframe tbody tr th:only-of-type {\n",
       "        vertical-align: middle;\n",
       "    }\n",
       "\n",
       "    .dataframe tbody tr th {\n",
       "        vertical-align: top;\n",
       "    }\n",
       "\n",
       "    .dataframe thead th {\n",
       "        text-align: right;\n",
       "    }\n",
       "</style>\n",
       "<table border=\"1\" class=\"dataframe\">\n",
       "  <thead>\n",
       "    <tr style=\"text-align: right;\">\n",
       "      <th></th>\n",
       "      <th>name</th>\n",
       "      <th>sex</th>\n",
       "      <th>age</th>\n",
       "      <th>math</th>\n",
       "      <th>chinese</th>\n",
       "      <th>score</th>\n",
       "      <th>address</th>\n",
       "    </tr>\n",
       "  </thead>\n",
       "  <tbody>\n",
       "    <tr>\n",
       "      <th>1</th>\n",
       "      <td>小王</td>\n",
       "      <td>女</td>\n",
       "      <td>23</td>\n",
       "      <td>130</td>\n",
       "      <td>130</td>\n",
       "      <td>600</td>\n",
       "      <td>北京市海淀区</td>\n",
       "    </tr>\n",
       "  </tbody>\n",
       "</table>\n",
       "</div>"
      ],
      "text/plain": [
       "  name sex  age  math  chinese  score address\n",
       "1   小王   女   23   130      130    600  北京市海淀区"
      ]
     },
     "execution_count": 10,
     "metadata": {},
     "output_type": "execute_result"
    }
   ],
   "source": [
    "df.query('math == chinese > 120')"
   ]
  },
  {
   "cell_type": "code",
   "execution_count": 11,
   "id": "3c134020",
   "metadata": {},
   "outputs": [
    {
     "data": {
      "text/html": [
       "<div>\n",
       "<style scoped>\n",
       "    .dataframe tbody tr th:only-of-type {\n",
       "        vertical-align: middle;\n",
       "    }\n",
       "\n",
       "    .dataframe tbody tr th {\n",
       "        vertical-align: top;\n",
       "    }\n",
       "\n",
       "    .dataframe thead th {\n",
       "        text-align: right;\n",
       "    }\n",
       "</style>\n",
       "<table border=\"1\" class=\"dataframe\">\n",
       "  <thead>\n",
       "    <tr style=\"text-align: right;\">\n",
       "      <th></th>\n",
       "      <th>name</th>\n",
       "      <th>sex</th>\n",
       "      <th>age</th>\n",
       "      <th>math</th>\n",
       "      <th>chinese</th>\n",
       "      <th>score</th>\n",
       "      <th>address</th>\n",
       "    </tr>\n",
       "  </thead>\n",
       "  <tbody>\n",
       "    <tr>\n",
       "      <th>0</th>\n",
       "      <td>小明</td>\n",
       "      <td>男</td>\n",
       "      <td>20</td>\n",
       "      <td>120</td>\n",
       "      <td>100</td>\n",
       "      <td>590</td>\n",
       "      <td>广东省深圳市南山区</td>\n",
       "    </tr>\n",
       "    <tr>\n",
       "      <th>1</th>\n",
       "      <td>小王</td>\n",
       "      <td>女</td>\n",
       "      <td>23</td>\n",
       "      <td>130</td>\n",
       "      <td>130</td>\n",
       "      <td>600</td>\n",
       "      <td>北京市海淀区</td>\n",
       "    </tr>\n",
       "    <tr>\n",
       "      <th>3</th>\n",
       "      <td>关宇</td>\n",
       "      <td>男</td>\n",
       "      <td>21</td>\n",
       "      <td>120</td>\n",
       "      <td>120</td>\n",
       "      <td>620</td>\n",
       "      <td>北京市东城区</td>\n",
       "    </tr>\n",
       "    <tr>\n",
       "      <th>5</th>\n",
       "      <td>王建国</td>\n",
       "      <td>男</td>\n",
       "      <td>21</td>\n",
       "      <td>140</td>\n",
       "      <td>111</td>\n",
       "      <td>580</td>\n",
       "      <td>湖北省武汉市江夏区</td>\n",
       "    </tr>\n",
       "    <tr>\n",
       "      <th>6</th>\n",
       "      <td>刘蓓</td>\n",
       "      <td>女</td>\n",
       "      <td>24</td>\n",
       "      <td>134</td>\n",
       "      <td>118</td>\n",
       "      <td>634</td>\n",
       "      <td>广东省深圳市龙华区</td>\n",
       "    </tr>\n",
       "  </tbody>\n",
       "</table>\n",
       "</div>"
      ],
      "text/plain": [
       "  name sex  age  math  chinese  score    address\n",
       "0   小明   男   20   120      100    590  广东省深圳市南山区\n",
       "1   小王   女   23   130      130    600     北京市海淀区\n",
       "3   关宇   男   21   120      120    620     北京市东城区\n",
       "5  王建国   男   21   140      111    580  湖北省武汉市江夏区\n",
       "6   刘蓓   女   24   134      118    634  广东省深圳市龙华区"
      ]
     },
     "execution_count": 11,
     "metadata": {},
     "output_type": "execute_result"
    }
   ],
   "source": [
    "df.query('(math > 110) and (chinese < 135)')  # 两个不等式"
   ]
  },
  {
   "cell_type": "code",
   "execution_count": 12,
   "id": "2ced2d40",
   "metadata": {},
   "outputs": [
    {
     "data": {
      "text/html": [
       "<div>\n",
       "<style scoped>\n",
       "    .dataframe tbody tr th:only-of-type {\n",
       "        vertical-align: middle;\n",
       "    }\n",
       "\n",
       "    .dataframe tbody tr th {\n",
       "        vertical-align: top;\n",
       "    }\n",
       "\n",
       "    .dataframe thead th {\n",
       "        text-align: right;\n",
       "    }\n",
       "</style>\n",
       "<table border=\"1\" class=\"dataframe\">\n",
       "  <thead>\n",
       "    <tr style=\"text-align: right;\">\n",
       "      <th></th>\n",
       "      <th>name</th>\n",
       "      <th>sex</th>\n",
       "      <th>age</th>\n",
       "      <th>math</th>\n",
       "      <th>chinese</th>\n",
       "      <th>score</th>\n",
       "      <th>address</th>\n",
       "    </tr>\n",
       "  </thead>\n",
       "  <tbody>\n",
       "    <tr>\n",
       "      <th>0</th>\n",
       "      <td>小明</td>\n",
       "      <td>男</td>\n",
       "      <td>20</td>\n",
       "      <td>120</td>\n",
       "      <td>100</td>\n",
       "      <td>590</td>\n",
       "      <td>广东省深圳市南山区</td>\n",
       "    </tr>\n",
       "    <tr>\n",
       "      <th>3</th>\n",
       "      <td>关宇</td>\n",
       "      <td>男</td>\n",
       "      <td>21</td>\n",
       "      <td>120</td>\n",
       "      <td>120</td>\n",
       "      <td>620</td>\n",
       "      <td>北京市东城区</td>\n",
       "    </tr>\n",
       "    <tr>\n",
       "      <th>5</th>\n",
       "      <td>王建国</td>\n",
       "      <td>男</td>\n",
       "      <td>21</td>\n",
       "      <td>140</td>\n",
       "      <td>111</td>\n",
       "      <td>580</td>\n",
       "      <td>湖北省武汉市江夏区</td>\n",
       "    </tr>\n",
       "  </tbody>\n",
       "</table>\n",
       "</div>"
      ],
      "text/plain": [
       "  name sex  age  math  chinese  score    address\n",
       "0   小明   男   20   120      100    590  广东省深圳市南山区\n",
       "3   关宇   男   21   120      120    620     北京市东城区\n",
       "5  王建国   男   21   140      111    580  湖北省武汉市江夏区"
      ]
     },
     "execution_count": 12,
     "metadata": {},
     "output_type": "execute_result"
    }
   ],
   "source": [
    "# 2、使用字符型表达式\n",
    "df.query('sex != \"女\"')  # 不等于女，就是全部男"
   ]
  },
  {
   "cell_type": "code",
   "execution_count": 13,
   "id": "1a852e34",
   "metadata": {},
   "outputs": [
    {
     "data": {
      "text/html": [
       "<div>\n",
       "<style scoped>\n",
       "    .dataframe tbody tr th:only-of-type {\n",
       "        vertical-align: middle;\n",
       "    }\n",
       "\n",
       "    .dataframe tbody tr th {\n",
       "        vertical-align: top;\n",
       "    }\n",
       "\n",
       "    .dataframe thead th {\n",
       "        text-align: right;\n",
       "    }\n",
       "</style>\n",
       "<table border=\"1\" class=\"dataframe\">\n",
       "  <thead>\n",
       "    <tr style=\"text-align: right;\">\n",
       "      <th></th>\n",
       "      <th>name</th>\n",
       "      <th>sex</th>\n",
       "      <th>age</th>\n",
       "      <th>math</th>\n",
       "      <th>chinese</th>\n",
       "      <th>score</th>\n",
       "      <th>address</th>\n",
       "    </tr>\n",
       "  </thead>\n",
       "  <tbody>\n",
       "    <tr>\n",
       "      <th>0</th>\n",
       "      <td>小明</td>\n",
       "      <td>男</td>\n",
       "      <td>20</td>\n",
       "      <td>120</td>\n",
       "      <td>100</td>\n",
       "      <td>590</td>\n",
       "      <td>广东省深圳市南山区</td>\n",
       "    </tr>\n",
       "    <tr>\n",
       "      <th>3</th>\n",
       "      <td>关宇</td>\n",
       "      <td>男</td>\n",
       "      <td>21</td>\n",
       "      <td>120</td>\n",
       "      <td>120</td>\n",
       "      <td>620</td>\n",
       "      <td>北京市东城区</td>\n",
       "    </tr>\n",
       "    <tr>\n",
       "      <th>5</th>\n",
       "      <td>王建国</td>\n",
       "      <td>男</td>\n",
       "      <td>21</td>\n",
       "      <td>140</td>\n",
       "      <td>111</td>\n",
       "      <td>580</td>\n",
       "      <td>湖北省武汉市江夏区</td>\n",
       "    </tr>\n",
       "  </tbody>\n",
       "</table>\n",
       "</div>"
      ],
      "text/plain": [
       "  name sex  age  math  chinese  score    address\n",
       "0   小明   男   20   120      100    590  广东省深圳市南山区\n",
       "3   关宇   男   21   120      120    620     北京市东城区\n",
       "5  王建国   男   21   140      111    580  湖北省武汉市江夏区"
      ]
     },
     "execution_count": 13,
     "metadata": {},
     "output_type": "execute_result"
    }
   ],
   "source": [
    "df.query('sex not in (\"女\")')  # 不在女中就是男"
   ]
  },
  {
   "cell_type": "code",
   "execution_count": 14,
   "id": "ce76d5e9",
   "metadata": {},
   "outputs": [
    {
     "data": {
      "text/html": [
       "<div>\n",
       "<style scoped>\n",
       "    .dataframe tbody tr th:only-of-type {\n",
       "        vertical-align: middle;\n",
       "    }\n",
       "\n",
       "    .dataframe tbody tr th {\n",
       "        vertical-align: top;\n",
       "    }\n",
       "\n",
       "    .dataframe thead th {\n",
       "        text-align: right;\n",
       "    }\n",
       "</style>\n",
       "<table border=\"1\" class=\"dataframe\">\n",
       "  <thead>\n",
       "    <tr style=\"text-align: right;\">\n",
       "      <th></th>\n",
       "      <th>name</th>\n",
       "      <th>sex</th>\n",
       "      <th>age</th>\n",
       "      <th>math</th>\n",
       "      <th>chinese</th>\n",
       "      <th>score</th>\n",
       "      <th>address</th>\n",
       "    </tr>\n",
       "  </thead>\n",
       "  <tbody>\n",
       "    <tr>\n",
       "      <th>0</th>\n",
       "      <td>小明</td>\n",
       "      <td>男</td>\n",
       "      <td>20</td>\n",
       "      <td>120</td>\n",
       "      <td>100</td>\n",
       "      <td>590</td>\n",
       "      <td>广东省深圳市南山区</td>\n",
       "    </tr>\n",
       "    <tr>\n",
       "      <th>1</th>\n",
       "      <td>小王</td>\n",
       "      <td>女</td>\n",
       "      <td>23</td>\n",
       "      <td>130</td>\n",
       "      <td>130</td>\n",
       "      <td>600</td>\n",
       "      <td>北京市海淀区</td>\n",
       "    </tr>\n",
       "    <tr>\n",
       "      <th>2</th>\n",
       "      <td>张菲</td>\n",
       "      <td>女</td>\n",
       "      <td>18</td>\n",
       "      <td>118</td>\n",
       "      <td>140</td>\n",
       "      <td>550</td>\n",
       "      <td>湖南省长沙市雨花区</td>\n",
       "    </tr>\n",
       "    <tr>\n",
       "      <th>3</th>\n",
       "      <td>关宇</td>\n",
       "      <td>男</td>\n",
       "      <td>21</td>\n",
       "      <td>120</td>\n",
       "      <td>120</td>\n",
       "      <td>620</td>\n",
       "      <td>北京市东城区</td>\n",
       "    </tr>\n",
       "    <tr>\n",
       "      <th>4</th>\n",
       "      <td>孙小小</td>\n",
       "      <td>女</td>\n",
       "      <td>25</td>\n",
       "      <td>102</td>\n",
       "      <td>149</td>\n",
       "      <td>610</td>\n",
       "      <td>广东省广州市白云区</td>\n",
       "    </tr>\n",
       "    <tr>\n",
       "      <th>5</th>\n",
       "      <td>王建国</td>\n",
       "      <td>男</td>\n",
       "      <td>21</td>\n",
       "      <td>140</td>\n",
       "      <td>111</td>\n",
       "      <td>580</td>\n",
       "      <td>湖北省武汉市江夏区</td>\n",
       "    </tr>\n",
       "    <tr>\n",
       "      <th>6</th>\n",
       "      <td>刘蓓</td>\n",
       "      <td>女</td>\n",
       "      <td>24</td>\n",
       "      <td>134</td>\n",
       "      <td>118</td>\n",
       "      <td>634</td>\n",
       "      <td>广东省深圳市龙华区</td>\n",
       "    </tr>\n",
       "  </tbody>\n",
       "</table>\n",
       "</div>"
      ],
      "text/plain": [
       "  name sex  age  math  chinese  score    address\n",
       "0   小明   男   20   120      100    590  广东省深圳市南山区\n",
       "1   小王   女   23   130      130    600     北京市海淀区\n",
       "2   张菲   女   18   118      140    550  湖南省长沙市雨花区\n",
       "3   关宇   男   21   120      120    620     北京市东城区\n",
       "4  孙小小   女   25   102      149    610  广东省广州市白云区\n",
       "5  王建国   男   21   140      111    580  湖北省武汉市江夏区\n",
       "6   刘蓓   女   24   134      118    634  广东省深圳市龙华区"
      ]
     },
     "execution_count": 14,
     "metadata": {},
     "output_type": "execute_result"
    }
   ],
   "source": [
    "df.query('sex in (\"男\",\"女\")')   # 性别在男女中就是全部人"
   ]
  },
  {
   "cell_type": "code",
   "execution_count": 15,
   "id": "ae7d8d0a",
   "metadata": {},
   "outputs": [
    {
     "data": {
      "text/html": [
       "<div>\n",
       "<style scoped>\n",
       "    .dataframe tbody tr th:only-of-type {\n",
       "        vertical-align: middle;\n",
       "    }\n",
       "\n",
       "    .dataframe tbody tr th {\n",
       "        vertical-align: top;\n",
       "    }\n",
       "\n",
       "    .dataframe thead th {\n",
       "        text-align: right;\n",
       "    }\n",
       "</style>\n",
       "<table border=\"1\" class=\"dataframe\">\n",
       "  <thead>\n",
       "    <tr style=\"text-align: right;\">\n",
       "      <th></th>\n",
       "      <th>name</th>\n",
       "      <th>sex</th>\n",
       "      <th>age</th>\n",
       "      <th>math</th>\n",
       "      <th>chinese</th>\n",
       "      <th>score</th>\n",
       "      <th>address</th>\n",
       "    </tr>\n",
       "  </thead>\n",
       "  <tbody>\n",
       "    <tr>\n",
       "      <th>5</th>\n",
       "      <td>王建国</td>\n",
       "      <td>男</td>\n",
       "      <td>21</td>\n",
       "      <td>140</td>\n",
       "      <td>111</td>\n",
       "      <td>580</td>\n",
       "      <td>湖北省武汉市江夏区</td>\n",
       "    </tr>\n",
       "    <tr>\n",
       "      <th>6</th>\n",
       "      <td>刘蓓</td>\n",
       "      <td>女</td>\n",
       "      <td>24</td>\n",
       "      <td>134</td>\n",
       "      <td>118</td>\n",
       "      <td>634</td>\n",
       "      <td>广东省深圳市龙华区</td>\n",
       "    </tr>\n",
       "  </tbody>\n",
       "</table>\n",
       "</div>"
      ],
      "text/plain": [
       "  name sex  age  math  chinese  score    address\n",
       "5  王建国   男   21   140      111    580  湖北省武汉市江夏区\n",
       "6   刘蓓   女   24   134      118    634  广东省深圳市龙华区"
      ]
     },
     "execution_count": 15,
     "metadata": {},
     "output_type": "execute_result"
    }
   ],
   "source": [
    "# 3、传入变量；变量在使用的时候需要在前面加上@\n",
    "a = df.math.mean()\n",
    "df.query('math > @a + 10')"
   ]
  },
  {
   "cell_type": "code",
   "execution_count": 16,
   "id": "a26f0509",
   "metadata": {},
   "outputs": [
    {
     "data": {
      "text/html": [
       "<div>\n",
       "<style scoped>\n",
       "    .dataframe tbody tr th:only-of-type {\n",
       "        vertical-align: middle;\n",
       "    }\n",
       "\n",
       "    .dataframe tbody tr th {\n",
       "        vertical-align: top;\n",
       "    }\n",
       "\n",
       "    .dataframe thead th {\n",
       "        text-align: right;\n",
       "    }\n",
       "</style>\n",
       "<table border=\"1\" class=\"dataframe\">\n",
       "  <thead>\n",
       "    <tr style=\"text-align: right;\">\n",
       "      <th></th>\n",
       "      <th>name</th>\n",
       "      <th>sex</th>\n",
       "      <th>age</th>\n",
       "      <th>math</th>\n",
       "      <th>chinese</th>\n",
       "      <th>score</th>\n",
       "      <th>address</th>\n",
       "    </tr>\n",
       "  </thead>\n",
       "  <tbody>\n",
       "    <tr>\n",
       "      <th>2</th>\n",
       "      <td>张菲</td>\n",
       "      <td>女</td>\n",
       "      <td>18</td>\n",
       "      <td>118</td>\n",
       "      <td>140</td>\n",
       "      <td>550</td>\n",
       "      <td>湖南省长沙市雨花区</td>\n",
       "    </tr>\n",
       "    <tr>\n",
       "      <th>3</th>\n",
       "      <td>关宇</td>\n",
       "      <td>男</td>\n",
       "      <td>21</td>\n",
       "      <td>120</td>\n",
       "      <td>120</td>\n",
       "      <td>620</td>\n",
       "      <td>北京市东城区</td>\n",
       "    </tr>\n",
       "    <tr>\n",
       "      <th>4</th>\n",
       "      <td>孙小小</td>\n",
       "      <td>女</td>\n",
       "      <td>25</td>\n",
       "      <td>102</td>\n",
       "      <td>149</td>\n",
       "      <td>610</td>\n",
       "      <td>广东省广州市白云区</td>\n",
       "    </tr>\n",
       "  </tbody>\n",
       "</table>\n",
       "</div>"
      ],
      "text/plain": [
       "  name sex  age  math  chinese  score    address\n",
       "2   张菲   女   18   118      140    550  湖南省长沙市雨花区\n",
       "3   关宇   男   21   120      120    620     北京市东城区\n",
       "4  孙小小   女   25   102      149    610  广东省广州市白云区"
      ]
     },
     "execution_count": 16,
     "metadata": {},
     "output_type": "execute_result"
    }
   ],
   "source": [
    "df.query('math < (`chinese` + @a) / 2')"
   ]
  },
  {
   "cell_type": "code",
   "execution_count": 17,
   "id": "2403c88d",
   "metadata": {},
   "outputs": [
    {
     "data": {
      "text/plain": [
       "0    False\n",
       "1     True\n",
       "2    False\n",
       "3    False\n",
       "4    False\n",
       "5     True\n",
       "6     True\n",
       "dtype: bool"
      ]
     },
     "execution_count": 17,
     "metadata": {},
     "output_type": "execute_result"
    }
   ],
   "source": [
    "# 1、数值型表达式\n",
    "df.eval('math > 125')   # 得到的是bool表达式"
   ]
  },
  {
   "cell_type": "code",
   "execution_count": 18,
   "id": "bfe9f431",
   "metadata": {},
   "outputs": [
    {
     "data": {
      "text/html": [
       "<div>\n",
       "<style scoped>\n",
       "    .dataframe tbody tr th:only-of-type {\n",
       "        vertical-align: middle;\n",
       "    }\n",
       "\n",
       "    .dataframe tbody tr th {\n",
       "        vertical-align: top;\n",
       "    }\n",
       "\n",
       "    .dataframe thead th {\n",
       "        text-align: right;\n",
       "    }\n",
       "</style>\n",
       "<table border=\"1\" class=\"dataframe\">\n",
       "  <thead>\n",
       "    <tr style=\"text-align: right;\">\n",
       "      <th></th>\n",
       "      <th>name</th>\n",
       "      <th>sex</th>\n",
       "      <th>age</th>\n",
       "      <th>math</th>\n",
       "      <th>chinese</th>\n",
       "      <th>score</th>\n",
       "      <th>address</th>\n",
       "    </tr>\n",
       "  </thead>\n",
       "  <tbody>\n",
       "    <tr>\n",
       "      <th>1</th>\n",
       "      <td>小王</td>\n",
       "      <td>女</td>\n",
       "      <td>23</td>\n",
       "      <td>130</td>\n",
       "      <td>130</td>\n",
       "      <td>600</td>\n",
       "      <td>北京市海淀区</td>\n",
       "    </tr>\n",
       "    <tr>\n",
       "      <th>5</th>\n",
       "      <td>王建国</td>\n",
       "      <td>男</td>\n",
       "      <td>21</td>\n",
       "      <td>140</td>\n",
       "      <td>111</td>\n",
       "      <td>580</td>\n",
       "      <td>湖北省武汉市江夏区</td>\n",
       "    </tr>\n",
       "    <tr>\n",
       "      <th>6</th>\n",
       "      <td>刘蓓</td>\n",
       "      <td>女</td>\n",
       "      <td>24</td>\n",
       "      <td>134</td>\n",
       "      <td>118</td>\n",
       "      <td>634</td>\n",
       "      <td>广东省深圳市龙华区</td>\n",
       "    </tr>\n",
       "  </tbody>\n",
       "</table>\n",
       "</div>"
      ],
      "text/plain": [
       "  name sex  age  math  chinese  score    address\n",
       "1   小王   女   23   130      130    600     北京市海淀区\n",
       "5  王建国   男   21   140      111    580  湖北省武汉市江夏区\n",
       "6   刘蓓   女   24   134      118    634  广东省深圳市龙华区"
      ]
     },
     "execution_count": 18,
     "metadata": {},
     "output_type": "execute_result"
    }
   ],
   "source": [
    "df[df.eval('math > 125')]"
   ]
  },
  {
   "cell_type": "code",
   "execution_count": 19,
   "id": "e22985ab",
   "metadata": {},
   "outputs": [
    {
     "data": {
      "text/html": [
       "<div>\n",
       "<style scoped>\n",
       "    .dataframe tbody tr th:only-of-type {\n",
       "        vertical-align: middle;\n",
       "    }\n",
       "\n",
       "    .dataframe tbody tr th {\n",
       "        vertical-align: top;\n",
       "    }\n",
       "\n",
       "    .dataframe thead th {\n",
       "        text-align: right;\n",
       "    }\n",
       "</style>\n",
       "<table border=\"1\" class=\"dataframe\">\n",
       "  <thead>\n",
       "    <tr style=\"text-align: right;\">\n",
       "      <th></th>\n",
       "      <th>name</th>\n",
       "      <th>sex</th>\n",
       "      <th>age</th>\n",
       "      <th>math</th>\n",
       "      <th>chinese</th>\n",
       "      <th>score</th>\n",
       "      <th>address</th>\n",
       "    </tr>\n",
       "  </thead>\n",
       "  <tbody>\n",
       "    <tr>\n",
       "      <th>5</th>\n",
       "      <td>王建国</td>\n",
       "      <td>男</td>\n",
       "      <td>21</td>\n",
       "      <td>140</td>\n",
       "      <td>111</td>\n",
       "      <td>580</td>\n",
       "      <td>湖北省武汉市江夏区</td>\n",
       "    </tr>\n",
       "    <tr>\n",
       "      <th>6</th>\n",
       "      <td>刘蓓</td>\n",
       "      <td>女</td>\n",
       "      <td>24</td>\n",
       "      <td>134</td>\n",
       "      <td>118</td>\n",
       "      <td>634</td>\n",
       "      <td>广东省深圳市龙华区</td>\n",
       "    </tr>\n",
       "  </tbody>\n",
       "</table>\n",
       "</div>"
      ],
      "text/plain": [
       "  name sex  age  math  chinese  score    address\n",
       "5  王建国   男   21   140      111    580  湖北省武汉市江夏区\n",
       "6   刘蓓   女   24   134      118    634  广东省深圳市龙华区"
      ]
     },
     "execution_count": 19,
     "metadata": {},
     "output_type": "execute_result"
    }
   ],
   "source": [
    "df[df.eval('math > 125 and chinese < 130')]"
   ]
  },
  {
   "cell_type": "code",
   "execution_count": 20,
   "id": "eb6e87da",
   "metadata": {},
   "outputs": [
    {
     "data": {
      "text/html": [
       "<div>\n",
       "<style scoped>\n",
       "    .dataframe tbody tr th:only-of-type {\n",
       "        vertical-align: middle;\n",
       "    }\n",
       "\n",
       "    .dataframe tbody tr th {\n",
       "        vertical-align: top;\n",
       "    }\n",
       "\n",
       "    .dataframe thead th {\n",
       "        text-align: right;\n",
       "    }\n",
       "</style>\n",
       "<table border=\"1\" class=\"dataframe\">\n",
       "  <thead>\n",
       "    <tr style=\"text-align: right;\">\n",
       "      <th></th>\n",
       "      <th>name</th>\n",
       "      <th>sex</th>\n",
       "      <th>age</th>\n",
       "      <th>math</th>\n",
       "      <th>chinese</th>\n",
       "      <th>score</th>\n",
       "      <th>address</th>\n",
       "    </tr>\n",
       "  </thead>\n",
       "  <tbody>\n",
       "    <tr>\n",
       "      <th>0</th>\n",
       "      <td>小明</td>\n",
       "      <td>男</td>\n",
       "      <td>20</td>\n",
       "      <td>120</td>\n",
       "      <td>100</td>\n",
       "      <td>590</td>\n",
       "      <td>广东省深圳市南山区</td>\n",
       "    </tr>\n",
       "    <tr>\n",
       "      <th>3</th>\n",
       "      <td>关宇</td>\n",
       "      <td>男</td>\n",
       "      <td>21</td>\n",
       "      <td>120</td>\n",
       "      <td>120</td>\n",
       "      <td>620</td>\n",
       "      <td>北京市东城区</td>\n",
       "    </tr>\n",
       "    <tr>\n",
       "      <th>5</th>\n",
       "      <td>王建国</td>\n",
       "      <td>男</td>\n",
       "      <td>21</td>\n",
       "      <td>140</td>\n",
       "      <td>111</td>\n",
       "      <td>580</td>\n",
       "      <td>湖北省武汉市江夏区</td>\n",
       "    </tr>\n",
       "  </tbody>\n",
       "</table>\n",
       "</div>"
      ],
      "text/plain": [
       "  name sex  age  math  chinese  score    address\n",
       "0   小明   男   20   120      100    590  广东省深圳市南山区\n",
       "3   关宇   男   21   120      120    620     北京市东城区\n",
       "5  王建国   男   21   140      111    580  湖北省武汉市江夏区"
      ]
     },
     "execution_count": 20,
     "metadata": {},
     "output_type": "execute_result"
    }
   ],
   "source": [
    "# 2、字符型表达式\n",
    "df[df.eval('sex in (\"男\")')]"
   ]
  },
  {
   "cell_type": "code",
   "execution_count": 21,
   "id": "b122096c",
   "metadata": {},
   "outputs": [
    {
     "data": {
      "text/html": [
       "<div>\n",
       "<style scoped>\n",
       "    .dataframe tbody tr th:only-of-type {\n",
       "        vertical-align: middle;\n",
       "    }\n",
       "\n",
       "    .dataframe tbody tr th {\n",
       "        vertical-align: top;\n",
       "    }\n",
       "\n",
       "    .dataframe thead th {\n",
       "        text-align: right;\n",
       "    }\n",
       "</style>\n",
       "<table border=\"1\" class=\"dataframe\">\n",
       "  <thead>\n",
       "    <tr style=\"text-align: right;\">\n",
       "      <th></th>\n",
       "      <th>name</th>\n",
       "      <th>sex</th>\n",
       "      <th>age</th>\n",
       "      <th>math</th>\n",
       "      <th>chinese</th>\n",
       "      <th>score</th>\n",
       "      <th>address</th>\n",
       "    </tr>\n",
       "  </thead>\n",
       "  <tbody>\n",
       "    <tr>\n",
       "      <th>0</th>\n",
       "      <td>小明</td>\n",
       "      <td>男</td>\n",
       "      <td>20</td>\n",
       "      <td>120</td>\n",
       "      <td>100</td>\n",
       "      <td>590</td>\n",
       "      <td>广东省深圳市南山区</td>\n",
       "    </tr>\n",
       "    <tr>\n",
       "      <th>2</th>\n",
       "      <td>张菲</td>\n",
       "      <td>女</td>\n",
       "      <td>18</td>\n",
       "      <td>118</td>\n",
       "      <td>140</td>\n",
       "      <td>550</td>\n",
       "      <td>湖南省长沙市雨花区</td>\n",
       "    </tr>\n",
       "    <tr>\n",
       "      <th>3</th>\n",
       "      <td>关宇</td>\n",
       "      <td>男</td>\n",
       "      <td>21</td>\n",
       "      <td>120</td>\n",
       "      <td>120</td>\n",
       "      <td>620</td>\n",
       "      <td>北京市东城区</td>\n",
       "    </tr>\n",
       "    <tr>\n",
       "      <th>4</th>\n",
       "      <td>孙小小</td>\n",
       "      <td>女</td>\n",
       "      <td>25</td>\n",
       "      <td>102</td>\n",
       "      <td>149</td>\n",
       "      <td>610</td>\n",
       "      <td>广东省广州市白云区</td>\n",
       "    </tr>\n",
       "  </tbody>\n",
       "</table>\n",
       "</div>"
      ],
      "text/plain": [
       "  name sex  age  math  chinese  score    address\n",
       "0   小明   男   20   120      100    590  广东省深圳市南山区\n",
       "2   张菲   女   18   118      140    550  湖南省长沙市雨花区\n",
       "3   关宇   男   21   120      120    620     北京市东城区\n",
       "4  孙小小   女   25   102      149    610  广东省广州市白云区"
      ]
     },
     "execution_count": 21,
     "metadata": {},
     "output_type": "execute_result"
    }
   ],
   "source": [
    "# 3、使用变量\n",
    "b = df.chinese.mean()  # 求均值\n",
    "df[df.eval('math < @b+5')]"
   ]
  },
  {
   "cell_type": "markdown",
   "id": "ac0d69c8",
   "metadata": {},
   "source": [
    "filter函数\n",
    "我们使用filter可以对列名或者行名进行筛选，使用方法：\n",
    "\n",
    "直接指定\n",
    "正则指定\n",
    "模糊指定\n",
    "其中axis=1指定列名；axis=0指定索引"
   ]
  },
  {
   "cell_type": "code",
   "execution_count": 22,
   "id": "5b7bbbf7",
   "metadata": {},
   "outputs": [
    {
     "data": {
      "text/html": [
       "<div>\n",
       "<style scoped>\n",
       "    .dataframe tbody tr th:only-of-type {\n",
       "        vertical-align: middle;\n",
       "    }\n",
       "\n",
       "    .dataframe tbody tr th {\n",
       "        vertical-align: top;\n",
       "    }\n",
       "\n",
       "    .dataframe thead th {\n",
       "        text-align: right;\n",
       "    }\n",
       "</style>\n",
       "<table border=\"1\" class=\"dataframe\">\n",
       "  <thead>\n",
       "    <tr style=\"text-align: right;\">\n",
       "      <th></th>\n",
       "      <th>chinese</th>\n",
       "      <th>score</th>\n",
       "    </tr>\n",
       "  </thead>\n",
       "  <tbody>\n",
       "    <tr>\n",
       "      <th>0</th>\n",
       "      <td>100</td>\n",
       "      <td>590</td>\n",
       "    </tr>\n",
       "    <tr>\n",
       "      <th>1</th>\n",
       "      <td>130</td>\n",
       "      <td>600</td>\n",
       "    </tr>\n",
       "    <tr>\n",
       "      <th>2</th>\n",
       "      <td>140</td>\n",
       "      <td>550</td>\n",
       "    </tr>\n",
       "    <tr>\n",
       "      <th>3</th>\n",
       "      <td>120</td>\n",
       "      <td>620</td>\n",
       "    </tr>\n",
       "    <tr>\n",
       "      <th>4</th>\n",
       "      <td>149</td>\n",
       "      <td>610</td>\n",
       "    </tr>\n",
       "    <tr>\n",
       "      <th>5</th>\n",
       "      <td>111</td>\n",
       "      <td>580</td>\n",
       "    </tr>\n",
       "    <tr>\n",
       "      <th>6</th>\n",
       "      <td>118</td>\n",
       "      <td>634</td>\n",
       "    </tr>\n",
       "  </tbody>\n",
       "</table>\n",
       "</div>"
      ],
      "text/plain": [
       "   chinese  score\n",
       "0      100    590\n",
       "1      130    600\n",
       "2      140    550\n",
       "3      120    620\n",
       "4      149    610\n",
       "5      111    580\n",
       "6      118    634"
      ]
     },
     "execution_count": 22,
     "metadata": {},
     "output_type": "execute_result"
    }
   ],
   "source": [
    "# 1、直接指定属性名\n",
    "df.filter(items=[\"chinese\",\"score\"])   # 列名操作"
   ]
  },
  {
   "cell_type": "code",
   "execution_count": 23,
   "id": "45c965b3",
   "metadata": {},
   "outputs": [
    {
     "data": {
      "text/html": [
       "<div>\n",
       "<style scoped>\n",
       "    .dataframe tbody tr th:only-of-type {\n",
       "        vertical-align: middle;\n",
       "    }\n",
       "\n",
       "    .dataframe tbody tr th {\n",
       "        vertical-align: top;\n",
       "    }\n",
       "\n",
       "    .dataframe thead th {\n",
       "        text-align: right;\n",
       "    }\n",
       "</style>\n",
       "<table border=\"1\" class=\"dataframe\">\n",
       "  <thead>\n",
       "    <tr style=\"text-align: right;\">\n",
       "      <th></th>\n",
       "      <th>name</th>\n",
       "      <th>sex</th>\n",
       "      <th>age</th>\n",
       "      <th>math</th>\n",
       "      <th>chinese</th>\n",
       "      <th>score</th>\n",
       "      <th>address</th>\n",
       "    </tr>\n",
       "  </thead>\n",
       "  <tbody>\n",
       "    <tr>\n",
       "      <th>2</th>\n",
       "      <td>张菲</td>\n",
       "      <td>女</td>\n",
       "      <td>18</td>\n",
       "      <td>118</td>\n",
       "      <td>140</td>\n",
       "      <td>550</td>\n",
       "      <td>湖南省长沙市雨花区</td>\n",
       "    </tr>\n",
       "    <tr>\n",
       "      <th>4</th>\n",
       "      <td>孙小小</td>\n",
       "      <td>女</td>\n",
       "      <td>25</td>\n",
       "      <td>102</td>\n",
       "      <td>149</td>\n",
       "      <td>610</td>\n",
       "      <td>广东省广州市白云区</td>\n",
       "    </tr>\n",
       "  </tbody>\n",
       "</table>\n",
       "</div>"
      ],
      "text/plain": [
       "  name sex  age  math  chinese  score    address\n",
       "2   张菲   女   18   118      140    550  湖南省长沙市雨花区\n",
       "4  孙小小   女   25   102      149    610  广东省广州市白云区"
      ]
     },
     "execution_count": 23,
     "metadata": {},
     "output_type": "execute_result"
    }
   ],
   "source": [
    "# 2、直接指定行索引\n",
    "df.filter(items=[2,4],axis=0)   # 行筛选"
   ]
  },
  {
   "cell_type": "code",
   "execution_count": 24,
   "id": "0660daee",
   "metadata": {},
   "outputs": [
    {
     "data": {
      "text/html": [
       "<div>\n",
       "<style scoped>\n",
       "    .dataframe tbody tr th:only-of-type {\n",
       "        vertical-align: middle;\n",
       "    }\n",
       "\n",
       "    .dataframe tbody tr th {\n",
       "        vertical-align: top;\n",
       "    }\n",
       "\n",
       "    .dataframe thead th {\n",
       "        text-align: right;\n",
       "    }\n",
       "</style>\n",
       "<table border=\"1\" class=\"dataframe\">\n",
       "  <thead>\n",
       "    <tr style=\"text-align: right;\">\n",
       "      <th></th>\n",
       "      <th>name</th>\n",
       "      <th>age</th>\n",
       "      <th>math</th>\n",
       "      <th>address</th>\n",
       "    </tr>\n",
       "  </thead>\n",
       "  <tbody>\n",
       "    <tr>\n",
       "      <th>0</th>\n",
       "      <td>小明</td>\n",
       "      <td>20</td>\n",
       "      <td>120</td>\n",
       "      <td>广东省深圳市南山区</td>\n",
       "    </tr>\n",
       "    <tr>\n",
       "      <th>1</th>\n",
       "      <td>小王</td>\n",
       "      <td>23</td>\n",
       "      <td>130</td>\n",
       "      <td>北京市海淀区</td>\n",
       "    </tr>\n",
       "    <tr>\n",
       "      <th>2</th>\n",
       "      <td>张菲</td>\n",
       "      <td>18</td>\n",
       "      <td>118</td>\n",
       "      <td>湖南省长沙市雨花区</td>\n",
       "    </tr>\n",
       "    <tr>\n",
       "      <th>3</th>\n",
       "      <td>关宇</td>\n",
       "      <td>21</td>\n",
       "      <td>120</td>\n",
       "      <td>北京市东城区</td>\n",
       "    </tr>\n",
       "    <tr>\n",
       "      <th>4</th>\n",
       "      <td>孙小小</td>\n",
       "      <td>25</td>\n",
       "      <td>102</td>\n",
       "      <td>广东省广州市白云区</td>\n",
       "    </tr>\n",
       "    <tr>\n",
       "      <th>5</th>\n",
       "      <td>王建国</td>\n",
       "      <td>21</td>\n",
       "      <td>140</td>\n",
       "      <td>湖北省武汉市江夏区</td>\n",
       "    </tr>\n",
       "    <tr>\n",
       "      <th>6</th>\n",
       "      <td>刘蓓</td>\n",
       "      <td>24</td>\n",
       "      <td>134</td>\n",
       "      <td>广东省深圳市龙华区</td>\n",
       "    </tr>\n",
       "  </tbody>\n",
       "</table>\n",
       "</div>"
      ],
      "text/plain": [
       "  name  age  math    address\n",
       "0   小明   20   120  广东省深圳市南山区\n",
       "1   小王   23   130     北京市海淀区\n",
       "2   张菲   18   118  湖南省长沙市雨花区\n",
       "3   关宇   21   120     北京市东城区\n",
       "4  孙小小   25   102  广东省广州市白云区\n",
       "5  王建国   21   140  湖北省武汉市江夏区\n",
       "6   刘蓓   24   134  广东省深圳市龙华区"
      ]
     },
     "execution_count": 24,
     "metadata": {},
     "output_type": "execute_result"
    }
   ],
   "source": [
    "# 3、通过正则指定\n",
    "df.filter(regex='a',axis=1)  # 列名中包含"
   ]
  },
  {
   "cell_type": "code",
   "execution_count": 25,
   "id": "e6226bc3",
   "metadata": {},
   "outputs": [
    {
     "data": {
      "text/html": [
       "<div>\n",
       "<style scoped>\n",
       "    .dataframe tbody tr th:only-of-type {\n",
       "        vertical-align: middle;\n",
       "    }\n",
       "\n",
       "    .dataframe tbody tr th {\n",
       "        vertical-align: top;\n",
       "    }\n",
       "\n",
       "    .dataframe thead th {\n",
       "        text-align: right;\n",
       "    }\n",
       "</style>\n",
       "<table border=\"1\" class=\"dataframe\">\n",
       "  <thead>\n",
       "    <tr style=\"text-align: right;\">\n",
       "      <th></th>\n",
       "      <th>sex</th>\n",
       "      <th>score</th>\n",
       "    </tr>\n",
       "  </thead>\n",
       "  <tbody>\n",
       "    <tr>\n",
       "      <th>0</th>\n",
       "      <td>男</td>\n",
       "      <td>590</td>\n",
       "    </tr>\n",
       "    <tr>\n",
       "      <th>1</th>\n",
       "      <td>女</td>\n",
       "      <td>600</td>\n",
       "    </tr>\n",
       "    <tr>\n",
       "      <th>2</th>\n",
       "      <td>女</td>\n",
       "      <td>550</td>\n",
       "    </tr>\n",
       "    <tr>\n",
       "      <th>3</th>\n",
       "      <td>男</td>\n",
       "      <td>620</td>\n",
       "    </tr>\n",
       "    <tr>\n",
       "      <th>4</th>\n",
       "      <td>女</td>\n",
       "      <td>610</td>\n",
       "    </tr>\n",
       "    <tr>\n",
       "      <th>5</th>\n",
       "      <td>男</td>\n",
       "      <td>580</td>\n",
       "    </tr>\n",
       "    <tr>\n",
       "      <th>6</th>\n",
       "      <td>女</td>\n",
       "      <td>634</td>\n",
       "    </tr>\n",
       "  </tbody>\n",
       "</table>\n",
       "</div>"
      ],
      "text/plain": [
       "  sex  score\n",
       "0   男    590\n",
       "1   女    600\n",
       "2   女    550\n",
       "3   男    620\n",
       "4   女    610\n",
       "5   男    580\n",
       "6   女    634"
      ]
     },
     "execution_count": 25,
     "metadata": {},
     "output_type": "execute_result"
    }
   ],
   "source": [
    "df.filter(regex='^s',axis=1)  # 列名以s开始"
   ]
  },
  {
   "cell_type": "code",
   "execution_count": 26,
   "id": "ed0e22c4",
   "metadata": {},
   "outputs": [
    {
     "data": {
      "text/html": [
       "<div>\n",
       "<style scoped>\n",
       "    .dataframe tbody tr th:only-of-type {\n",
       "        vertical-align: middle;\n",
       "    }\n",
       "\n",
       "    .dataframe tbody tr th {\n",
       "        vertical-align: top;\n",
       "    }\n",
       "\n",
       "    .dataframe thead th {\n",
       "        text-align: right;\n",
       "    }\n",
       "</style>\n",
       "<table border=\"1\" class=\"dataframe\">\n",
       "  <thead>\n",
       "    <tr style=\"text-align: right;\">\n",
       "      <th></th>\n",
       "      <th>name</th>\n",
       "      <th>age</th>\n",
       "      <th>chinese</th>\n",
       "      <th>score</th>\n",
       "    </tr>\n",
       "  </thead>\n",
       "  <tbody>\n",
       "    <tr>\n",
       "      <th>0</th>\n",
       "      <td>小明</td>\n",
       "      <td>20</td>\n",
       "      <td>100</td>\n",
       "      <td>590</td>\n",
       "    </tr>\n",
       "    <tr>\n",
       "      <th>1</th>\n",
       "      <td>小王</td>\n",
       "      <td>23</td>\n",
       "      <td>130</td>\n",
       "      <td>600</td>\n",
       "    </tr>\n",
       "    <tr>\n",
       "      <th>2</th>\n",
       "      <td>张菲</td>\n",
       "      <td>18</td>\n",
       "      <td>140</td>\n",
       "      <td>550</td>\n",
       "    </tr>\n",
       "    <tr>\n",
       "      <th>3</th>\n",
       "      <td>关宇</td>\n",
       "      <td>21</td>\n",
       "      <td>120</td>\n",
       "      <td>620</td>\n",
       "    </tr>\n",
       "    <tr>\n",
       "      <th>4</th>\n",
       "      <td>孙小小</td>\n",
       "      <td>25</td>\n",
       "      <td>149</td>\n",
       "      <td>610</td>\n",
       "    </tr>\n",
       "    <tr>\n",
       "      <th>5</th>\n",
       "      <td>王建国</td>\n",
       "      <td>21</td>\n",
       "      <td>111</td>\n",
       "      <td>580</td>\n",
       "    </tr>\n",
       "    <tr>\n",
       "      <th>6</th>\n",
       "      <td>刘蓓</td>\n",
       "      <td>24</td>\n",
       "      <td>118</td>\n",
       "      <td>634</td>\n",
       "    </tr>\n",
       "  </tbody>\n",
       "</table>\n",
       "</div>"
      ],
      "text/plain": [
       "  name  age  chinese  score\n",
       "0   小明   20      100    590\n",
       "1   小王   23      130    600\n",
       "2   张菲   18      140    550\n",
       "3   关宇   21      120    620\n",
       "4  孙小小   25      149    610\n",
       "5  王建国   21      111    580\n",
       "6   刘蓓   24      118    634"
      ]
     },
     "execution_count": 26,
     "metadata": {},
     "output_type": "execute_result"
    }
   ],
   "source": [
    "df.filter(regex='e$',axis=1)  # 列名以e结束"
   ]
  },
  {
   "cell_type": "code",
   "execution_count": 27,
   "id": "4566a924",
   "metadata": {},
   "outputs": [
    {
     "data": {
      "text/html": [
       "<div>\n",
       "<style scoped>\n",
       "    .dataframe tbody tr th:only-of-type {\n",
       "        vertical-align: middle;\n",
       "    }\n",
       "\n",
       "    .dataframe tbody tr th {\n",
       "        vertical-align: top;\n",
       "    }\n",
       "\n",
       "    .dataframe thead th {\n",
       "        text-align: right;\n",
       "    }\n",
       "</style>\n",
       "<table border=\"1\" class=\"dataframe\">\n",
       "  <thead>\n",
       "    <tr style=\"text-align: right;\">\n",
       "      <th></th>\n",
       "      <th>name</th>\n",
       "      <th>sex</th>\n",
       "      <th>age</th>\n",
       "      <th>math</th>\n",
       "      <th>chinese</th>\n",
       "      <th>score</th>\n",
       "      <th>address</th>\n",
       "    </tr>\n",
       "  </thead>\n",
       "  <tbody>\n",
       "    <tr>\n",
       "      <th>3</th>\n",
       "      <td>关宇</td>\n",
       "      <td>男</td>\n",
       "      <td>21</td>\n",
       "      <td>120</td>\n",
       "      <td>120</td>\n",
       "      <td>620</td>\n",
       "      <td>北京市东城区</td>\n",
       "    </tr>\n",
       "  </tbody>\n",
       "</table>\n",
       "</div>"
      ],
      "text/plain": [
       "  name sex  age  math  chinese  score address\n",
       "3   关宇   男   21   120      120    620  北京市东城区"
      ]
     },
     "execution_count": 27,
     "metadata": {},
     "output_type": "execute_result"
    }
   ],
   "source": [
    "df.filter(regex='3$',axis=0)  # 行索引包含3"
   ]
  },
  {
   "cell_type": "code",
   "execution_count": 28,
   "id": "4095c94c",
   "metadata": {},
   "outputs": [
    {
     "data": {
      "text/html": [
       "<div>\n",
       "<style scoped>\n",
       "    .dataframe tbody tr th:only-of-type {\n",
       "        vertical-align: middle;\n",
       "    }\n",
       "\n",
       "    .dataframe tbody tr th {\n",
       "        vertical-align: top;\n",
       "    }\n",
       "\n",
       "    .dataframe thead th {\n",
       "        text-align: right;\n",
       "    }\n",
       "</style>\n",
       "<table border=\"1\" class=\"dataframe\">\n",
       "  <thead>\n",
       "    <tr style=\"text-align: right;\">\n",
       "      <th></th>\n",
       "      <th>sex</th>\n",
       "      <th>chinese</th>\n",
       "      <th>score</th>\n",
       "      <th>address</th>\n",
       "    </tr>\n",
       "  </thead>\n",
       "  <tbody>\n",
       "    <tr>\n",
       "      <th>0</th>\n",
       "      <td>男</td>\n",
       "      <td>100</td>\n",
       "      <td>590</td>\n",
       "      <td>广东省深圳市南山区</td>\n",
       "    </tr>\n",
       "    <tr>\n",
       "      <th>1</th>\n",
       "      <td>女</td>\n",
       "      <td>130</td>\n",
       "      <td>600</td>\n",
       "      <td>北京市海淀区</td>\n",
       "    </tr>\n",
       "    <tr>\n",
       "      <th>2</th>\n",
       "      <td>女</td>\n",
       "      <td>140</td>\n",
       "      <td>550</td>\n",
       "      <td>湖南省长沙市雨花区</td>\n",
       "    </tr>\n",
       "    <tr>\n",
       "      <th>3</th>\n",
       "      <td>男</td>\n",
       "      <td>120</td>\n",
       "      <td>620</td>\n",
       "      <td>北京市东城区</td>\n",
       "    </tr>\n",
       "    <tr>\n",
       "      <th>4</th>\n",
       "      <td>女</td>\n",
       "      <td>149</td>\n",
       "      <td>610</td>\n",
       "      <td>广东省广州市白云区</td>\n",
       "    </tr>\n",
       "    <tr>\n",
       "      <th>5</th>\n",
       "      <td>男</td>\n",
       "      <td>111</td>\n",
       "      <td>580</td>\n",
       "      <td>湖北省武汉市江夏区</td>\n",
       "    </tr>\n",
       "    <tr>\n",
       "      <th>6</th>\n",
       "      <td>女</td>\n",
       "      <td>118</td>\n",
       "      <td>634</td>\n",
       "      <td>广东省深圳市龙华区</td>\n",
       "    </tr>\n",
       "  </tbody>\n",
       "</table>\n",
       "</div>"
      ],
      "text/plain": [
       "  sex  chinese  score    address\n",
       "0   男      100    590  广东省深圳市南山区\n",
       "1   女      130    600     北京市海淀区\n",
       "2   女      140    550  湖南省长沙市雨花区\n",
       "3   男      120    620     北京市东城区\n",
       "4   女      149    610  广东省广州市白云区\n",
       "5   男      111    580  湖北省武汉市江夏区\n",
       "6   女      118    634  广东省深圳市龙华区"
      ]
     },
     "execution_count": 28,
     "metadata": {},
     "output_type": "execute_result"
    }
   ],
   "source": [
    "# 3、模糊指定\n",
    "df.filter(like='s',axis=1)   # 列名中包含s"
   ]
  },
  {
   "cell_type": "code",
   "execution_count": 29,
   "id": "f6382c42",
   "metadata": {},
   "outputs": [
    {
     "data": {
      "text/html": [
       "<div>\n",
       "<style scoped>\n",
       "    .dataframe tbody tr th:only-of-type {\n",
       "        vertical-align: middle;\n",
       "    }\n",
       "\n",
       "    .dataframe tbody tr th {\n",
       "        vertical-align: top;\n",
       "    }\n",
       "\n",
       "    .dataframe thead th {\n",
       "        text-align: right;\n",
       "    }\n",
       "</style>\n",
       "<table border=\"1\" class=\"dataframe\">\n",
       "  <thead>\n",
       "    <tr style=\"text-align: right;\">\n",
       "      <th></th>\n",
       "      <th>name</th>\n",
       "      <th>sex</th>\n",
       "      <th>age</th>\n",
       "      <th>math</th>\n",
       "      <th>chinese</th>\n",
       "      <th>score</th>\n",
       "      <th>address</th>\n",
       "    </tr>\n",
       "  </thead>\n",
       "  <tbody>\n",
       "    <tr>\n",
       "      <th>2</th>\n",
       "      <td>张菲</td>\n",
       "      <td>女</td>\n",
       "      <td>18</td>\n",
       "      <td>118</td>\n",
       "      <td>140</td>\n",
       "      <td>550</td>\n",
       "      <td>湖南省长沙市雨花区</td>\n",
       "    </tr>\n",
       "  </tbody>\n",
       "</table>\n",
       "</div>"
      ],
      "text/plain": [
       "  name sex  age  math  chinese  score    address\n",
       "2   张菲   女   18   118      140    550  湖南省长沙市雨花区"
      ]
     },
     "execution_count": 29,
     "metadata": {},
     "output_type": "execute_result"
    }
   ],
   "source": [
    "df.filter(like='2',axis=0)   # 行索引包含2"
   ]
  },
  {
   "cell_type": "code",
   "execution_count": 30,
   "id": "1156c19a",
   "metadata": {},
   "outputs": [
    {
     "data": {
      "text/html": [
       "<div>\n",
       "<style scoped>\n",
       "    .dataframe tbody tr th:only-of-type {\n",
       "        vertical-align: middle;\n",
       "    }\n",
       "\n",
       "    .dataframe tbody tr th {\n",
       "        vertical-align: top;\n",
       "    }\n",
       "\n",
       "    .dataframe thead th {\n",
       "        text-align: right;\n",
       "    }\n",
       "</style>\n",
       "<table border=\"1\" class=\"dataframe\">\n",
       "  <thead>\n",
       "    <tr style=\"text-align: right;\">\n",
       "      <th></th>\n",
       "      <th>age</th>\n",
       "      <th>address</th>\n",
       "    </tr>\n",
       "  </thead>\n",
       "  <tbody>\n",
       "    <tr>\n",
       "      <th>2</th>\n",
       "      <td>18</td>\n",
       "      <td>湖南省长沙市雨花区</td>\n",
       "    </tr>\n",
       "  </tbody>\n",
       "</table>\n",
       "</div>"
      ],
      "text/plain": [
       "   age    address\n",
       "2   18  湖南省长沙市雨花区"
      ]
     },
     "execution_count": 30,
     "metadata": {},
     "output_type": "execute_result"
    }
   ],
   "source": [
    "# 同时指定列名和索引\n",
    "df.filter(regex='^a',axis=1).filter(like='2',axis=0)"
   ]
  },
  {
   "cell_type": "markdown",
   "id": "42d9c25d",
   "metadata": {},
   "source": [
    "### where和mask函数\n",
    "where和mask函数是一对相反的函数，取出来的结果刚好是相反的：\n",
    "\n",
    "- where：取出满足要求的数据，不满足的显示为NaN\n",
    "- mask：取出不满足要求的数据，满足的显示为NaN\n",
    "两种方法都可以将将NaN值设置我们指定的数据"
   ]
  },
  {
   "cell_type": "code",
   "execution_count": 32,
   "id": "8f1aa508",
   "metadata": {},
   "outputs": [
    {
     "data": {
      "text/plain": [
       "0    590\n",
       "1    600\n",
       "2    550\n",
       "3    620\n",
       "4    610\n",
       "5    580\n",
       "6    634\n",
       "Name: score, dtype: int64"
      ]
     },
     "execution_count": 32,
     "metadata": {},
     "output_type": "execute_result"
    }
   ],
   "source": [
    "# where使用\n",
    "s = df[\"score\"]\n",
    "s"
   ]
  },
  {
   "cell_type": "code",
   "execution_count": 33,
   "id": "abaed9b3",
   "metadata": {},
   "outputs": [
    {
     "data": {
      "text/plain": [
       "0      NaN\n",
       "1    600.0\n",
       "2      NaN\n",
       "3    620.0\n",
       "4    610.0\n",
       "5      NaN\n",
       "6    634.0\n",
       "Name: score, dtype: float64"
      ]
     },
     "execution_count": 33,
     "metadata": {},
     "output_type": "execute_result"
    }
   ],
   "source": [
    "# where：满足条件的直接显示，不满足的显示为NaN\n",
    "s.where(s>=600)"
   ]
  },
  {
   "cell_type": "code",
   "execution_count": 34,
   "id": "21b59f1c",
   "metadata": {},
   "outputs": [
    {
     "data": {
      "text/plain": [
       "0    600\n",
       "1    600\n",
       "2    600\n",
       "3    620\n",
       "4    610\n",
       "5    600\n",
       "6    634\n",
       "Name: score, dtype: int64"
      ]
     },
     "execution_count": 34,
     "metadata": {},
     "output_type": "execute_result"
    }
   ],
   "source": [
    "# 我们可以给不满足的进行赋值\n",
    "s.where(s>=610,600)  # 不满足条件的赋值为600 "
   ]
  },
  {
   "cell_type": "code",
   "execution_count": 35,
   "id": "b9498020",
   "metadata": {},
   "outputs": [
    {
     "data": {
      "text/html": [
       "<div>\n",
       "<style scoped>\n",
       "    .dataframe tbody tr th:only-of-type {\n",
       "        vertical-align: middle;\n",
       "    }\n",
       "\n",
       "    .dataframe tbody tr th {\n",
       "        vertical-align: top;\n",
       "    }\n",
       "\n",
       "    .dataframe thead th {\n",
       "        text-align: right;\n",
       "    }\n",
       "</style>\n",
       "<table border=\"1\" class=\"dataframe\">\n",
       "  <thead>\n",
       "    <tr style=\"text-align: right;\">\n",
       "      <th></th>\n",
       "      <th>name</th>\n",
       "      <th>sex</th>\n",
       "      <th>age</th>\n",
       "      <th>math</th>\n",
       "      <th>chinese</th>\n",
       "      <th>score</th>\n",
       "      <th>address</th>\n",
       "    </tr>\n",
       "  </thead>\n",
       "  <tbody>\n",
       "    <tr>\n",
       "      <th>0</th>\n",
       "      <td>NaN</td>\n",
       "      <td>NaN</td>\n",
       "      <td>NaN</td>\n",
       "      <td>NaN</td>\n",
       "      <td>NaN</td>\n",
       "      <td>NaN</td>\n",
       "      <td>NaN</td>\n",
       "    </tr>\n",
       "    <tr>\n",
       "      <th>1</th>\n",
       "      <td>NaN</td>\n",
       "      <td>NaN</td>\n",
       "      <td>NaN</td>\n",
       "      <td>NaN</td>\n",
       "      <td>NaN</td>\n",
       "      <td>NaN</td>\n",
       "      <td>NaN</td>\n",
       "    </tr>\n",
       "    <tr>\n",
       "      <th>2</th>\n",
       "      <td>NaN</td>\n",
       "      <td>NaN</td>\n",
       "      <td>NaN</td>\n",
       "      <td>NaN</td>\n",
       "      <td>NaN</td>\n",
       "      <td>NaN</td>\n",
       "      <td>NaN</td>\n",
       "    </tr>\n",
       "    <tr>\n",
       "      <th>3</th>\n",
       "      <td>NaN</td>\n",
       "      <td>NaN</td>\n",
       "      <td>NaN</td>\n",
       "      <td>NaN</td>\n",
       "      <td>NaN</td>\n",
       "      <td>NaN</td>\n",
       "      <td>NaN</td>\n",
       "    </tr>\n",
       "    <tr>\n",
       "      <th>4</th>\n",
       "      <td>NaN</td>\n",
       "      <td>NaN</td>\n",
       "      <td>NaN</td>\n",
       "      <td>NaN</td>\n",
       "      <td>NaN</td>\n",
       "      <td>NaN</td>\n",
       "      <td>NaN</td>\n",
       "    </tr>\n",
       "    <tr>\n",
       "      <th>5</th>\n",
       "      <td>王建国</td>\n",
       "      <td>男</td>\n",
       "      <td>21.0</td>\n",
       "      <td>140.0</td>\n",
       "      <td>111.0</td>\n",
       "      <td>580.0</td>\n",
       "      <td>湖北省武汉市江夏区</td>\n",
       "    </tr>\n",
       "    <tr>\n",
       "      <th>6</th>\n",
       "      <td>NaN</td>\n",
       "      <td>NaN</td>\n",
       "      <td>NaN</td>\n",
       "      <td>NaN</td>\n",
       "      <td>NaN</td>\n",
       "      <td>NaN</td>\n",
       "      <td>NaN</td>\n",
       "    </tr>\n",
       "  </tbody>\n",
       "</table>\n",
       "</div>"
      ],
      "text/plain": [
       "  name  sex   age   math  chinese  score    address\n",
       "0  NaN  NaN   NaN    NaN      NaN    NaN        NaN\n",
       "1  NaN  NaN   NaN    NaN      NaN    NaN        NaN\n",
       "2  NaN  NaN   NaN    NaN      NaN    NaN        NaN\n",
       "3  NaN  NaN   NaN    NaN      NaN    NaN        NaN\n",
       "4  NaN  NaN   NaN    NaN      NaN    NaN        NaN\n",
       "5  王建国    男  21.0  140.0    111.0  580.0  湖北省武汉市江夏区\n",
       "6  NaN  NaN   NaN    NaN      NaN    NaN        NaN"
      ]
     },
     "execution_count": 35,
     "metadata": {},
     "output_type": "execute_result"
    }
   ],
   "source": [
    "# where函数还可以指定多个条件：\n",
    "# 符合条件的返回True，不符合的返回False\n",
    "df.where((df.sex=='男') & (df.math > 125))"
   ]
  },
  {
   "cell_type": "code",
   "execution_count": 36,
   "id": "86da512d",
   "metadata": {},
   "outputs": [
    {
     "data": {
      "text/html": [
       "<div>\n",
       "<style scoped>\n",
       "    .dataframe tbody tr th:only-of-type {\n",
       "        vertical-align: middle;\n",
       "    }\n",
       "\n",
       "    .dataframe tbody tr th {\n",
       "        vertical-align: top;\n",
       "    }\n",
       "\n",
       "    .dataframe thead th {\n",
       "        text-align: right;\n",
       "    }\n",
       "</style>\n",
       "<table border=\"1\" class=\"dataframe\">\n",
       "  <thead>\n",
       "    <tr style=\"text-align: right;\">\n",
       "      <th></th>\n",
       "      <th>name</th>\n",
       "      <th>sex</th>\n",
       "      <th>age</th>\n",
       "      <th>math</th>\n",
       "      <th>chinese</th>\n",
       "      <th>score</th>\n",
       "      <th>address</th>\n",
       "    </tr>\n",
       "  </thead>\n",
       "  <tbody>\n",
       "    <tr>\n",
       "      <th>5</th>\n",
       "      <td>王建国</td>\n",
       "      <td>男</td>\n",
       "      <td>21</td>\n",
       "      <td>140</td>\n",
       "      <td>111</td>\n",
       "      <td>580</td>\n",
       "      <td>湖北省武汉市江夏区</td>\n",
       "    </tr>\n",
       "  </tbody>\n",
       "</table>\n",
       "</div>"
      ],
      "text/plain": [
       "  name sex  age  math  chinese  score    address\n",
       "5  王建国   男   21   140      111    580  湖北省武汉市江夏区"
      ]
     },
     "execution_count": 36,
     "metadata": {},
     "output_type": "execute_result"
    }
   ],
   "source": [
    "# 选出我们想要的数据：\n",
    "df[(df.where((df.sex=='男') & (df.math > 125)) == df).name]\n",
    "# df[(df.where((df.sex=='男') & (df.math > 125)) == df).sex]  效果相同"
   ]
  },
  {
   "cell_type": "markdown",
   "id": "f4b064be",
   "metadata": {},
   "source": [
    "### mask函数\n",
    "mask函数获取到的结果和where是相反的"
   ]
  },
  {
   "cell_type": "code",
   "execution_count": 37,
   "id": "4e6c19bd",
   "metadata": {},
   "outputs": [
    {
     "data": {
      "text/plain": [
       "0    590.0\n",
       "1      NaN\n",
       "2    550.0\n",
       "3      NaN\n",
       "4      NaN\n",
       "5    580.0\n",
       "6      NaN\n",
       "Name: score, dtype: float64"
      ]
     },
     "execution_count": 37,
     "metadata": {},
     "output_type": "execute_result"
    }
   ],
   "source": [
    "s.mask(s>=600)  # 和where相反：返回的都是小于600的数据"
   ]
  },
  {
   "cell_type": "code",
   "execution_count": 38,
   "id": "4f34102e",
   "metadata": {},
   "outputs": [
    {
     "data": {
      "text/plain": [
       "0    590\n",
       "1    600\n",
       "2    550\n",
       "3    600\n",
       "4    600\n",
       "5    580\n",
       "6    600\n",
       "Name: score, dtype: int64"
      ]
     },
     "execution_count": 38,
     "metadata": {},
     "output_type": "execute_result"
    }
   ],
   "source": [
    "s.mask(s>=610, 600)  # 不满足条件的赋值为600 "
   ]
  },
  {
   "cell_type": "code",
   "execution_count": 39,
   "id": "351d23d6",
   "metadata": {},
   "outputs": [
    {
     "data": {
      "text/html": [
       "<div>\n",
       "<style scoped>\n",
       "    .dataframe tbody tr th:only-of-type {\n",
       "        vertical-align: middle;\n",
       "    }\n",
       "\n",
       "    .dataframe tbody tr th {\n",
       "        vertical-align: top;\n",
       "    }\n",
       "\n",
       "    .dataframe thead th {\n",
       "        text-align: right;\n",
       "    }\n",
       "</style>\n",
       "<table border=\"1\" class=\"dataframe\">\n",
       "  <thead>\n",
       "    <tr style=\"text-align: right;\">\n",
       "      <th></th>\n",
       "      <th>name</th>\n",
       "      <th>sex</th>\n",
       "      <th>age</th>\n",
       "      <th>math</th>\n",
       "      <th>chinese</th>\n",
       "      <th>score</th>\n",
       "      <th>address</th>\n",
       "    </tr>\n",
       "  </thead>\n",
       "  <tbody>\n",
       "    <tr>\n",
       "      <th>0</th>\n",
       "      <td>小明</td>\n",
       "      <td>男</td>\n",
       "      <td>20</td>\n",
       "      <td>120</td>\n",
       "      <td>100</td>\n",
       "      <td>590</td>\n",
       "      <td>广东省深圳市南山区</td>\n",
       "    </tr>\n",
       "    <tr>\n",
       "      <th>1</th>\n",
       "      <td>小王</td>\n",
       "      <td>女</td>\n",
       "      <td>23</td>\n",
       "      <td>130</td>\n",
       "      <td>130</td>\n",
       "      <td>600</td>\n",
       "      <td>北京市海淀区</td>\n",
       "    </tr>\n",
       "    <tr>\n",
       "      <th>2</th>\n",
       "      <td>张菲</td>\n",
       "      <td>女</td>\n",
       "      <td>18</td>\n",
       "      <td>118</td>\n",
       "      <td>140</td>\n",
       "      <td>550</td>\n",
       "      <td>湖南省长沙市雨花区</td>\n",
       "    </tr>\n",
       "    <tr>\n",
       "      <th>3</th>\n",
       "      <td>关宇</td>\n",
       "      <td>男</td>\n",
       "      <td>21</td>\n",
       "      <td>120</td>\n",
       "      <td>120</td>\n",
       "      <td>620</td>\n",
       "      <td>北京市东城区</td>\n",
       "    </tr>\n",
       "    <tr>\n",
       "      <th>4</th>\n",
       "      <td>孙小小</td>\n",
       "      <td>女</td>\n",
       "      <td>25</td>\n",
       "      <td>102</td>\n",
       "      <td>149</td>\n",
       "      <td>610</td>\n",
       "      <td>广东省广州市白云区</td>\n",
       "    </tr>\n",
       "    <tr>\n",
       "      <th>6</th>\n",
       "      <td>刘蓓</td>\n",
       "      <td>女</td>\n",
       "      <td>24</td>\n",
       "      <td>134</td>\n",
       "      <td>118</td>\n",
       "      <td>634</td>\n",
       "      <td>广东省深圳市龙华区</td>\n",
       "    </tr>\n",
       "  </tbody>\n",
       "</table>\n",
       "</div>"
      ],
      "text/plain": [
       "  name sex  age  math  chinese  score    address\n",
       "0   小明   男   20   120      100    590  广东省深圳市南山区\n",
       "1   小王   女   23   130      130    600     北京市海淀区\n",
       "2   张菲   女   18   118      140    550  湖南省长沙市雨花区\n",
       "3   关宇   男   21   120      120    620     北京市东城区\n",
       "4  孙小小   女   25   102      149    610  广东省广州市白云区\n",
       "6   刘蓓   女   24   134      118    634  广东省深圳市龙华区"
      ]
     },
     "execution_count": 39,
     "metadata": {},
     "output_type": "execute_result"
    }
   ],
   "source": [
    "# mask函数接受多个条件：\n",
    "# 取值和where相反\n",
    "df[(df.mask((df.sex=='男') & (df.math > 125)) == df).sex]"
   ]
  },
  {
   "cell_type": "markdown",
   "id": "96002f47",
   "metadata": {},
   "source": [
    "iloc和loc\n",
    "iloc是通过数值来进行筛选，loc是通过属性或者行索引名来进行筛选\n",
    "\n",
    "iloc\n",
    "直接指定数值，取出单行记录"
   ]
  },
  {
   "cell_type": "code",
   "execution_count": 41,
   "id": "bc812d39",
   "metadata": {},
   "outputs": [
    {
     "data": {
      "text/html": [
       "<div>\n",
       "<style scoped>\n",
       "    .dataframe tbody tr th:only-of-type {\n",
       "        vertical-align: middle;\n",
       "    }\n",
       "\n",
       "    .dataframe tbody tr th {\n",
       "        vertical-align: top;\n",
       "    }\n",
       "\n",
       "    .dataframe thead th {\n",
       "        text-align: right;\n",
       "    }\n",
       "</style>\n",
       "<table border=\"1\" class=\"dataframe\">\n",
       "  <thead>\n",
       "    <tr style=\"text-align: right;\">\n",
       "      <th></th>\n",
       "      <th>name</th>\n",
       "      <th>sex</th>\n",
       "      <th>age</th>\n",
       "      <th>score</th>\n",
       "      <th>address</th>\n",
       "    </tr>\n",
       "  </thead>\n",
       "  <tbody>\n",
       "    <tr>\n",
       "      <th>0</th>\n",
       "      <td>小明</td>\n",
       "      <td>男</td>\n",
       "      <td>20</td>\n",
       "      <td>NaN</td>\n",
       "      <td>广东省深圳市南山区</td>\n",
       "    </tr>\n",
       "    <tr>\n",
       "      <th>1</th>\n",
       "      <td>小王</td>\n",
       "      <td>女</td>\n",
       "      <td>23</td>\n",
       "      <td>600.0</td>\n",
       "      <td>NaN</td>\n",
       "    </tr>\n",
       "    <tr>\n",
       "      <th>2</th>\n",
       "      <td>张菲</td>\n",
       "      <td>女</td>\n",
       "      <td>18</td>\n",
       "      <td>550.0</td>\n",
       "      <td>湖南省长沙市雨花区</td>\n",
       "    </tr>\n",
       "    <tr>\n",
       "      <th>3</th>\n",
       "      <td>关宇</td>\n",
       "      <td>男</td>\n",
       "      <td>21</td>\n",
       "      <td>NaN</td>\n",
       "      <td>北京市东城区</td>\n",
       "    </tr>\n",
       "    <tr>\n",
       "      <th>4</th>\n",
       "      <td>孙小小</td>\n",
       "      <td>女</td>\n",
       "      <td>25</td>\n",
       "      <td>610.0</td>\n",
       "      <td>广东省广州市白云区</td>\n",
       "    </tr>\n",
       "    <tr>\n",
       "      <th>5</th>\n",
       "      <td>王建国</td>\n",
       "      <td>男</td>\n",
       "      <td>21</td>\n",
       "      <td>580.0</td>\n",
       "      <td>湖北省武汉市江夏区</td>\n",
       "    </tr>\n",
       "    <tr>\n",
       "      <th>6</th>\n",
       "      <td>刘蓓</td>\n",
       "      <td>女</td>\n",
       "      <td>24</td>\n",
       "      <td>634.0</td>\n",
       "      <td>广东省深圳市龙华区</td>\n",
       "    </tr>\n",
       "  </tbody>\n",
       "</table>\n",
       "</div>"
      ],
      "text/plain": [
       "  name sex  age  score    address\n",
       "0   小明   男   20    NaN  广东省深圳市南山区\n",
       "1   小王   女   23  600.0        NaN\n",
       "2   张菲   女   18  550.0  湖南省长沙市雨花区\n",
       "3   关宇   男   21    NaN     北京市东城区\n",
       "4  孙小小   女   25  610.0  广东省广州市白云区\n",
       "5  王建国   男   21  580.0  湖北省武汉市江夏区\n",
       "6   刘蓓   女   24  634.0  广东省深圳市龙华区"
      ]
     },
     "execution_count": 41,
     "metadata": {},
     "output_type": "execute_result"
    }
   ],
   "source": [
    "#  第二份模拟数df\n",
    "\n",
    "df = pd.DataFrame({\n",
    "    \"name\":['小明','小王','张菲','关宇','孙小小','王建国','刘蓓'],\n",
    "    \"sex\":['男','女','女','男','女','男','女'],\n",
    "    \"age\":[20,23,18,21,25,21,24],\n",
    "    \"score\":[np.nan,600,550,np.nan,610,580,634],  # 缺失两条数据\n",
    "    \"address\":[\n",
    "        \"广东省深圳市南山区\",\n",
    "        np.nan,  # 数据缺失\n",
    "        \"湖南省长沙市雨花区\",\n",
    "        \"北京市东城区\",\n",
    "        \"广东省广州市白云区\",\n",
    "        \"湖北省武汉市江夏区\",\n",
    "        \"广东省深圳市龙华区\"\n",
    "        ]\n",
    "})\n",
    "\n",
    "df"
   ]
  },
  {
   "cell_type": "code",
   "execution_count": 42,
   "id": "20c615f5",
   "metadata": {},
   "outputs": [
    {
     "data": {
      "text/plain": [
       "name          小王\n",
       "sex            女\n",
       "age           23\n",
       "score      600.0\n",
       "address      NaN\n",
       "Name: 1, dtype: object"
      ]
     },
     "execution_count": 42,
     "metadata": {},
     "output_type": "execute_result"
    }
   ],
   "source": [
    "# 1、使用数值\n",
    "\n",
    "df1 = df.iloc[1]  # 单个数值取出的行记录\n",
    "df1"
   ]
  },
  {
   "cell_type": "code",
   "execution_count": 43,
   "id": "19a1f86e",
   "metadata": {},
   "outputs": [
    {
     "data": {
      "text/plain": [
       "name          小王\n",
       "sex            女\n",
       "age           23\n",
       "score      600.0\n",
       "address      NaN\n",
       "Name: 1, dtype: object"
      ]
     },
     "execution_count": 43,
     "metadata": {},
     "output_type": "execute_result"
    }
   ],
   "source": [
    "df1 = df.iloc[1,:]  # :冒号表示全部\n",
    "df1"
   ]
  },
  {
   "cell_type": "code",
   "execution_count": 44,
   "id": "ff138485",
   "metadata": {},
   "outputs": [
    {
     "data": {
      "text/html": [
       "<div>\n",
       "<style scoped>\n",
       "    .dataframe tbody tr th:only-of-type {\n",
       "        vertical-align: middle;\n",
       "    }\n",
       "\n",
       "    .dataframe tbody tr th {\n",
       "        vertical-align: top;\n",
       "    }\n",
       "\n",
       "    .dataframe thead th {\n",
       "        text-align: right;\n",
       "    }\n",
       "</style>\n",
       "<table border=\"1\" class=\"dataframe\">\n",
       "  <thead>\n",
       "    <tr style=\"text-align: right;\">\n",
       "      <th></th>\n",
       "      <th>name</th>\n",
       "      <th>sex</th>\n",
       "      <th>age</th>\n",
       "      <th>score</th>\n",
       "      <th>address</th>\n",
       "    </tr>\n",
       "  </thead>\n",
       "  <tbody>\n",
       "    <tr>\n",
       "      <th>0</th>\n",
       "      <td>小明</td>\n",
       "      <td>男</td>\n",
       "      <td>20</td>\n",
       "      <td>NaN</td>\n",
       "      <td>广东省深圳市南山区</td>\n",
       "    </tr>\n",
       "    <tr>\n",
       "      <th>1</th>\n",
       "      <td>小王</td>\n",
       "      <td>女</td>\n",
       "      <td>23</td>\n",
       "      <td>600.0</td>\n",
       "      <td>NaN</td>\n",
       "    </tr>\n",
       "    <tr>\n",
       "      <th>2</th>\n",
       "      <td>张菲</td>\n",
       "      <td>女</td>\n",
       "      <td>18</td>\n",
       "      <td>550.0</td>\n",
       "      <td>湖南省长沙市雨花区</td>\n",
       "    </tr>\n",
       "  </tbody>\n",
       "</table>\n",
       "</div>"
      ],
      "text/plain": [
       "  name sex  age  score    address\n",
       "0   小明   男   20    NaN  广东省深圳市南山区\n",
       "1   小王   女   23  600.0        NaN\n",
       "2   张菲   女   18  550.0  湖南省长沙市雨花区"
      ]
     },
     "execution_count": 44,
     "metadata": {},
     "output_type": "execute_result"
    }
   ],
   "source": [
    "df1 = df.iloc[:3]  # 取出前3行记录\n",
    "df1"
   ]
  },
  {
   "cell_type": "code",
   "execution_count": 45,
   "id": "d5a91b95",
   "metadata": {},
   "outputs": [
    {
     "data": {
      "text/html": [
       "<div>\n",
       "<style scoped>\n",
       "    .dataframe tbody tr th:only-of-type {\n",
       "        vertical-align: middle;\n",
       "    }\n",
       "\n",
       "    .dataframe tbody tr th {\n",
       "        vertical-align: top;\n",
       "    }\n",
       "\n",
       "    .dataframe thead th {\n",
       "        text-align: right;\n",
       "    }\n",
       "</style>\n",
       "<table border=\"1\" class=\"dataframe\">\n",
       "  <thead>\n",
       "    <tr style=\"text-align: right;\">\n",
       "      <th></th>\n",
       "      <th>name</th>\n",
       "      <th>sex</th>\n",
       "      <th>age</th>\n",
       "      <th>score</th>\n",
       "      <th>address</th>\n",
       "    </tr>\n",
       "  </thead>\n",
       "  <tbody>\n",
       "    <tr>\n",
       "      <th>1</th>\n",
       "      <td>小王</td>\n",
       "      <td>女</td>\n",
       "      <td>23</td>\n",
       "      <td>600.0</td>\n",
       "      <td>NaN</td>\n",
       "    </tr>\n",
       "    <tr>\n",
       "      <th>2</th>\n",
       "      <td>张菲</td>\n",
       "      <td>女</td>\n",
       "      <td>18</td>\n",
       "      <td>550.0</td>\n",
       "      <td>湖南省长沙市雨花区</td>\n",
       "    </tr>\n",
       "    <tr>\n",
       "      <th>4</th>\n",
       "      <td>孙小小</td>\n",
       "      <td>女</td>\n",
       "      <td>25</td>\n",
       "      <td>610.0</td>\n",
       "      <td>广东省广州市白云区</td>\n",
       "    </tr>\n",
       "  </tbody>\n",
       "</table>\n",
       "</div>"
      ],
      "text/plain": [
       "  name sex  age  score    address\n",
       "1   小王   女   23  600.0        NaN\n",
       "2   张菲   女   18  550.0  湖南省长沙市雨花区\n",
       "4  孙小小   女   25  610.0  广东省广州市白云区"
      ]
     },
     "execution_count": 45,
     "metadata": {},
     "output_type": "execute_result"
    }
   ],
   "source": [
    "df2 = df.iloc[[1,2,4]]  # 取出多行记录\n",
    "df2"
   ]
  },
  {
   "cell_type": "code",
   "execution_count": 46,
   "id": "e12454e3",
   "metadata": {},
   "outputs": [
    {
     "data": {
      "text/plain": [
       "name    张菲\n",
       "sex      女\n",
       "Name: 2, dtype: object"
      ]
     },
     "execution_count": 46,
     "metadata": {},
     "output_type": "execute_result"
    }
   ],
   "source": [
    "# 2、取出行记录的部分列属性\n",
    "\n",
    "df3 = df.iloc[2,0:2]\n",
    "df3"
   ]
  },
  {
   "cell_type": "code",
   "execution_count": 47,
   "id": "6cf6a623",
   "metadata": {},
   "outputs": [
    {
     "data": {
      "text/plain": [
       "name              张菲\n",
       "age               18\n",
       "address    湖南省长沙市雨花区\n",
       "Name: 2, dtype: object"
      ]
     },
     "execution_count": 47,
     "metadata": {},
     "output_type": "execute_result"
    }
   ],
   "source": [
    "# 列方向上使用切片，步长为2\n",
    "\n",
    "df4 = df.iloc[2,0:5:2]  \n",
    "df4"
   ]
  },
  {
   "cell_type": "code",
   "execution_count": 48,
   "id": "d13735ce",
   "metadata": {},
   "outputs": [
    {
     "data": {
      "text/plain": [
       "sex          女\n",
       "score    550.0\n",
       "Name: 2, dtype: object"
      ]
     },
     "execution_count": 48,
     "metadata": {},
     "output_type": "execute_result"
    }
   ],
   "source": [
    "# 行索引为2，列索引号为1 和 3\n",
    "\n",
    "df5 = df.iloc[2,[1,3]]  \n",
    "df5"
   ]
  },
  {
   "cell_type": "code",
   "execution_count": 49,
   "id": "12f78bfe",
   "metadata": {},
   "outputs": [
    {
     "data": {
      "text/plain": [
       "'湖南省长沙市雨花区'"
      ]
     },
     "execution_count": 49,
     "metadata": {},
     "output_type": "execute_result"
    }
   ],
   "source": [
    "# 3、取出具体的值\n",
    "\n",
    "df6 = df.iloc[2,4]\n",
    "df6"
   ]
  },
  {
   "cell_type": "code",
   "execution_count": 50,
   "id": "3b169491",
   "metadata": {},
   "outputs": [
    {
     "data": {
      "text/html": [
       "<div>\n",
       "<style scoped>\n",
       "    .dataframe tbody tr th:only-of-type {\n",
       "        vertical-align: middle;\n",
       "    }\n",
       "\n",
       "    .dataframe tbody tr th {\n",
       "        vertical-align: top;\n",
       "    }\n",
       "\n",
       "    .dataframe thead th {\n",
       "        text-align: right;\n",
       "    }\n",
       "</style>\n",
       "<table border=\"1\" class=\"dataframe\">\n",
       "  <thead>\n",
       "    <tr style=\"text-align: right;\">\n",
       "      <th></th>\n",
       "      <th>name</th>\n",
       "      <th>age</th>\n",
       "      <th>address</th>\n",
       "    </tr>\n",
       "  </thead>\n",
       "  <tbody>\n",
       "    <tr>\n",
       "      <th>0</th>\n",
       "      <td>小明</td>\n",
       "      <td>20</td>\n",
       "      <td>广东省深圳市南山区</td>\n",
       "    </tr>\n",
       "    <tr>\n",
       "      <th>1</th>\n",
       "      <td>小王</td>\n",
       "      <td>23</td>\n",
       "      <td>NaN</td>\n",
       "    </tr>\n",
       "    <tr>\n",
       "      <th>2</th>\n",
       "      <td>张菲</td>\n",
       "      <td>18</td>\n",
       "      <td>湖南省长沙市雨花区</td>\n",
       "    </tr>\n",
       "    <tr>\n",
       "      <th>3</th>\n",
       "      <td>关宇</td>\n",
       "      <td>21</td>\n",
       "      <td>北京市东城区</td>\n",
       "    </tr>\n",
       "  </tbody>\n",
       "</table>\n",
       "</div>"
      ],
      "text/plain": [
       "  name  age    address\n",
       "0   小明   20  广东省深圳市南山区\n",
       "1   小王   23        NaN\n",
       "2   张菲   18  湖南省长沙市雨花区\n",
       "3   关宇   21     北京市东城区"
      ]
     },
     "execution_count": 50,
     "metadata": {},
     "output_type": "execute_result"
    }
   ],
   "source": [
    "# 4、行和列方向同时使用切片\n",
    "\n",
    "df7 = df.iloc[0:4,0:6:2]\n",
    "df7"
   ]
  },
  {
   "cell_type": "markdown",
   "id": "73b8000b",
   "metadata": {},
   "source": [
    "！！！一个非常有用的方法：np.r_，帮助我们取出非连续的列属性"
   ]
  },
  {
   "cell_type": "code",
   "execution_count": 51,
   "id": "b823479c",
   "metadata": {},
   "outputs": [
    {
     "data": {
      "text/html": [
       "<div>\n",
       "<style scoped>\n",
       "    .dataframe tbody tr th:only-of-type {\n",
       "        vertical-align: middle;\n",
       "    }\n",
       "\n",
       "    .dataframe tbody tr th {\n",
       "        vertical-align: top;\n",
       "    }\n",
       "\n",
       "    .dataframe thead th {\n",
       "        text-align: right;\n",
       "    }\n",
       "</style>\n",
       "<table border=\"1\" class=\"dataframe\">\n",
       "  <thead>\n",
       "    <tr style=\"text-align: right;\">\n",
       "      <th></th>\n",
       "      <th>name</th>\n",
       "      <th>age</th>\n",
       "      <th>score</th>\n",
       "    </tr>\n",
       "  </thead>\n",
       "  <tbody>\n",
       "    <tr>\n",
       "      <th>0</th>\n",
       "      <td>小明</td>\n",
       "      <td>20</td>\n",
       "      <td>NaN</td>\n",
       "    </tr>\n",
       "    <tr>\n",
       "      <th>1</th>\n",
       "      <td>小王</td>\n",
       "      <td>23</td>\n",
       "      <td>600.0</td>\n",
       "    </tr>\n",
       "    <tr>\n",
       "      <th>2</th>\n",
       "      <td>张菲</td>\n",
       "      <td>18</td>\n",
       "      <td>550.0</td>\n",
       "    </tr>\n",
       "    <tr>\n",
       "      <th>3</th>\n",
       "      <td>关宇</td>\n",
       "      <td>21</td>\n",
       "      <td>NaN</td>\n",
       "    </tr>\n",
       "    <tr>\n",
       "      <th>4</th>\n",
       "      <td>孙小小</td>\n",
       "      <td>25</td>\n",
       "      <td>610.0</td>\n",
       "    </tr>\n",
       "    <tr>\n",
       "      <th>5</th>\n",
       "      <td>王建国</td>\n",
       "      <td>21</td>\n",
       "      <td>580.0</td>\n",
       "    </tr>\n",
       "    <tr>\n",
       "      <th>6</th>\n",
       "      <td>刘蓓</td>\n",
       "      <td>24</td>\n",
       "      <td>634.0</td>\n",
       "    </tr>\n",
       "  </tbody>\n",
       "</table>\n",
       "</div>"
      ],
      "text/plain": [
       "  name  age  score\n",
       "0   小明   20    NaN\n",
       "1   小王   23  600.0\n",
       "2   张菲   18  550.0\n",
       "3   关宇   21    NaN\n",
       "4  孙小小   25  610.0\n",
       "5  王建国   21  580.0\n",
       "6   刘蓓   24  634.0"
      ]
     },
     "execution_count": 51,
     "metadata": {},
     "output_type": "execute_result"
    }
   ],
   "source": [
    "# 5、取出不连续的行列数据，使用np.r_\n",
    "\n",
    "df8 = df.iloc[:, np.r_[0,2:4]]\n",
    "df8"
   ]
  },
  {
   "cell_type": "code",
   "execution_count": 52,
   "id": "f48503ec",
   "metadata": {},
   "outputs": [
    {
     "data": {
      "text/html": [
       "<div>\n",
       "<style scoped>\n",
       "    .dataframe tbody tr th:only-of-type {\n",
       "        vertical-align: middle;\n",
       "    }\n",
       "\n",
       "    .dataframe tbody tr th {\n",
       "        vertical-align: top;\n",
       "    }\n",
       "\n",
       "    .dataframe thead th {\n",
       "        text-align: right;\n",
       "    }\n",
       "</style>\n",
       "<table border=\"1\" class=\"dataframe\">\n",
       "  <thead>\n",
       "    <tr style=\"text-align: right;\">\n",
       "      <th></th>\n",
       "      <th>name</th>\n",
       "      <th>sex</th>\n",
       "      <th>age</th>\n",
       "      <th>score</th>\n",
       "      <th>address</th>\n",
       "    </tr>\n",
       "  </thead>\n",
       "  <tbody>\n",
       "    <tr>\n",
       "      <th>0</th>\n",
       "      <td>小明</td>\n",
       "      <td>男</td>\n",
       "      <td>20</td>\n",
       "      <td>NaN</td>\n",
       "      <td>广东省深圳市南山区</td>\n",
       "    </tr>\n",
       "    <tr>\n",
       "      <th>2</th>\n",
       "      <td>张菲</td>\n",
       "      <td>女</td>\n",
       "      <td>18</td>\n",
       "      <td>550.0</td>\n",
       "      <td>湖南省长沙市雨花区</td>\n",
       "    </tr>\n",
       "    <tr>\n",
       "      <th>3</th>\n",
       "      <td>关宇</td>\n",
       "      <td>男</td>\n",
       "      <td>21</td>\n",
       "      <td>NaN</td>\n",
       "      <td>北京市东城区</td>\n",
       "    </tr>\n",
       "  </tbody>\n",
       "</table>\n",
       "</div>"
      ],
      "text/plain": [
       "  name sex  age  score    address\n",
       "0   小明   男   20    NaN  广东省深圳市南山区\n",
       "2   张菲   女   18  550.0  湖南省长沙市雨花区\n",
       "3   关宇   男   21    NaN     北京市东城区"
      ]
     },
     "execution_count": 52,
     "metadata": {},
     "output_type": "execute_result"
    }
   ],
   "source": [
    "df9 = df.iloc[np.r_[0,2:4],:]\n",
    "df9"
   ]
  },
  {
   "cell_type": "markdown",
   "id": "5e45d618",
   "metadata": {},
   "source": [
    "loc\n",
    "使用的行索引名或者列属性直接来取数"
   ]
  },
  {
   "cell_type": "code",
   "execution_count": 53,
   "id": "3d3775e2",
   "metadata": {},
   "outputs": [
    {
     "data": {
      "text/plain": [
       "0     小明\n",
       "1     小王\n",
       "2     张菲\n",
       "3     关宇\n",
       "4    孙小小\n",
       "5    王建国\n",
       "6     刘蓓\n",
       "Name: name, dtype: object"
      ]
     },
     "execution_count": 53,
     "metadata": {},
     "output_type": "execute_result"
    }
   ],
   "source": [
    "# 1、取出单个列\n",
    "\n",
    "df10 = df.loc[:,\"name\"]  \n",
    "df10"
   ]
  },
  {
   "cell_type": "code",
   "execution_count": 54,
   "id": "940fcb77",
   "metadata": {},
   "outputs": [
    {
     "data": {
      "text/html": [
       "<div>\n",
       "<style scoped>\n",
       "    .dataframe tbody tr th:only-of-type {\n",
       "        vertical-align: middle;\n",
       "    }\n",
       "\n",
       "    .dataframe tbody tr th {\n",
       "        vertical-align: top;\n",
       "    }\n",
       "\n",
       "    .dataframe thead th {\n",
       "        text-align: right;\n",
       "    }\n",
       "</style>\n",
       "<table border=\"1\" class=\"dataframe\">\n",
       "  <thead>\n",
       "    <tr style=\"text-align: right;\">\n",
       "      <th></th>\n",
       "      <th>name</th>\n",
       "      <th>age</th>\n",
       "    </tr>\n",
       "  </thead>\n",
       "  <tbody>\n",
       "    <tr>\n",
       "      <th>0</th>\n",
       "      <td>小明</td>\n",
       "      <td>20</td>\n",
       "    </tr>\n",
       "    <tr>\n",
       "      <th>1</th>\n",
       "      <td>小王</td>\n",
       "      <td>23</td>\n",
       "    </tr>\n",
       "    <tr>\n",
       "      <th>2</th>\n",
       "      <td>张菲</td>\n",
       "      <td>18</td>\n",
       "    </tr>\n",
       "    <tr>\n",
       "      <th>3</th>\n",
       "      <td>关宇</td>\n",
       "      <td>21</td>\n",
       "    </tr>\n",
       "    <tr>\n",
       "      <th>4</th>\n",
       "      <td>孙小小</td>\n",
       "      <td>25</td>\n",
       "    </tr>\n",
       "    <tr>\n",
       "      <th>5</th>\n",
       "      <td>王建国</td>\n",
       "      <td>21</td>\n",
       "    </tr>\n",
       "    <tr>\n",
       "      <th>6</th>\n",
       "      <td>刘蓓</td>\n",
       "      <td>24</td>\n",
       "    </tr>\n",
       "  </tbody>\n",
       "</table>\n",
       "</div>"
      ],
      "text/plain": [
       "  name  age\n",
       "0   小明   20\n",
       "1   小王   23\n",
       "2   张菲   18\n",
       "3   关宇   21\n",
       "4  孙小小   25\n",
       "5  王建国   21\n",
       "6   刘蓓   24"
      ]
     },
     "execution_count": 54,
     "metadata": {},
     "output_type": "execute_result"
    }
   ],
   "source": [
    "# 2、取数多个列\n",
    "\n",
    "df11 = df.loc[:,[\"name\",\"age\"]]  \n",
    "df11"
   ]
  },
  {
   "cell_type": "code",
   "execution_count": 55,
   "id": "41037902",
   "metadata": {},
   "outputs": [
    {
     "data": {
      "text/plain": [
       "name              小明\n",
       "sex                男\n",
       "age               20\n",
       "score            NaN\n",
       "address    广东省深圳市南山区\n",
       "Name: 0, dtype: object"
      ]
     },
     "execution_count": 55,
     "metadata": {},
     "output_type": "execute_result"
    }
   ],
   "source": [
    "#  3、使用数值，取出第一行，索引为0\n",
    "\n",
    "df12 = df.loc[0]\n",
    "df12"
   ]
  },
  {
   "cell_type": "code",
   "execution_count": 56,
   "id": "382843ee",
   "metadata": {},
   "outputs": [
    {
     "data": {
      "text/html": [
       "<div>\n",
       "<style scoped>\n",
       "    .dataframe tbody tr th:only-of-type {\n",
       "        vertical-align: middle;\n",
       "    }\n",
       "\n",
       "    .dataframe tbody tr th {\n",
       "        vertical-align: top;\n",
       "    }\n",
       "\n",
       "    .dataframe thead th {\n",
       "        text-align: right;\n",
       "    }\n",
       "</style>\n",
       "<table border=\"1\" class=\"dataframe\">\n",
       "  <thead>\n",
       "    <tr style=\"text-align: right;\">\n",
       "      <th></th>\n",
       "      <th>name</th>\n",
       "      <th>sex</th>\n",
       "      <th>age</th>\n",
       "      <th>score</th>\n",
       "      <th>address</th>\n",
       "    </tr>\n",
       "  </thead>\n",
       "  <tbody>\n",
       "    <tr>\n",
       "      <th>0</th>\n",
       "      <td>小明</td>\n",
       "      <td>男</td>\n",
       "      <td>20</td>\n",
       "      <td>NaN</td>\n",
       "      <td>广东省深圳市南山区</td>\n",
       "    </tr>\n",
       "    <tr>\n",
       "      <th>1</th>\n",
       "      <td>小王</td>\n",
       "      <td>女</td>\n",
       "      <td>23</td>\n",
       "      <td>600.0</td>\n",
       "      <td>NaN</td>\n",
       "    </tr>\n",
       "    <tr>\n",
       "      <th>3</th>\n",
       "      <td>关宇</td>\n",
       "      <td>男</td>\n",
       "      <td>21</td>\n",
       "      <td>NaN</td>\n",
       "      <td>北京市东城区</td>\n",
       "    </tr>\n",
       "  </tbody>\n",
       "</table>\n",
       "</div>"
      ],
      "text/plain": [
       "  name sex  age  score    address\n",
       "0   小明   男   20    NaN  广东省深圳市南山区\n",
       "1   小王   女   23  600.0        NaN\n",
       "3   关宇   男   21    NaN     北京市东城区"
      ]
     },
     "execution_count": 56,
     "metadata": {},
     "output_type": "execute_result"
    }
   ],
   "source": [
    "# 使用冒号:，表示全部列，效果同上\n",
    "\n",
    "df14 = df.loc[[0,1,3],:]  \n",
    "df14"
   ]
  },
  {
   "cell_type": "code",
   "execution_count": 57,
   "id": "b95b7cf3",
   "metadata": {},
   "outputs": [
    {
     "data": {
      "text/html": [
       "<div>\n",
       "<style scoped>\n",
       "    .dataframe tbody tr th:only-of-type {\n",
       "        vertical-align: middle;\n",
       "    }\n",
       "\n",
       "    .dataframe tbody tr th {\n",
       "        vertical-align: top;\n",
       "    }\n",
       "\n",
       "    .dataframe thead th {\n",
       "        text-align: right;\n",
       "    }\n",
       "</style>\n",
       "<table border=\"1\" class=\"dataframe\">\n",
       "  <thead>\n",
       "    <tr style=\"text-align: right;\">\n",
       "      <th></th>\n",
       "      <th>name</th>\n",
       "      <th>sex</th>\n",
       "      <th>score</th>\n",
       "    </tr>\n",
       "  </thead>\n",
       "  <tbody>\n",
       "    <tr>\n",
       "      <th>0</th>\n",
       "      <td>小明</td>\n",
       "      <td>男</td>\n",
       "      <td>NaN</td>\n",
       "    </tr>\n",
       "    <tr>\n",
       "      <th>1</th>\n",
       "      <td>小王</td>\n",
       "      <td>女</td>\n",
       "      <td>600.0</td>\n",
       "    </tr>\n",
       "    <tr>\n",
       "      <th>3</th>\n",
       "      <td>关宇</td>\n",
       "      <td>男</td>\n",
       "      <td>NaN</td>\n",
       "    </tr>\n",
       "  </tbody>\n",
       "</table>\n",
       "</div>"
      ],
      "text/plain": [
       "  name sex  score\n",
       "0   小明   男    NaN\n",
       "1   小王   女  600.0\n",
       "3   关宇   男    NaN"
      ]
     },
     "execution_count": 57,
     "metadata": {},
     "output_type": "execute_result"
    }
   ],
   "source": [
    "# 5、取出部分行和部分列\n",
    "\n",
    "df15 = df.loc[[0,1,3],[\"name\",\"sex\",\"score\"]]\n",
    "df15"
   ]
  },
  {
   "cell_type": "code",
   "execution_count": 58,
   "id": "060cdaac",
   "metadata": {},
   "outputs": [
    {
     "data": {
      "text/html": [
       "<div>\n",
       "<style scoped>\n",
       "    .dataframe tbody tr th:only-of-type {\n",
       "        vertical-align: middle;\n",
       "    }\n",
       "\n",
       "    .dataframe tbody tr th {\n",
       "        vertical-align: top;\n",
       "    }\n",
       "\n",
       "    .dataframe thead th {\n",
       "        text-align: right;\n",
       "    }\n",
       "</style>\n",
       "<table border=\"1\" class=\"dataframe\">\n",
       "  <thead>\n",
       "    <tr style=\"text-align: right;\">\n",
       "      <th></th>\n",
       "      <th>name</th>\n",
       "      <th>sex</th>\n",
       "      <th>age</th>\n",
       "      <th>score</th>\n",
       "      <th>address</th>\n",
       "    </tr>\n",
       "  </thead>\n",
       "  <tbody>\n",
       "    <tr>\n",
       "      <th>0</th>\n",
       "      <td>小明</td>\n",
       "      <td>男</td>\n",
       "      <td>20</td>\n",
       "      <td>NaN</td>\n",
       "      <td>广东省深圳市南山区</td>\n",
       "    </tr>\n",
       "    <tr>\n",
       "      <th>1</th>\n",
       "      <td>小王</td>\n",
       "      <td>女</td>\n",
       "      <td>23</td>\n",
       "      <td>600.0</td>\n",
       "      <td>NaN</td>\n",
       "    </tr>\n",
       "    <tr>\n",
       "      <th>2</th>\n",
       "      <td>张菲</td>\n",
       "      <td>女</td>\n",
       "      <td>18</td>\n",
       "      <td>550.0</td>\n",
       "      <td>湖南省长沙市雨花区</td>\n",
       "    </tr>\n",
       "    <tr>\n",
       "      <th>3</th>\n",
       "      <td>关宇</td>\n",
       "      <td>男</td>\n",
       "      <td>21</td>\n",
       "      <td>NaN</td>\n",
       "      <td>北京市东城区</td>\n",
       "    </tr>\n",
       "  </tbody>\n",
       "</table>\n",
       "</div>"
      ],
      "text/plain": [
       "  name sex  age  score    address\n",
       "0   小明   男   20    NaN  广东省深圳市南山区\n",
       "1   小王   女   23  600.0        NaN\n",
       "2   张菲   女   18  550.0  湖南省长沙市雨花区\n",
       "3   关宇   男   21    NaN     北京市东城区"
      ]
     },
     "execution_count": 58,
     "metadata": {},
     "output_type": "execute_result"
    }
   ],
   "source": [
    "# 6、!!!使用索引切片：同时包含起止位置\n",
    "\n",
    "df16 = df.loc[0:3]\n",
    "df16"
   ]
  },
  {
   "cell_type": "code",
   "execution_count": 59,
   "id": "3cf2f3a8",
   "metadata": {},
   "outputs": [
    {
     "data": {
      "text/html": [
       "<div>\n",
       "<style scoped>\n",
       "    .dataframe tbody tr th:only-of-type {\n",
       "        vertical-align: middle;\n",
       "    }\n",
       "\n",
       "    .dataframe tbody tr th {\n",
       "        vertical-align: top;\n",
       "    }\n",
       "\n",
       "    .dataframe thead th {\n",
       "        text-align: right;\n",
       "    }\n",
       "</style>\n",
       "<table border=\"1\" class=\"dataframe\">\n",
       "  <thead>\n",
       "    <tr style=\"text-align: right;\">\n",
       "      <th></th>\n",
       "      <th>name</th>\n",
       "      <th>sex</th>\n",
       "      <th>age</th>\n",
       "      <th>score</th>\n",
       "      <th>address</th>\n",
       "    </tr>\n",
       "  </thead>\n",
       "  <tbody>\n",
       "    <tr>\n",
       "      <th>0</th>\n",
       "      <td>小明</td>\n",
       "      <td>男</td>\n",
       "      <td>20</td>\n",
       "      <td>NaN</td>\n",
       "      <td>广东省深圳市南山区</td>\n",
       "    </tr>\n",
       "    <tr>\n",
       "      <th>1</th>\n",
       "      <td>小王</td>\n",
       "      <td>女</td>\n",
       "      <td>23</td>\n",
       "      <td>600.0</td>\n",
       "      <td>NaN</td>\n",
       "    </tr>\n",
       "    <tr>\n",
       "      <th>2</th>\n",
       "      <td>张菲</td>\n",
       "      <td>女</td>\n",
       "      <td>18</td>\n",
       "      <td>550.0</td>\n",
       "      <td>湖南省长沙市雨花区</td>\n",
       "    </tr>\n",
       "    <tr>\n",
       "      <th>3</th>\n",
       "      <td>关宇</td>\n",
       "      <td>男</td>\n",
       "      <td>21</td>\n",
       "      <td>NaN</td>\n",
       "      <td>北京市东城区</td>\n",
       "    </tr>\n",
       "    <tr>\n",
       "      <th>4</th>\n",
       "      <td>孙小小</td>\n",
       "      <td>女</td>\n",
       "      <td>25</td>\n",
       "      <td>610.0</td>\n",
       "      <td>广东省广州市白云区</td>\n",
       "    </tr>\n",
       "    <tr>\n",
       "      <th>5</th>\n",
       "      <td>王建国</td>\n",
       "      <td>男</td>\n",
       "      <td>21</td>\n",
       "      <td>580.0</td>\n",
       "      <td>湖北省武汉市江夏区</td>\n",
       "    </tr>\n",
       "    <tr>\n",
       "      <th>6</th>\n",
       "      <td>刘蓓</td>\n",
       "      <td>女</td>\n",
       "      <td>24</td>\n",
       "      <td>634.0</td>\n",
       "      <td>广东省深圳市龙华区</td>\n",
       "    </tr>\n",
       "  </tbody>\n",
       "</table>\n",
       "</div>"
      ],
      "text/plain": [
       "  name sex  age  score    address\n",
       "0   小明   男   20    NaN  广东省深圳市南山区\n",
       "1   小王   女   23  600.0        NaN\n",
       "2   张菲   女   18  550.0  湖南省长沙市雨花区\n",
       "3   关宇   男   21    NaN     北京市东城区\n",
       "4  孙小小   女   25  610.0  广东省广州市白云区\n",
       "5  王建国   男   21  580.0  湖北省武汉市江夏区\n",
       "6   刘蓓   女   24  634.0  广东省深圳市龙华区"
      ]
     },
     "execution_count": 59,
     "metadata": {},
     "output_type": "execute_result"
    }
   ],
   "source": [
    "df.loc[:]  # 表示所有数据"
   ]
  },
  {
   "cell_type": "code",
   "execution_count": 60,
   "id": "5294925e",
   "metadata": {},
   "outputs": [
    {
     "data": {
      "text/html": [
       "<div>\n",
       "<style scoped>\n",
       "    .dataframe tbody tr th:only-of-type {\n",
       "        vertical-align: middle;\n",
       "    }\n",
       "\n",
       "    .dataframe tbody tr th {\n",
       "        vertical-align: top;\n",
       "    }\n",
       "\n",
       "    .dataframe thead th {\n",
       "        text-align: right;\n",
       "    }\n",
       "</style>\n",
       "<table border=\"1\" class=\"dataframe\">\n",
       "  <thead>\n",
       "    <tr style=\"text-align: right;\">\n",
       "      <th></th>\n",
       "      <th>name</th>\n",
       "      <th>score</th>\n",
       "    </tr>\n",
       "  </thead>\n",
       "  <tbody>\n",
       "    <tr>\n",
       "      <th>0</th>\n",
       "      <td>小明</td>\n",
       "      <td>NaN</td>\n",
       "    </tr>\n",
       "    <tr>\n",
       "      <th>1</th>\n",
       "      <td>小王</td>\n",
       "      <td>600.0</td>\n",
       "    </tr>\n",
       "    <tr>\n",
       "      <th>2</th>\n",
       "      <td>张菲</td>\n",
       "      <td>550.0</td>\n",
       "    </tr>\n",
       "    <tr>\n",
       "      <th>3</th>\n",
       "      <td>关宇</td>\n",
       "      <td>NaN</td>\n",
       "    </tr>\n",
       "    <tr>\n",
       "      <th>4</th>\n",
       "      <td>孙小小</td>\n",
       "      <td>610.0</td>\n",
       "    </tr>\n",
       "    <tr>\n",
       "      <th>5</th>\n",
       "      <td>王建国</td>\n",
       "      <td>580.0</td>\n",
       "    </tr>\n",
       "    <tr>\n",
       "      <th>6</th>\n",
       "      <td>刘蓓</td>\n",
       "      <td>634.0</td>\n",
       "    </tr>\n",
       "  </tbody>\n",
       "</table>\n",
       "</div>"
      ],
      "text/plain": [
       "  name  score\n",
       "0   小明    NaN\n",
       "1   小王  600.0\n",
       "2   张菲  550.0\n",
       "3   关宇    NaN\n",
       "4  孙小小  610.0\n",
       "5  王建国  580.0\n",
       "6   刘蓓  634.0"
      ]
     },
     "execution_count": 60,
     "metadata": {},
     "output_type": "execute_result"
    }
   ],
   "source": [
    "# 7、列筛选的时候，必须有行元素\n",
    "\n",
    "# 所有行的name和score两列\n",
    "df17 = df.loc[:,[\"name\",\"score\"]]\n",
    "df17"
   ]
  },
  {
   "cell_type": "code",
   "execution_count": 61,
   "id": "d9893b1a",
   "metadata": {},
   "outputs": [
    {
     "data": {
      "text/html": [
       "<div>\n",
       "<style scoped>\n",
       "    .dataframe tbody tr th:only-of-type {\n",
       "        vertical-align: middle;\n",
       "    }\n",
       "\n",
       "    .dataframe tbody tr th {\n",
       "        vertical-align: top;\n",
       "    }\n",
       "\n",
       "    .dataframe thead th {\n",
       "        text-align: right;\n",
       "    }\n",
       "</style>\n",
       "<table border=\"1\" class=\"dataframe\">\n",
       "  <thead>\n",
       "    <tr style=\"text-align: right;\">\n",
       "      <th></th>\n",
       "      <th>age</th>\n",
       "      <th>score</th>\n",
       "      <th>address</th>\n",
       "    </tr>\n",
       "  </thead>\n",
       "  <tbody>\n",
       "    <tr>\n",
       "      <th>0</th>\n",
       "      <td>20</td>\n",
       "      <td>NaN</td>\n",
       "      <td>广东省深圳市南山区</td>\n",
       "    </tr>\n",
       "    <tr>\n",
       "      <th>1</th>\n",
       "      <td>23</td>\n",
       "      <td>600.0</td>\n",
       "      <td>NaN</td>\n",
       "    </tr>\n",
       "    <tr>\n",
       "      <th>2</th>\n",
       "      <td>18</td>\n",
       "      <td>550.0</td>\n",
       "      <td>湖南省长沙市雨花区</td>\n",
       "    </tr>\n",
       "    <tr>\n",
       "      <th>3</th>\n",
       "      <td>21</td>\n",
       "      <td>NaN</td>\n",
       "      <td>北京市东城区</td>\n",
       "    </tr>\n",
       "    <tr>\n",
       "      <th>4</th>\n",
       "      <td>25</td>\n",
       "      <td>610.0</td>\n",
       "      <td>广东省广州市白云区</td>\n",
       "    </tr>\n",
       "    <tr>\n",
       "      <th>5</th>\n",
       "      <td>21</td>\n",
       "      <td>580.0</td>\n",
       "      <td>湖北省武汉市江夏区</td>\n",
       "    </tr>\n",
       "    <tr>\n",
       "      <th>6</th>\n",
       "      <td>24</td>\n",
       "      <td>634.0</td>\n",
       "      <td>广东省深圳市龙华区</td>\n",
       "    </tr>\n",
       "  </tbody>\n",
       "</table>\n",
       "</div>"
      ],
      "text/plain": [
       "   age  score    address\n",
       "0   20    NaN  广东省深圳市南山区\n",
       "1   23  600.0        NaN\n",
       "2   18  550.0  湖南省长沙市雨花区\n",
       "3   21    NaN     北京市东城区\n",
       "4   25  610.0  广东省广州市白云区\n",
       "5   21  580.0  湖北省武汉市江夏区\n",
       "6   24  634.0  广东省深圳市龙华区"
      ]
     },
     "execution_count": 61,
     "metadata": {},
     "output_type": "execute_result"
    }
   ],
   "source": [
    "# 所有行的age及后面全部列\n",
    "\n",
    "df18 = df.loc[:,\"age\":]\n",
    "df18"
   ]
  },
  {
   "cell_type": "code",
   "execution_count": 62,
   "id": "145bcfc7",
   "metadata": {},
   "outputs": [
    {
     "data": {
      "text/html": [
       "<div>\n",
       "<style scoped>\n",
       "    .dataframe tbody tr th:only-of-type {\n",
       "        vertical-align: middle;\n",
       "    }\n",
       "\n",
       "    .dataframe tbody tr th {\n",
       "        vertical-align: top;\n",
       "    }\n",
       "\n",
       "    .dataframe thead th {\n",
       "        text-align: right;\n",
       "    }\n",
       "</style>\n",
       "<table border=\"1\" class=\"dataframe\">\n",
       "  <thead>\n",
       "    <tr style=\"text-align: right;\">\n",
       "      <th></th>\n",
       "      <th>age</th>\n",
       "      <th>score</th>\n",
       "      <th>address</th>\n",
       "    </tr>\n",
       "  </thead>\n",
       "  <tbody>\n",
       "    <tr>\n",
       "      <th>1</th>\n",
       "      <td>23</td>\n",
       "      <td>600.0</td>\n",
       "      <td>NaN</td>\n",
       "    </tr>\n",
       "    <tr>\n",
       "      <th>2</th>\n",
       "      <td>18</td>\n",
       "      <td>550.0</td>\n",
       "      <td>湖南省长沙市雨花区</td>\n",
       "    </tr>\n",
       "    <tr>\n",
       "      <th>3</th>\n",
       "      <td>21</td>\n",
       "      <td>NaN</td>\n",
       "      <td>北京市东城区</td>\n",
       "    </tr>\n",
       "  </tbody>\n",
       "</table>\n",
       "</div>"
      ],
      "text/plain": [
       "   age  score    address\n",
       "1   23  600.0        NaN\n",
       "2   18  550.0  湖南省长沙市雨花区\n",
       "3   21    NaN     北京市东城区"
      ]
     },
     "execution_count": 62,
     "metadata": {},
     "output_type": "execute_result"
    }
   ],
   "source": [
    "# 8、部分行，age及其后面的全部列\n",
    "\n",
    "# 谨记：包含起止位置，这是和python切片不同的地方\n",
    "\n",
    "df19 = df.loc[1:3,\"age\":]\n",
    "df19"
   ]
  },
  {
   "cell_type": "code",
   "execution_count": 68,
   "id": "c044833d",
   "metadata": {},
   "outputs": [
    {
     "data": {
      "text/html": [
       "<div>\n",
       "<style scoped>\n",
       "    .dataframe tbody tr th:only-of-type {\n",
       "        vertical-align: middle;\n",
       "    }\n",
       "\n",
       "    .dataframe tbody tr th {\n",
       "        vertical-align: top;\n",
       "    }\n",
       "\n",
       "    .dataframe thead th {\n",
       "        text-align: right;\n",
       "    }\n",
       "</style>\n",
       "<table border=\"1\" class=\"dataframe\">\n",
       "  <thead>\n",
       "    <tr style=\"text-align: right;\">\n",
       "      <th></th>\n",
       "      <th>小明</th>\n",
       "      <th>小红</th>\n",
       "      <th>小孙</th>\n",
       "    </tr>\n",
       "  </thead>\n",
       "  <tbody>\n",
       "    <tr>\n",
       "      <th>语文</th>\n",
       "      <td>101</td>\n",
       "      <td>102</td>\n",
       "      <td>140</td>\n",
       "    </tr>\n",
       "    <tr>\n",
       "      <th>数学</th>\n",
       "      <td>114</td>\n",
       "      <td>95</td>\n",
       "      <td>67</td>\n",
       "    </tr>\n",
       "    <tr>\n",
       "      <th>英语</th>\n",
       "      <td>87</td>\n",
       "      <td>128</td>\n",
       "      <td>117</td>\n",
       "    </tr>\n",
       "  </tbody>\n",
       "</table>\n",
       "</div>"
      ],
      "text/plain": [
       "     小明   小红   小孙\n",
       "语文  101  102  140\n",
       "数学  114   95   67\n",
       "英语   87  128  117"
      ]
     },
     "execution_count": 68,
     "metadata": {},
     "output_type": "execute_result"
    }
   ],
   "source": [
    "# 第一份模拟数据df0\n",
    "\n",
    "df0 = pd.DataFrame(\n",
    "    [[101, 102, 140], [114, 95, 67], [87, 128, 117]],\n",
    "    index=['语文', '数学', '英语'],\n",
    "    columns=['小明', '小红',\"小孙\"])\n",
    "\n",
    "df0\n"
   ]
  },
  {
   "cell_type": "code",
   "execution_count": 69,
   "id": "90bcbe8e",
   "metadata": {},
   "outputs": [
    {
     "data": {
      "text/plain": [
       "小明    101\n",
       "小红    102\n",
       "小孙    140\n",
       "Name: 语文, dtype: int64"
      ]
     },
     "execution_count": 69,
     "metadata": {},
     "output_type": "execute_result"
    }
   ],
   "source": [
    "# 9、针对非数值型行索引的取数\n",
    "\n",
    "df20 = df0.loc[\"语文\"]\n",
    "df20"
   ]
  },
  {
   "cell_type": "code",
   "execution_count": 70,
   "id": "064e131d",
   "metadata": {},
   "outputs": [
    {
     "data": {
      "text/html": [
       "<div>\n",
       "<style scoped>\n",
       "    .dataframe tbody tr th:only-of-type {\n",
       "        vertical-align: middle;\n",
       "    }\n",
       "\n",
       "    .dataframe tbody tr th {\n",
       "        vertical-align: top;\n",
       "    }\n",
       "\n",
       "    .dataframe thead th {\n",
       "        text-align: right;\n",
       "    }\n",
       "</style>\n",
       "<table border=\"1\" class=\"dataframe\">\n",
       "  <thead>\n",
       "    <tr style=\"text-align: right;\">\n",
       "      <th></th>\n",
       "      <th>小明</th>\n",
       "      <th>小红</th>\n",
       "      <th>小孙</th>\n",
       "    </tr>\n",
       "  </thead>\n",
       "  <tbody>\n",
       "    <tr>\n",
       "      <th>语文</th>\n",
       "      <td>101</td>\n",
       "      <td>102</td>\n",
       "      <td>140</td>\n",
       "    </tr>\n",
       "  </tbody>\n",
       "</table>\n",
       "</div>"
      ],
      "text/plain": [
       "     小明   小红   小孙\n",
       "语文  101  102  140"
      ]
     },
     "execution_count": 70,
     "metadata": {},
     "output_type": "execute_result"
    }
   ],
   "source": [
    "# 10、注意两个方括号取出的是DataFrame数据，单个括号是Series型数据\n",
    "\n",
    "df0.loc[[\"语文\"]]"
   ]
  },
  {
   "cell_type": "code",
   "execution_count": 71,
   "id": "08a3303b",
   "metadata": {},
   "outputs": [
    {
     "data": {
      "text/html": [
       "<div>\n",
       "<style scoped>\n",
       "    .dataframe tbody tr th:only-of-type {\n",
       "        vertical-align: middle;\n",
       "    }\n",
       "\n",
       "    .dataframe tbody tr th {\n",
       "        vertical-align: top;\n",
       "    }\n",
       "\n",
       "    .dataframe thead th {\n",
       "        text-align: right;\n",
       "    }\n",
       "</style>\n",
       "<table border=\"1\" class=\"dataframe\">\n",
       "  <thead>\n",
       "    <tr style=\"text-align: right;\">\n",
       "      <th></th>\n",
       "      <th>小明</th>\n",
       "      <th>小红</th>\n",
       "      <th>小孙</th>\n",
       "    </tr>\n",
       "  </thead>\n",
       "  <tbody>\n",
       "    <tr>\n",
       "      <th>语文</th>\n",
       "      <td>101</td>\n",
       "      <td>102</td>\n",
       "      <td>140</td>\n",
       "    </tr>\n",
       "    <tr>\n",
       "      <th>英语</th>\n",
       "      <td>87</td>\n",
       "      <td>128</td>\n",
       "      <td>117</td>\n",
       "    </tr>\n",
       "  </tbody>\n",
       "</table>\n",
       "</div>"
      ],
      "text/plain": [
       "     小明   小红   小孙\n",
       "语文  101  102  140\n",
       "英语   87  128  117"
      ]
     },
     "execution_count": 71,
     "metadata": {},
     "output_type": "execute_result"
    }
   ],
   "source": [
    "df0.loc[[\"语文\",\"英语\"]]"
   ]
  },
  {
   "cell_type": "code",
   "execution_count": 72,
   "id": "c68a780f",
   "metadata": {},
   "outputs": [
    {
     "data": {
      "text/plain": [
       "语文    101\n",
       "英语     87\n",
       "Name: 小明, dtype: int64"
      ]
     },
     "execution_count": 72,
     "metadata": {},
     "output_type": "execute_result"
    }
   ],
   "source": [
    "# 11、取出部分行和列数据\n",
    "\n",
    "df21 = df0.loc[[\"语文\",\"英语\"],\"小明\"]  \n",
    "df21"
   ]
  },
  {
   "cell_type": "code",
   "execution_count": 73,
   "id": "7185b5dc",
   "metadata": {},
   "outputs": [
    {
     "data": {
      "text/html": [
       "<div>\n",
       "<style scoped>\n",
       "    .dataframe tbody tr th:only-of-type {\n",
       "        vertical-align: middle;\n",
       "    }\n",
       "\n",
       "    .dataframe tbody tr th {\n",
       "        vertical-align: top;\n",
       "    }\n",
       "\n",
       "    .dataframe thead th {\n",
       "        text-align: right;\n",
       "    }\n",
       "</style>\n",
       "<table border=\"1\" class=\"dataframe\">\n",
       "  <thead>\n",
       "    <tr style=\"text-align: right;\">\n",
       "      <th></th>\n",
       "      <th>小明</th>\n",
       "      <th>小红</th>\n",
       "      <th>小孙</th>\n",
       "    </tr>\n",
       "  </thead>\n",
       "  <tbody>\n",
       "    <tr>\n",
       "      <th>语文</th>\n",
       "      <td>101</td>\n",
       "      <td>102</td>\n",
       "      <td>140</td>\n",
       "    </tr>\n",
       "    <tr>\n",
       "      <th>英语</th>\n",
       "      <td>87</td>\n",
       "      <td>128</td>\n",
       "      <td>117</td>\n",
       "    </tr>\n",
       "  </tbody>\n",
       "</table>\n",
       "</div>"
      ],
      "text/plain": [
       "     小明   小红   小孙\n",
       "语文  101  102  140\n",
       "英语   87  128  117"
      ]
     },
     "execution_count": 73,
     "metadata": {},
     "output_type": "execute_result"
    }
   ],
   "source": [
    "# 12、直接使用行索引名来取数\n",
    "\n",
    "df0.loc[[\"语文\",\"英语\"]]"
   ]
  },
  {
   "cell_type": "markdown",
   "id": "94d62a42",
   "metadata": {},
   "source": [
    "# # 两者对比"
   ]
  },
  {
   "cell_type": "code",
   "execution_count": 74,
   "id": "dbf5fe1e",
   "metadata": {},
   "outputs": [
    {
     "data": {
      "text/html": [
       "<div>\n",
       "<style scoped>\n",
       "    .dataframe tbody tr th:only-of-type {\n",
       "        vertical-align: middle;\n",
       "    }\n",
       "\n",
       "    .dataframe tbody tr th {\n",
       "        vertical-align: top;\n",
       "    }\n",
       "\n",
       "    .dataframe thead th {\n",
       "        text-align: right;\n",
       "    }\n",
       "</style>\n",
       "<table border=\"1\" class=\"dataframe\">\n",
       "  <thead>\n",
       "    <tr style=\"text-align: right;\">\n",
       "      <th></th>\n",
       "      <th>name</th>\n",
       "      <th>sex</th>\n",
       "      <th>age</th>\n",
       "      <th>score</th>\n",
       "      <th>address</th>\n",
       "    </tr>\n",
       "  </thead>\n",
       "  <tbody>\n",
       "    <tr>\n",
       "      <th>1</th>\n",
       "      <td>小王</td>\n",
       "      <td>女</td>\n",
       "      <td>23</td>\n",
       "      <td>600.0</td>\n",
       "      <td>NaN</td>\n",
       "    </tr>\n",
       "    <tr>\n",
       "      <th>2</th>\n",
       "      <td>张菲</td>\n",
       "      <td>女</td>\n",
       "      <td>18</td>\n",
       "      <td>550.0</td>\n",
       "      <td>湖南省长沙市雨花区</td>\n",
       "    </tr>\n",
       "  </tbody>\n",
       "</table>\n",
       "</div>"
      ],
      "text/plain": [
       "  name sex  age  score    address\n",
       "1   小王   女   23  600.0        NaN\n",
       "2   张菲   女   18  550.0  湖南省长沙市雨花区"
      ]
     },
     "execution_count": 74,
     "metadata": {},
     "output_type": "execute_result"
    }
   ],
   "source": [
    "df.loc[[1,2]]"
   ]
  },
  {
   "cell_type": "code",
   "execution_count": 75,
   "id": "ee14012e",
   "metadata": {},
   "outputs": [
    {
     "data": {
      "text/html": [
       "<div>\n",
       "<style scoped>\n",
       "    .dataframe tbody tr th:only-of-type {\n",
       "        vertical-align: middle;\n",
       "    }\n",
       "\n",
       "    .dataframe tbody tr th {\n",
       "        vertical-align: top;\n",
       "    }\n",
       "\n",
       "    .dataframe thead th {\n",
       "        text-align: right;\n",
       "    }\n",
       "</style>\n",
       "<table border=\"1\" class=\"dataframe\">\n",
       "  <thead>\n",
       "    <tr style=\"text-align: right;\">\n",
       "      <th></th>\n",
       "      <th>name</th>\n",
       "      <th>sex</th>\n",
       "      <th>age</th>\n",
       "      <th>score</th>\n",
       "      <th>address</th>\n",
       "    </tr>\n",
       "  </thead>\n",
       "  <tbody>\n",
       "    <tr>\n",
       "      <th>1</th>\n",
       "      <td>小王</td>\n",
       "      <td>女</td>\n",
       "      <td>23</td>\n",
       "      <td>600.0</td>\n",
       "      <td>NaN</td>\n",
       "    </tr>\n",
       "    <tr>\n",
       "      <th>2</th>\n",
       "      <td>张菲</td>\n",
       "      <td>女</td>\n",
       "      <td>18</td>\n",
       "      <td>550.0</td>\n",
       "      <td>湖南省长沙市雨花区</td>\n",
       "    </tr>\n",
       "  </tbody>\n",
       "</table>\n",
       "</div>"
      ],
      "text/plain": [
       "  name sex  age  score    address\n",
       "1   小王   女   23  600.0        NaN\n",
       "2   张菲   女   18  550.0  湖南省长沙市雨花区"
      ]
     },
     "execution_count": 75,
     "metadata": {},
     "output_type": "execute_result"
    }
   ],
   "source": [
    "df.iloc[[1,2]]"
   ]
  },
  {
   "cell_type": "code",
   "execution_count": 76,
   "id": "db77c922",
   "metadata": {},
   "outputs": [
    {
     "data": {
      "text/html": [
       "<div>\n",
       "<style scoped>\n",
       "    .dataframe tbody tr th:only-of-type {\n",
       "        vertical-align: middle;\n",
       "    }\n",
       "\n",
       "    .dataframe tbody tr th {\n",
       "        vertical-align: top;\n",
       "    }\n",
       "\n",
       "    .dataframe thead th {\n",
       "        text-align: right;\n",
       "    }\n",
       "</style>\n",
       "<table border=\"1\" class=\"dataframe\">\n",
       "  <thead>\n",
       "    <tr style=\"text-align: right;\">\n",
       "      <th></th>\n",
       "      <th>name</th>\n",
       "      <th>score</th>\n",
       "    </tr>\n",
       "  </thead>\n",
       "  <tbody>\n",
       "    <tr>\n",
       "      <th>1</th>\n",
       "      <td>小王</td>\n",
       "      <td>600.0</td>\n",
       "    </tr>\n",
       "    <tr>\n",
       "      <th>2</th>\n",
       "      <td>张菲</td>\n",
       "      <td>550.0</td>\n",
       "    </tr>\n",
       "  </tbody>\n",
       "</table>\n",
       "</div>"
      ],
      "text/plain": [
       "  name  score\n",
       "1   小王  600.0\n",
       "2   张菲  550.0"
      ]
     },
     "execution_count": 76,
     "metadata": {},
     "output_type": "execute_result"
    }
   ],
   "source": [
    "# 指定我们需要的列属性名\n",
    "\n",
    "df.loc[[1,2],[\"name\",\"score\"]]  "
   ]
  },
  {
   "cell_type": "code",
   "execution_count": 77,
   "id": "b0ba8654",
   "metadata": {},
   "outputs": [
    {
     "data": {
      "text/html": [
       "<div>\n",
       "<style scoped>\n",
       "    .dataframe tbody tr th:only-of-type {\n",
       "        vertical-align: middle;\n",
       "    }\n",
       "\n",
       "    .dataframe tbody tr th {\n",
       "        vertical-align: top;\n",
       "    }\n",
       "\n",
       "    .dataframe thead th {\n",
       "        text-align: right;\n",
       "    }\n",
       "</style>\n",
       "<table border=\"1\" class=\"dataframe\">\n",
       "  <thead>\n",
       "    <tr style=\"text-align: right;\">\n",
       "      <th></th>\n",
       "      <th>name</th>\n",
       "      <th>score</th>\n",
       "    </tr>\n",
       "  </thead>\n",
       "  <tbody>\n",
       "    <tr>\n",
       "      <th>1</th>\n",
       "      <td>小王</td>\n",
       "      <td>600.0</td>\n",
       "    </tr>\n",
       "    <tr>\n",
       "      <th>2</th>\n",
       "      <td>张菲</td>\n",
       "      <td>550.0</td>\n",
       "    </tr>\n",
       "  </tbody>\n",
       "</table>\n",
       "</div>"
      ],
      "text/plain": [
       "  name  score\n",
       "1   小王  600.0\n",
       "2   张菲  550.0"
      ]
     },
     "execution_count": 77,
     "metadata": {},
     "output_type": "execute_result"
    }
   ],
   "source": [
    "# 取出第1和2行，0和3列\n",
    "\n",
    "df.iloc[[1,2],np.r_[0,3]]"
   ]
  },
  {
   "cell_type": "markdown",
   "id": "e85dc479",
   "metadata": {},
   "source": [
    "at和iat\n",
    "at\n",
    "at函数类似于loc，但是at函数取出的仅仅是一个值"
   ]
  },
  {
   "cell_type": "code",
   "execution_count": 78,
   "id": "b9aed614",
   "metadata": {},
   "outputs": [
    {
     "data": {
      "text/plain": [
       "'女'"
      ]
     },
     "execution_count": 78,
     "metadata": {},
     "output_type": "execute_result"
    }
   ],
   "source": [
    "df22 = df.at[4,\"sex\"]\n",
    "df22"
   ]
  },
  {
   "cell_type": "code",
   "execution_count": 79,
   "id": "d84c48cd",
   "metadata": {},
   "outputs": [
    {
     "data": {
      "text/plain": [
       "'张菲'"
      ]
     },
     "execution_count": 79,
     "metadata": {},
     "output_type": "execute_result"
    }
   ],
   "source": [
    "df.at[2,\"name\"]"
   ]
  },
  {
   "cell_type": "code",
   "execution_count": 80,
   "id": "c1845203",
   "metadata": {},
   "outputs": [
    {
     "data": {
      "text/plain": [
       "140"
      ]
     },
     "execution_count": 80,
     "metadata": {},
     "output_type": "execute_result"
    }
   ],
   "source": [
    "# 同时指定索引和列名\n",
    "\n",
    "df23 = df0.at['语文','小孙']\n",
    "df23"
   ]
  },
  {
   "cell_type": "code",
   "execution_count": 81,
   "id": "de247e9e",
   "metadata": {},
   "outputs": [
    {
     "data": {
      "text/plain": [
       "23"
      ]
     },
     "execution_count": 81,
     "metadata": {},
     "output_type": "execute_result"
    }
   ],
   "source": [
    "# at、loc连用\n",
    "\n",
    "df.loc[1].at['age']"
   ]
  },
  {
   "cell_type": "code",
   "execution_count": 82,
   "id": "146b1451",
   "metadata": {},
   "outputs": [
    {
     "data": {
      "text/plain": [
       "'孙小小'"
      ]
     },
     "execution_count": 82,
     "metadata": {},
     "output_type": "execute_result"
    }
   ],
   "source": [
    "# 列名为name的第4个元素\n",
    "df.name.at[4]   "
   ]
  },
  {
   "cell_type": "markdown",
   "id": "d8f16189",
   "metadata": {},
   "source": [
    "iat\n",
    "和iloc一样，仅仅支持对数字索引操作"
   ]
  },
  {
   "cell_type": "code",
   "execution_count": 83,
   "id": "bd43ca85",
   "metadata": {},
   "outputs": [
    {
     "data": {
      "text/plain": [
       "'湖南省长沙市雨花区'"
      ]
     },
     "execution_count": 83,
     "metadata": {},
     "output_type": "execute_result"
    }
   ],
   "source": [
    "df24 = df.iat[2,4]\n",
    "df24"
   ]
  },
  {
   "cell_type": "code",
   "execution_count": 84,
   "id": "80c17124",
   "metadata": {},
   "outputs": [
    {
     "data": {
      "text/plain": [
       "'湖南省长沙市雨花区'"
      ]
     },
     "execution_count": 84,
     "metadata": {},
     "output_type": "execute_result"
    }
   ],
   "source": [
    "df.loc[2].iat[4]"
   ]
  },
  {
   "cell_type": "code",
   "execution_count": 85,
   "id": "9a0ff1ca",
   "metadata": {},
   "outputs": [
    {
     "data": {
      "text/plain": [
       "'湖南省长沙市雨花区'"
      ]
     },
     "execution_count": 85,
     "metadata": {},
     "output_type": "execute_result"
    }
   ],
   "source": [
    "df.iloc[2].iat[4]"
   ]
  },
  {
   "cell_type": "markdown",
   "id": "a0df4c5d",
   "metadata": {},
   "source": [
    "any和all\n",
    "any：如果至少有一个为True，则为True\n",
    "all：需要所有结果为True，才会为True\n",
    "当传入的axis=1，会按照行进行查询；axis=0表示按照列查询"
   ]
  },
  {
   "cell_type": "markdown",
   "id": "d3b29199",
   "metadata": {},
   "source": [
    "### 在Series数据的比较"
   ]
  },
  {
   "cell_type": "code",
   "execution_count": 86,
   "id": "fd013a5f",
   "metadata": {},
   "outputs": [
    {
     "data": {
      "text/plain": [
       "False"
      ]
     },
     "execution_count": 86,
     "metadata": {},
     "output_type": "execute_result"
    }
   ],
   "source": [
    "# 两个False通过any结果为False\n",
    "\n",
    "pd.Series([False, False]).any()   # False"
   ]
  },
  {
   "cell_type": "code",
   "execution_count": 87,
   "id": "7a015fc0",
   "metadata": {},
   "outputs": [
    {
     "data": {
      "text/plain": [
       "True"
      ]
     },
     "execution_count": 87,
     "metadata": {},
     "output_type": "execute_result"
    }
   ],
   "source": [
    "pd.Series([True, False]).any()  # True"
   ]
  },
  {
   "cell_type": "code",
   "execution_count": 88,
   "id": "e8f13d56",
   "metadata": {},
   "outputs": [
    {
     "data": {
      "text/plain": [
       "False"
      ]
     },
     "execution_count": 88,
     "metadata": {},
     "output_type": "execute_result"
    }
   ],
   "source": [
    "pd.Series([True, False]).all()  # False"
   ]
  },
  {
   "cell_type": "code",
   "execution_count": 89,
   "id": "38ec2c65",
   "metadata": {},
   "outputs": [
    {
     "data": {
      "text/plain": [
       "False"
      ]
     },
     "execution_count": 89,
     "metadata": {},
     "output_type": "execute_result"
    }
   ],
   "source": [
    "# any：是否跳过空值\n",
    "\n",
    "pd.Series([np.nan]).any()  # False"
   ]
  },
  {
   "cell_type": "code",
   "execution_count": 90,
   "id": "83f0722c",
   "metadata": {},
   "outputs": [
    {
     "data": {
      "text/plain": [
       "True"
      ]
     },
     "execution_count": 90,
     "metadata": {},
     "output_type": "execute_result"
    }
   ],
   "source": [
    "pd.Series([np.nan]).any(skipna=False)  # True"
   ]
  },
  {
   "cell_type": "code",
   "execution_count": 91,
   "id": "c4d31a73",
   "metadata": {},
   "outputs": [
    {
     "data": {
      "text/plain": [
       "True"
      ]
     },
     "execution_count": 91,
     "metadata": {},
     "output_type": "execute_result"
    }
   ],
   "source": [
    "# all：是否跳过空值\n",
    "\n",
    "pd.Series([np.nan]).all()  # True"
   ]
  },
  {
   "cell_type": "code",
   "execution_count": 92,
   "id": "d595b55c",
   "metadata": {},
   "outputs": [
    {
     "data": {
      "text/plain": [
       "True"
      ]
     },
     "execution_count": 92,
     "metadata": {},
     "output_type": "execute_result"
    }
   ],
   "source": [
    "pd.Series([np.nan]).all(skipna=False)  #True  "
   ]
  },
  {
   "cell_type": "markdown",
   "id": "a68f2dc5",
   "metadata": {},
   "source": [
    "### 在DataFrame的比较"
   ]
  },
  {
   "cell_type": "code",
   "execution_count": 93,
   "id": "3929cefd",
   "metadata": {},
   "outputs": [
    {
     "data": {
      "text/html": [
       "<div>\n",
       "<style scoped>\n",
       "    .dataframe tbody tr th:only-of-type {\n",
       "        vertical-align: middle;\n",
       "    }\n",
       "\n",
       "    .dataframe tbody tr th {\n",
       "        vertical-align: top;\n",
       "    }\n",
       "\n",
       "    .dataframe thead th {\n",
       "        text-align: right;\n",
       "    }\n",
       "</style>\n",
       "<table border=\"1\" class=\"dataframe\">\n",
       "  <thead>\n",
       "    <tr style=\"text-align: right;\">\n",
       "      <th></th>\n",
       "      <th>小明</th>\n",
       "      <th>小红</th>\n",
       "    </tr>\n",
       "  </thead>\n",
       "  <tbody>\n",
       "    <tr>\n",
       "      <th>语文</th>\n",
       "      <td>101</td>\n",
       "      <td>102</td>\n",
       "    </tr>\n",
       "    <tr>\n",
       "      <th>数学</th>\n",
       "      <td>114</td>\n",
       "      <td>95</td>\n",
       "    </tr>\n",
       "    <tr>\n",
       "      <th>英语</th>\n",
       "      <td>87</td>\n",
       "      <td>128</td>\n",
       "    </tr>\n",
       "  </tbody>\n",
       "</table>\n",
       "</div>"
      ],
      "text/plain": [
       "     小明   小红\n",
       "语文  101  102\n",
       "数学  114   95\n",
       "英语   87  128"
      ]
     },
     "execution_count": 93,
     "metadata": {},
     "output_type": "execute_result"
    }
   ],
   "source": [
    "# 1、取出待查询的数据\n",
    "df0.loc[:,[\"小明\",\"小红\"]]"
   ]
  },
  {
   "cell_type": "code",
   "execution_count": 94,
   "id": "d6482208",
   "metadata": {},
   "outputs": [
    {
     "data": {
      "text/html": [
       "<div>\n",
       "<style scoped>\n",
       "    .dataframe tbody tr th:only-of-type {\n",
       "        vertical-align: middle;\n",
       "    }\n",
       "\n",
       "    .dataframe tbody tr th {\n",
       "        vertical-align: top;\n",
       "    }\n",
       "\n",
       "    .dataframe thead th {\n",
       "        text-align: right;\n",
       "    }\n",
       "</style>\n",
       "<table border=\"1\" class=\"dataframe\">\n",
       "  <thead>\n",
       "    <tr style=\"text-align: right;\">\n",
       "      <th></th>\n",
       "      <th>小明</th>\n",
       "      <th>小红</th>\n",
       "    </tr>\n",
       "  </thead>\n",
       "  <tbody>\n",
       "    <tr>\n",
       "      <th>语文</th>\n",
       "      <td>True</td>\n",
       "      <td>True</td>\n",
       "    </tr>\n",
       "    <tr>\n",
       "      <th>数学</th>\n",
       "      <td>True</td>\n",
       "      <td>False</td>\n",
       "    </tr>\n",
       "    <tr>\n",
       "      <th>英语</th>\n",
       "      <td>False</td>\n",
       "      <td>True</td>\n",
       "    </tr>\n",
       "  </tbody>\n",
       "</table>\n",
       "</div>"
      ],
      "text/plain": [
       "       小明     小红\n",
       "语文   True   True\n",
       "数学   True  False\n",
       "英语  False   True"
      ]
     },
     "execution_count": 94,
     "metadata": {},
     "output_type": "execute_result"
    }
   ],
   "source": [
    "# 2、进行比较\n",
    "df0.loc[:,[\"小明\",\"小红\"]] >= 100"
   ]
  },
  {
   "cell_type": "code",
   "execution_count": 95,
   "id": "9098b31d",
   "metadata": {},
   "outputs": [
    {
     "data": {
      "text/html": [
       "<div>\n",
       "<style scoped>\n",
       "    .dataframe tbody tr th:only-of-type {\n",
       "        vertical-align: middle;\n",
       "    }\n",
       "\n",
       "    .dataframe tbody tr th {\n",
       "        vertical-align: top;\n",
       "    }\n",
       "\n",
       "    .dataframe thead th {\n",
       "        text-align: right;\n",
       "    }\n",
       "</style>\n",
       "<table border=\"1\" class=\"dataframe\">\n",
       "  <thead>\n",
       "    <tr style=\"text-align: right;\">\n",
       "      <th></th>\n",
       "      <th>小明</th>\n",
       "      <th>小红</th>\n",
       "      <th>小孙</th>\n",
       "    </tr>\n",
       "  </thead>\n",
       "  <tbody>\n",
       "    <tr>\n",
       "      <th>语文</th>\n",
       "      <td>101</td>\n",
       "      <td>102</td>\n",
       "      <td>140</td>\n",
       "    </tr>\n",
       "    <tr>\n",
       "      <th>数学</th>\n",
       "      <td>114</td>\n",
       "      <td>95</td>\n",
       "      <td>67</td>\n",
       "    </tr>\n",
       "    <tr>\n",
       "      <th>英语</th>\n",
       "      <td>87</td>\n",
       "      <td>128</td>\n",
       "      <td>117</td>\n",
       "    </tr>\n",
       "  </tbody>\n",
       "</table>\n",
       "</div>"
      ],
      "text/plain": [
       "     小明   小红   小孙\n",
       "语文  101  102  140\n",
       "数学  114   95   67\n",
       "英语   87  128  117"
      ]
     },
     "execution_count": 95,
     "metadata": {},
     "output_type": "execute_result"
    }
   ],
   "source": [
    "# 3、使用any函数筛选\n",
    "\n",
    "df0[(df0.loc[:,[\"小明\",\"小红\"]] >= 100).any(1)]"
   ]
  },
  {
   "cell_type": "code",
   "execution_count": 96,
   "id": "dc03efaf",
   "metadata": {},
   "outputs": [
    {
     "data": {
      "text/html": [
       "<div>\n",
       "<style scoped>\n",
       "    .dataframe tbody tr th:only-of-type {\n",
       "        vertical-align: middle;\n",
       "    }\n",
       "\n",
       "    .dataframe tbody tr th {\n",
       "        vertical-align: top;\n",
       "    }\n",
       "\n",
       "    .dataframe thead th {\n",
       "        text-align: right;\n",
       "    }\n",
       "</style>\n",
       "<table border=\"1\" class=\"dataframe\">\n",
       "  <thead>\n",
       "    <tr style=\"text-align: right;\">\n",
       "      <th></th>\n",
       "      <th>小明</th>\n",
       "      <th>小红</th>\n",
       "      <th>小孙</th>\n",
       "    </tr>\n",
       "  </thead>\n",
       "  <tbody>\n",
       "    <tr>\n",
       "      <th>语文</th>\n",
       "      <td>101</td>\n",
       "      <td>102</td>\n",
       "      <td>140</td>\n",
       "    </tr>\n",
       "  </tbody>\n",
       "</table>\n",
       "</div>"
      ],
      "text/plain": [
       "     小明   小红   小孙\n",
       "语文  101  102  140"
      ]
     },
     "execution_count": 96,
     "metadata": {},
     "output_type": "execute_result"
    }
   ],
   "source": [
    "# 4、使用all函数筛选：只有语文满足3个人同时大于100\n",
    "\n",
    "df0[(df0.loc[:,[\"小明\",\"小红\"]] >= 100).all(1)]"
   ]
  },
  {
   "cell_type": "code",
   "execution_count": null,
   "id": "f5b94930",
   "metadata": {},
   "outputs": [],
   "source": []
  }
 ],
 "metadata": {
  "kernelspec": {
   "display_name": "Python 3",
   "language": "python",
   "name": "python3"
  },
  "language_info": {
   "codemirror_mode": {
    "name": "ipython",
    "version": 3
   },
   "file_extension": ".py",
   "mimetype": "text/x-python",
   "name": "python",
   "nbconvert_exporter": "python",
   "pygments_lexer": "ipython3",
   "version": "3.8.8"
  }
 },
 "nbformat": 4,
 "nbformat_minor": 5
}
